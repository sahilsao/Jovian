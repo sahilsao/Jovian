{
 "cells": [
  {
   "cell_type": "markdown",
   "metadata": {
    "id": "NYAL8PSyoN0Z"
   },
   "source": [
    "# Numpy Functions\n",
    "\n",
    "\n",
    "### 5 useful numpy functions\n",
    "\n",
    "The most important object defined in NumPy is an N-dimensional array type called ndarray. It describes the collection of items of the same type. By using different type of functions we can manupilate arrays, create arrays etc.\n",
    "\n",
    "- function 1 = add = np.char.add\n",
    "- function 2 = Transpose = transpose(arr,axes)\n",
    "- function 3 = Reshape = np.reshape\n",
    "- function 4 = horizontal split = hsplit(arr,size)\n",
    "- function 5 = append = append(arr, values, axis)\n",
    "\n",
    "The recommended way to run this notebook is to click the \"Run\" button at the top of this page, and select \"Run on Binder\". This will run the notebook on mybinder.org, a free online service for running Jupyter notebooks."
   ]
  },
  {
   "cell_type": "code",
   "execution_count": 13,
   "metadata": {
    "executionInfo": {
     "elapsed": 7736,
     "status": "ok",
     "timestamp": 1601111167959,
     "user": {
      "displayName": "Sahil Sao",
      "photoUrl": "https://lh3.googleusercontent.com/a-/AOh14Gg8qtnIEWfY17Wv11en7MX60Lf7--o4RzGsLgN1iA=s64",
      "userId": "16292347190877917467"
     },
     "user_tz": -330
    },
    "id": "6JcGizsWoN0c"
   },
   "outputs": [],
   "source": [
    "!pip install jovian --upgrade -q"
   ]
  },
  {
   "cell_type": "code",
   "execution_count": 14,
   "metadata": {
    "executionInfo": {
     "elapsed": 7712,
     "status": "ok",
     "timestamp": 1601111167962,
     "user": {
      "displayName": "Sahil Sao",
      "photoUrl": "https://lh3.googleusercontent.com/a-/AOh14Gg8qtnIEWfY17Wv11en7MX60Lf7--o4RzGsLgN1iA=s64",
      "userId": "16292347190877917467"
     },
     "user_tz": -330
    },
    "id": "Net9b-JuoN0w"
   },
   "outputs": [],
   "source": [
    "import jovian"
   ]
  },
  {
   "cell_type": "code",
   "execution_count": 15,
   "metadata": {
    "colab": {
     "base_uri": "https://localhost:8080/",
     "height": 86
    },
    "executionInfo": {
     "elapsed": 10148,
     "status": "ok",
     "timestamp": 1601111170425,
     "user": {
      "displayName": "Sahil Sao",
      "photoUrl": "https://lh3.googleusercontent.com/a-/AOh14Gg8qtnIEWfY17Wv11en7MX60Lf7--o4RzGsLgN1iA=s64",
      "userId": "16292347190877917467"
     },
     "user_tz": -330
    },
    "id": "Su0k_1XjoN09",
    "outputId": "63012aa9-af45-402c-8aa3-872543959e9d"
   },
   "outputs": [
    {
     "name": "stdout",
     "output_type": "stream",
     "text": [
      "[jovian] Detected Colab notebook...\u001b[0m\n",
      "[jovian] Uploading colab notebook to Jovian...\u001b[0m\n",
      "[jovian] Committed successfully! https://jovian.ml/sahilfaizal/numpy-array-operations\u001b[0m\n"
     ]
    },
    {
     "data": {
      "application/vnd.google.colaboratory.intrinsic+json": {
       "type": "string"
      },
      "text/plain": [
       "'https://jovian.ml/sahilfaizal/numpy-array-operations'"
      ]
     },
     "execution_count": 15,
     "metadata": {
      "tags": []
     },
     "output_type": "execute_result"
    }
   ],
   "source": [
    "jovian.commit(project='numpy-array-operations')"
   ]
  },
  {
   "cell_type": "markdown",
   "metadata": {
    "id": "Q8tulDsboN1Q"
   },
   "source": [
    "Let's begin by importing Numpy and listing out the functions covered in this notebook."
   ]
  },
  {
   "cell_type": "code",
   "execution_count": 16,
   "metadata": {
    "executionInfo": {
     "elapsed": 10126,
     "status": "ok",
     "timestamp": 1601111170427,
     "user": {
      "displayName": "Sahil Sao",
      "photoUrl": "https://lh3.googleusercontent.com/a-/AOh14Gg8qtnIEWfY17Wv11en7MX60Lf7--o4RzGsLgN1iA=s64",
      "userId": "16292347190877917467"
     },
     "user_tz": -330
    },
    "id": "8PgYQYrhoN1T"
   },
   "outputs": [],
   "source": [
    "import numpy as np"
   ]
  },
  {
   "cell_type": "code",
   "execution_count": 17,
   "metadata": {
    "executionInfo": {
     "elapsed": 10115,
     "status": "ok",
     "timestamp": 1601111170429,
     "user": {
      "displayName": "Sahil Sao",
      "photoUrl": "https://lh3.googleusercontent.com/a-/AOh14Gg8qtnIEWfY17Wv11en7MX60Lf7--o4RzGsLgN1iA=s64",
      "userId": "16292347190877917467"
     },
     "user_tz": -330
    },
    "id": "l8nmVzHfoN1g"
   },
   "outputs": [],
   "source": [
    "# List of functions explained \n",
    "function1 = np.char.add\n",
    "function2 = np.transpose\n",
    "function3 = np.swapaxes\n",
    "function4 = np.hsplit\n",
    "function5 = np.append"
   ]
  },
  {
   "cell_type": "markdown",
   "metadata": {
    "id": "pe1LpOFvoN1v"
   },
   "source": [
    "## Function 1 -  numpy.char.add\n",
    "This function concatenates element-wise the strings of two matrices.\n"
   ]
  },
  {
   "cell_type": "code",
   "execution_count": 18,
   "metadata": {
    "colab": {
     "base_uri": "https://localhost:8080/",
     "height": 51
    },
    "executionInfo": {
     "elapsed": 10090,
     "status": "ok",
     "timestamp": 1601111170431,
     "user": {
      "displayName": "Sahil Sao",
      "photoUrl": "https://lh3.googleusercontent.com/a-/AOh14Gg8qtnIEWfY17Wv11en7MX60Lf7--o4RzGsLgN1iA=s64",
      "userId": "16292347190877917467"
     },
     "user_tz": -330
    },
    "id": "LSfrQoTboN1y",
    "outputId": "721d621d-3ad9-4fde-a33e-93f23ce7a33f"
   },
   "outputs": [
    {
     "data": {
      "text/plain": [
       "array([['appledog', 'managolion'],\n",
       "       ['bananacat', 'watermelontiger']], dtype='<U15')"
      ]
     },
     "execution_count": 18,
     "metadata": {
      "tags": []
     },
     "output_type": "execute_result"
    }
   ],
   "source": [
    "# Example 1 - working \n",
    "arr1 = [[\"apple\", \"manago\"],\n",
    "        [\"banana\", \"watermelon\"]]\n",
    "arr2 = [[\"dog\", \"lion\"],\n",
    "        [\"cat\", \"tiger\"]]\n",
    "np.char.add(arr1, arr2)"
   ]
  },
  {
   "cell_type": "markdown",
   "metadata": {
    "id": "pPMoXMrroN1_"
   },
   "source": [
    "Displays added array"
   ]
  },
  {
   "cell_type": "code",
   "execution_count": 19,
   "metadata": {
    "colab": {
     "base_uri": "https://localhost:8080/",
     "height": 51
    },
    "executionInfo": {
     "elapsed": 10053,
     "status": "ok",
     "timestamp": 1601111170433,
     "user": {
      "displayName": "Sahil Sao",
      "photoUrl": "https://lh3.googleusercontent.com/a-/AOh14Gg8qtnIEWfY17Wv11en7MX60Lf7--o4RzGsLgN1iA=s64",
      "userId": "16292347190877917467"
     },
     "user_tz": -330
    },
    "id": "FrHDqQDtoN2B",
    "outputId": "24122962-f992-4ab2-bb87-833cefbff750"
   },
   "outputs": [
    {
     "data": {
      "text/plain": [
       "array([['apple dog', 'manago lion'],\n",
       "       ['banana cat', 'watermelon tiger']], dtype='<U16')"
      ]
     },
     "execution_count": 19,
     "metadata": {
      "tags": []
     },
     "output_type": "execute_result"
    }
   ],
   "source": [
    "# Example 2 - working\n",
    "arr1 = [[\"apple\", \"manago\"],\n",
    "        [\"banana\", \"watermelon\"]]\n",
    "arr2 = [[\"dog\", \"lion\"],\n",
    "        [\"cat\", \"tiger\"]]\n",
    "arr1 = np.char.add(arr1, \" \")\n",
    "np.char.add(arr1, arr2)"
   ]
  },
  {
   "cell_type": "markdown",
   "metadata": {
    "id": "r0N27yzEoN2K"
   },
   "source": [
    "Displays added array"
   ]
  },
  {
   "cell_type": "code",
   "execution_count": 20,
   "metadata": {
    "colab": {
     "base_uri": "https://localhost:8080/",
     "height": 350
    },
    "executionInfo": {
     "elapsed": 10105,
     "status": "error",
     "timestamp": 1601111170536,
     "user": {
      "displayName": "Sahil Sao",
      "photoUrl": "https://lh3.googleusercontent.com/a-/AOh14Gg8qtnIEWfY17Wv11en7MX60Lf7--o4RzGsLgN1iA=s64",
      "userId": "16292347190877917467"
     },
     "user_tz": -330
    },
    "id": "CeqmvOeUoN2M",
    "outputId": "d2c09ffb-b2b6-41fe-d009-6a7ee400166f"
   },
   "outputs": [
    {
     "ename": "TypeError",
     "evalue": "ignored",
     "output_type": "error",
     "traceback": [
      "\u001b[0;31m---------------------------------------------------------------------------\u001b[0m",
      "\u001b[0;31mTypeError\u001b[0m                                 Traceback (most recent call last)",
      "\u001b[0;32m<ipython-input-20-5cb7ba1043d5>\u001b[0m in \u001b[0;36m<module>\u001b[0;34m()\u001b[0m\n\u001b[1;32m      4\u001b[0m arr2 = [[1, 2],\n\u001b[1;32m      5\u001b[0m         [3, 4]]\n\u001b[0;32m----> 6\u001b[0;31m \u001b[0mnp\u001b[0m\u001b[0;34m.\u001b[0m\u001b[0mchar\u001b[0m\u001b[0;34m.\u001b[0m\u001b[0madd\u001b[0m\u001b[0;34m(\u001b[0m\u001b[0marr1\u001b[0m\u001b[0;34m,\u001b[0m \u001b[0marr2\u001b[0m\u001b[0;34m)\u001b[0m\u001b[0;34m\u001b[0m\u001b[0;34m\u001b[0m\u001b[0m\n\u001b[0m",
      "\u001b[0;32m<__array_function__ internals>\u001b[0m in \u001b[0;36madd\u001b[0;34m(*args, **kwargs)\u001b[0m\n",
      "\u001b[0;32m/usr/local/lib/python3.6/dist-packages/numpy/core/defchararray.py\u001b[0m in \u001b[0;36madd\u001b[0;34m(x1, x2)\u001b[0m\n\u001b[1;32m    314\u001b[0m     \u001b[0mout_size\u001b[0m \u001b[0;34m=\u001b[0m \u001b[0m_get_num_chars\u001b[0m\u001b[0;34m(\u001b[0m\u001b[0marr1\u001b[0m\u001b[0;34m)\u001b[0m \u001b[0;34m+\u001b[0m \u001b[0m_get_num_chars\u001b[0m\u001b[0;34m(\u001b[0m\u001b[0marr2\u001b[0m\u001b[0;34m)\u001b[0m\u001b[0;34m\u001b[0m\u001b[0;34m\u001b[0m\u001b[0m\n\u001b[1;32m    315\u001b[0m     \u001b[0mdtype\u001b[0m \u001b[0;34m=\u001b[0m \u001b[0m_use_unicode\u001b[0m\u001b[0;34m(\u001b[0m\u001b[0marr1\u001b[0m\u001b[0;34m,\u001b[0m \u001b[0marr2\u001b[0m\u001b[0;34m)\u001b[0m\u001b[0;34m\u001b[0m\u001b[0;34m\u001b[0m\u001b[0m\n\u001b[0;32m--> 316\u001b[0;31m     \u001b[0;32mreturn\u001b[0m \u001b[0m_vec_string\u001b[0m\u001b[0;34m(\u001b[0m\u001b[0marr1\u001b[0m\u001b[0;34m,\u001b[0m \u001b[0;34m(\u001b[0m\u001b[0mdtype\u001b[0m\u001b[0;34m,\u001b[0m \u001b[0mout_size\u001b[0m\u001b[0;34m)\u001b[0m\u001b[0;34m,\u001b[0m \u001b[0;34m'__add__'\u001b[0m\u001b[0;34m,\u001b[0m \u001b[0;34m(\u001b[0m\u001b[0marr2\u001b[0m\u001b[0;34m,\u001b[0m\u001b[0;34m)\u001b[0m\u001b[0;34m)\u001b[0m\u001b[0;34m\u001b[0m\u001b[0;34m\u001b[0m\u001b[0m\n\u001b[0m\u001b[1;32m    317\u001b[0m \u001b[0;34m\u001b[0m\u001b[0m\n\u001b[1;32m    318\u001b[0m \u001b[0;34m\u001b[0m\u001b[0m\n",
      "\u001b[0;31mTypeError\u001b[0m: must be str, not numpy.int64"
     ]
    }
   ],
   "source": [
    "# Example 3 - breaking (to illustrate when it breaks)\n",
    "arr1 = [[\"L\", \"I\"],\n",
    "        [\"D\", \"S\"]]\n",
    "arr2 = [[1, 2],\n",
    "        [3, 4]]\n",
    "np.char.add(arr1, arr2)\n"
   ]
  },
  {
   "cell_type": "markdown",
   "metadata": {
    "id": "et0zcIgyoN2Y"
   },
   "source": [
    "One way to fix this is to enter the numbers as charachters (strings of length 1)."
   ]
  },
  {
   "cell_type": "markdown",
   "metadata": {
    "id": "o7lvIszooN2a"
   },
   "source": [
    "this is about char add function."
   ]
  },
  {
   "cell_type": "code",
   "execution_count": null,
   "metadata": {
    "executionInfo": {
     "elapsed": 9950,
     "status": "aborted",
     "timestamp": 1601111170434,
     "user": {
      "displayName": "Sahil Sao",
      "photoUrl": "https://lh3.googleusercontent.com/a-/AOh14Gg8qtnIEWfY17Wv11en7MX60Lf7--o4RzGsLgN1iA=s64",
      "userId": "16292347190877917467"
     },
     "user_tz": -330
    },
    "id": "XIJg4x9RoN2b"
   },
   "outputs": [],
   "source": [
    "jovian.commit()"
   ]
  },
  {
   "cell_type": "markdown",
   "metadata": {
    "id": "PUjMB-GDoN2k"
   },
   "source": [
    "## Function 2 - Transpose\n",
    "\n",
    "This function permutes the dimension of the given array. It returns a view wherever possible. The function takes the following parameters: numpy.transpose(arr, axes), Here arr:The array to be transposed, axes:List of ints, corresponding to the dimensions. By default, the dimensions are reversed"
   ]
  },
  {
   "cell_type": "code",
   "execution_count": null,
   "metadata": {
    "executionInfo": {
     "elapsed": 9914,
     "status": "aborted",
     "timestamp": 1601111170436,
     "user": {
      "displayName": "Sahil Sao",
      "photoUrl": "https://lh3.googleusercontent.com/a-/AOh14Gg8qtnIEWfY17Wv11en7MX60Lf7--o4RzGsLgN1iA=s64",
      "userId": "16292347190877917467"
     },
     "user_tz": -330
    },
    "id": "9au_DYyCoN2m"
   },
   "outputs": [],
   "source": [
    "# Example 1 - working\n",
    "a = np.arange(16).reshape(2,2,4) \n",
    "\n",
    "print ('The original array is:' )\n",
    "print (a)  \n",
    "print ('\\n') \n",
    "\n",
    "print('The transposed array is:') \n",
    "print (np.transpose(a,(1,0,2)))"
   ]
  },
  {
   "cell_type": "markdown",
   "metadata": {
    "id": "cCl5w4vOoN2z"
   },
   "source": [
    "Changing elements in specific positions"
   ]
  },
  {
   "cell_type": "code",
   "execution_count": null,
   "metadata": {
    "executionInfo": {
     "elapsed": 9884,
     "status": "aborted",
     "timestamp": 1601111170438,
     "user": {
      "displayName": "Sahil Sao",
      "photoUrl": "https://lh3.googleusercontent.com/a-/AOh14Gg8qtnIEWfY17Wv11en7MX60Lf7--o4RzGsLgN1iA=s64",
      "userId": "16292347190877917467"
     },
     "user_tz": -330
    },
    "id": "ngOayMutoN20"
   },
   "outputs": [],
   "source": [
    "# Example 2 - working\n",
    "a = np.arange(12).reshape(3,4) \n",
    "\n",
    "print ('The original array is:' )\n",
    "print (a)  \n",
    "print ('\\n') \n",
    "\n",
    "print('The transposed array is:') \n",
    "print ( np.transpose(a))"
   ]
  },
  {
   "cell_type": "markdown",
   "metadata": {
    "id": "qizakEjBoN24"
   },
   "source": [
    "Normal Transpose"
   ]
  },
  {
   "cell_type": "code",
   "execution_count": null,
   "metadata": {
    "executionInfo": {
     "elapsed": 9864,
     "status": "aborted",
     "timestamp": 1601111170440,
     "user": {
      "displayName": "Sahil Sao",
      "photoUrl": "https://lh3.googleusercontent.com/a-/AOh14Gg8qtnIEWfY17Wv11en7MX60Lf7--o4RzGsLgN1iA=s64",
      "userId": "16292347190877917467"
     },
     "user_tz": -330
    },
    "id": "T3PvcnuloN25"
   },
   "outputs": [],
   "source": [
    "# Example 3 - breaking (to illustrate when it breaks)\n",
    "a = np.arange(12).reshape(3,4) \n",
    "\n",
    "print ('The original array is:' )\n",
    "print (a)  \n",
    "print ('\\n') \n",
    "\n",
    "print('The transposed array is:') \n",
    "print ( np.transpose(a,0))"
   ]
  },
  {
   "cell_type": "markdown",
   "metadata": {
    "id": "h0J9ybUwoN2-"
   },
   "source": [
    "Explanation about example (why it breaks and how to fix it):\n",
    "Here the program did not execute beacause the axis mentioned are not correct depending on the rows and coloums present we need to adjust the axis. In the above program the axis should be of 2D form."
   ]
  },
  {
   "cell_type": "markdown",
   "metadata": {
    "id": "X4uBCVhPoN2_"
   },
   "source": [
    "This function is used to get transform of a array. And also can be used for changes the axis of elements."
   ]
  },
  {
   "cell_type": "code",
   "execution_count": null,
   "metadata": {
    "executionInfo": {
     "elapsed": 9854,
     "status": "aborted",
     "timestamp": 1601111170442,
     "user": {
      "displayName": "Sahil Sao",
      "photoUrl": "https://lh3.googleusercontent.com/a-/AOh14Gg8qtnIEWfY17Wv11en7MX60Lf7--o4RzGsLgN1iA=s64",
      "userId": "16292347190877917467"
     },
     "user_tz": -330
    },
    "id": "4qzZ3csFoN3D"
   },
   "outputs": [],
   "source": [
    "jovian.commit()"
   ]
  },
  {
   "cell_type": "markdown",
   "metadata": {
    "id": "mb8MdjMloN3L"
   },
   "source": [
    "## Function 3 - np.reshape\n",
    "Numpy allows us to reshape a matrix provided new shape should be compatible with the original shape. One interesting aspect of this new shape is, we can give one of the shape parameters as -1. It simply means that it is an unknown dimension and we want Numpy to figure it out. Numpy will figure this by looking at the ‘length of the array and remaining dimensions’ and making sure it satisfies the above-mentioned criteria.\n"
   ]
  },
  {
   "cell_type": "code",
   "execution_count": null,
   "metadata": {
    "executionInfo": {
     "elapsed": 9842,
     "status": "aborted",
     "timestamp": 1601111170466,
     "user": {
      "displayName": "Sahil Sao",
      "photoUrl": "https://lh3.googleusercontent.com/a-/AOh14Gg8qtnIEWfY17Wv11en7MX60Lf7--o4RzGsLgN1iA=s64",
      "userId": "16292347190877917467"
     },
     "user_tz": -330
    },
    "id": "sFs0ppV7oN3M"
   },
   "outputs": [],
   "source": [
    "# Example 1 - working\n",
    "a = np.array([[1, 2, 3, 4],\n",
    "              [5, 6, 7, 8]])"
   ]
  },
  {
   "cell_type": "markdown",
   "metadata": {
    "id": "mqW1B7VeoN3V"
   },
   "source": [
    "we interchanged the columns in two different sets"
   ]
  },
  {
   "cell_type": "code",
   "execution_count": null,
   "metadata": {
    "executionInfo": {
     "elapsed": 9819,
     "status": "aborted",
     "timestamp": 1601111170469,
     "user": {
      "displayName": "Sahil Sao",
      "photoUrl": "https://lh3.googleusercontent.com/a-/AOh14Gg8qtnIEWfY17Wv11en7MX60Lf7--o4RzGsLgN1iA=s64",
      "userId": "16292347190877917467"
     },
     "user_tz": -330
    },
    "id": "3FCUbfK_ppwl"
   },
   "outputs": [],
   "source": [
    "a.shape"
   ]
  },
  {
   "cell_type": "markdown",
   "metadata": {
    "id": "oJZPDNBTp5lS"
   },
   "source": [
    "Suppose we give row as 1 and -1 as column then Numpy will able to find column as 8."
   ]
  },
  {
   "cell_type": "code",
   "execution_count": null,
   "metadata": {
    "executionInfo": {
     "elapsed": 9790,
     "status": "aborted",
     "timestamp": 1601111170475,
     "user": {
      "displayName": "Sahil Sao",
      "photoUrl": "https://lh3.googleusercontent.com/a-/AOh14Gg8qtnIEWfY17Wv11en7MX60Lf7--o4RzGsLgN1iA=s64",
      "userId": "16292347190877917467"
     },
     "user_tz": -330
    },
    "id": "gnY09lxmpzQS"
   },
   "outputs": [],
   "source": [
    "a.reshape(1,-1)"
   ]
  },
  {
   "cell_type": "markdown",
   "metadata": {
    "id": "g6M6Ibq-p-CJ"
   },
   "source": [
    "Suppose we give row as -1 and 1 as column then Numpy will able to find row as 8."
   ]
  },
  {
   "cell_type": "code",
   "execution_count": null,
   "metadata": {
    "executionInfo": {
     "elapsed": 9759,
     "status": "aborted",
     "timestamp": 1601111170478,
     "user": {
      "displayName": "Sahil Sao",
      "photoUrl": "https://lh3.googleusercontent.com/a-/AOh14Gg8qtnIEWfY17Wv11en7MX60Lf7--o4RzGsLgN1iA=s64",
      "userId": "16292347190877917467"
     },
     "user_tz": -330
    },
    "id": "h-FqvViYqC4p"
   },
   "outputs": [],
   "source": [
    "a.reshape(-1,1)"
   ]
  },
  {
   "cell_type": "code",
   "execution_count": null,
   "metadata": {
    "executionInfo": {
     "elapsed": 9733,
     "status": "aborted",
     "timestamp": 1601111170486,
     "user": {
      "displayName": "Sahil Sao",
      "photoUrl": "https://lh3.googleusercontent.com/a-/AOh14Gg8qtnIEWfY17Wv11en7MX60Lf7--o4RzGsLgN1iA=s64",
      "userId": "16292347190877917467"
     },
     "user_tz": -330
    },
    "id": "wEWnBkOjoN3W"
   },
   "outputs": [],
   "source": [
    "# Example 2 - working\n",
    "a.reshape(-1,-1)\n"
   ]
  },
  {
   "cell_type": "markdown",
   "metadata": {
    "id": "NjLcEbjwoN3h"
   },
   "source": [
    "we interchanged the columns in two different sets"
   ]
  },
  {
   "cell_type": "code",
   "execution_count": null,
   "metadata": {
    "executionInfo": {
     "elapsed": 9705,
     "status": "aborted",
     "timestamp": 1601111170488,
     "user": {
      "displayName": "Sahil Sao",
      "photoUrl": "https://lh3.googleusercontent.com/a-/AOh14Gg8qtnIEWfY17Wv11en7MX60Lf7--o4RzGsLgN1iA=s64",
      "userId": "16292347190877917467"
     },
     "user_tz": -330
    },
    "id": "9VG-895hoN3w"
   },
   "outputs": [],
   "source": [
    "jovian.commit()"
   ]
  },
  {
   "cell_type": "markdown",
   "metadata": {
    "id": "fdeLw6pRoN34"
   },
   "source": [
    "## Function 4 - Horizontal split\n",
    "The numpy.hsplit is a special case of split() function where axis is 1 indicating a horizontal split regardless of the dimension of the input array.\n"
   ]
  },
  {
   "cell_type": "code",
   "execution_count": null,
   "metadata": {
    "executionInfo": {
     "elapsed": 9675,
     "status": "aborted",
     "timestamp": 1601111170494,
     "user": {
      "displayName": "Sahil Sao",
      "photoUrl": "https://lh3.googleusercontent.com/a-/AOh14Gg8qtnIEWfY17Wv11en7MX60Lf7--o4RzGsLgN1iA=s64",
      "userId": "16292347190877917467"
     },
     "user_tz": -330
    },
    "id": "metD3JvpoN36"
   },
   "outputs": [],
   "source": [
    "# Example 1 - working\n",
    "a = np.arange(16).reshape(4,4) \n",
    "\n",
    "print ('First array:' )\n",
    "print (a) \n",
    "print ('\\n')  \n",
    "\n",
    "print( 'Horizontal splitting:') \n",
    "b = np.hsplit(a,2) \n",
    "print(b )"
   ]
  },
  {
   "cell_type": "markdown",
   "metadata": {
    "id": "HgsjaixdoN4B"
   },
   "source": [
    "Here we are spliting the array in 2 different arrays."
   ]
  },
  {
   "cell_type": "code",
   "execution_count": null,
   "metadata": {
    "executionInfo": {
     "elapsed": 9648,
     "status": "aborted",
     "timestamp": 1601111170497,
     "user": {
      "displayName": "Sahil Sao",
      "photoUrl": "https://lh3.googleusercontent.com/a-/AOh14Gg8qtnIEWfY17Wv11en7MX60Lf7--o4RzGsLgN1iA=s64",
      "userId": "16292347190877917467"
     },
     "user_tz": -330
    },
    "id": "wfGWAS_DoN4C"
   },
   "outputs": [],
   "source": [
    "# Example 2 - working\n",
    "a = np.arange(12).reshape(4,3) \n",
    "\n",
    "print ('First array:' )\n",
    "print (a) \n",
    "print ('\\n')  \n",
    "\n",
    "print( 'Horizontal splitting:') \n",
    "b = np.hsplit(a,3) \n",
    "print(b )"
   ]
  },
  {
   "cell_type": "markdown",
   "metadata": {
    "id": "JWD07XhEoN4H"
   },
   "source": [
    "Here we are spliting the array in 3 different arrays"
   ]
  },
  {
   "cell_type": "code",
   "execution_count": null,
   "metadata": {
    "executionInfo": {
     "elapsed": 9615,
     "status": "aborted",
     "timestamp": 1601111170502,
     "user": {
      "displayName": "Sahil Sao",
      "photoUrl": "https://lh3.googleusercontent.com/a-/AOh14Gg8qtnIEWfY17Wv11en7MX60Lf7--o4RzGsLgN1iA=s64",
      "userId": "16292347190877917467"
     },
     "user_tz": -330
    },
    "id": "lInfl7BRoN4J"
   },
   "outputs": [],
   "source": [
    "# Example 3 - breaking (to illustrate when it breaks)\n",
    "a = np.arange(12).reshape(4,3) \n",
    "\n",
    "print ('First array:' )\n",
    "print (a) \n",
    "print ('\\n')  \n",
    "\n",
    "print( 'Horizontal splitting:') \n",
    "b = np.hsplit(a,5) \n",
    "print(b )"
   ]
  },
  {
   "cell_type": "markdown",
   "metadata": {
    "id": "uYNjpzZDoN4V"
   },
   "source": [
    "Explanation about example (why it breaks and how to fix it):\n",
    "Here the error os because 5 is not a factor of 12 so, dividing the array equally is not possible. So, to fix this we need to take a number which is factor of the size of array."
   ]
  },
  {
   "cell_type": "markdown",
   "metadata": {
    "id": "iKqqgECFoN4W"
   },
   "source": [
    "This function is used to divide the array into equal parts horizontally by a given factor of elements for set."
   ]
  },
  {
   "cell_type": "code",
   "execution_count": null,
   "metadata": {
    "executionInfo": {
     "elapsed": 9604,
     "status": "aborted",
     "timestamp": 1601111170506,
     "user": {
      "displayName": "Sahil Sao",
      "photoUrl": "https://lh3.googleusercontent.com/a-/AOh14Gg8qtnIEWfY17Wv11en7MX60Lf7--o4RzGsLgN1iA=s64",
      "userId": "16292347190877917467"
     },
     "user_tz": -330
    },
    "id": "cjt3qYI4oN4Y"
   },
   "outputs": [],
   "source": [
    "jovian.commit()"
   ]
  },
  {
   "cell_type": "markdown",
   "metadata": {
    "id": "NFMHbXYdoN4i"
   },
   "source": [
    "## Function 5 - Append\n",
    "This function adds values at the end of an input array. The append operation is not inplace, a new array is allocated. Also the dimensions of the input arrays must match otherwise ValueError will be generated.\n",
    "\n",
    "The function takes the following parameters:numpy.append(arr, values, axis). Here,arr:Input array,values:To be appended to arr. It must be of the same shape as of arr (excluding axis of appending),axis:The axis along which append operation is to be done. If not given, both parameters are flattened.\n"
   ]
  },
  {
   "cell_type": "code",
   "execution_count": null,
   "metadata": {
    "executionInfo": {
     "elapsed": 9574,
     "status": "aborted",
     "timestamp": 1601111170510,
     "user": {
      "displayName": "Sahil Sao",
      "photoUrl": "https://lh3.googleusercontent.com/a-/AOh14Gg8qtnIEWfY17Wv11en7MX60Lf7--o4RzGsLgN1iA=s64",
      "userId": "16292347190877917467"
     },
     "user_tz": -330
    },
    "id": "kmsuRrL8oN4j"
   },
   "outputs": [],
   "source": [
    "# Example 1 - working\n",
    "a = np.array([[1,2,3],[4,5,6]]) \n",
    "\n",
    "print ('First array:' )\n",
    "print (a)\n",
    "print ('\\n')  \n",
    "\n",
    "print ('Append elements to array:' )\n",
    "print (np.append(a, [7,8,9])) \n",
    " "
   ]
  },
  {
   "cell_type": "markdown",
   "metadata": {
    "id": "6g8YbvOToN4r"
   },
   "source": [
    "We created a array and later added some more elements to the array."
   ]
  },
  {
   "cell_type": "code",
   "execution_count": null,
   "metadata": {
    "executionInfo": {
     "elapsed": 9548,
     "status": "aborted",
     "timestamp": 1601111170512,
     "user": {
      "displayName": "Sahil Sao",
      "photoUrl": "https://lh3.googleusercontent.com/a-/AOh14Gg8qtnIEWfY17Wv11en7MX60Lf7--o4RzGsLgN1iA=s64",
      "userId": "16292347190877917467"
     },
     "user_tz": -330
    },
    "id": "YzcHduuZoN4s"
   },
   "outputs": [],
   "source": [
    "# Example 2 - working\n",
    "a = np.array([[1,2,3],[4,5,6]]) \n",
    "\n",
    "print ('First array:' )\n",
    "print (a)\n",
    "print ('\\n') \n",
    "print ('Append elements along axis 0:' )\n",
    "print( np.append(a, [[7,8,9]],axis = 0) )"
   ]
  },
  {
   "cell_type": "markdown",
   "metadata": {
    "id": "YdT7fKaloN4z"
   },
   "source": [
    "Here we specified axis 0 which means they shouls to added in the first column itself."
   ]
  },
  {
   "cell_type": "code",
   "execution_count": null,
   "metadata": {
    "executionInfo": {
     "elapsed": 9511,
     "status": "aborted",
     "timestamp": 1601111170529,
     "user": {
      "displayName": "Sahil Sao",
      "photoUrl": "https://lh3.googleusercontent.com/a-/AOh14Gg8qtnIEWfY17Wv11en7MX60Lf7--o4RzGsLgN1iA=s64",
      "userId": "16292347190877917467"
     },
     "user_tz": -330
    },
    "id": "O8VSa6vJoN41"
   },
   "outputs": [],
   "source": [
    "# Example 3 - breaking (to illustrate when it breaks)\n",
    "a = np.array([[1,2,3],[4,5,6]]) \n",
    "\n",
    "print ('First array:' )\n",
    "print (a)\n",
    "print ('\\n') \n",
    "print ('Append elements along axis 0:' )\n",
    "print( np.append(a, [[5,5,5,5]],axis = 0) )"
   ]
  },
  {
   "cell_type": "markdown",
   "metadata": {
    "id": "gTnMFN9aoN4_"
   },
   "source": [
    "Explanation about example (why it breaks and how to fix it):\n",
    "Size of the provided new array is out of range so it is difficult to concatenate. To fix this we need to make sure the size of the given array is equal to the original array."
   ]
  },
  {
   "cell_type": "markdown",
   "metadata": {
    "id": "RBjsu5PRoN5B"
   },
   "source": [
    "This function can be used to add elements in array when required."
   ]
  },
  {
   "cell_type": "code",
   "execution_count": null,
   "metadata": {
    "executionInfo": {
     "elapsed": 9465,
     "status": "aborted",
     "timestamp": 1601111170530,
     "user": {
      "displayName": "Sahil Sao",
      "photoUrl": "https://lh3.googleusercontent.com/a-/AOh14Gg8qtnIEWfY17Wv11en7MX60Lf7--o4RzGsLgN1iA=s64",
      "userId": "16292347190877917467"
     },
     "user_tz": -330
    },
    "id": "mYg1vk4ToN5C"
   },
   "outputs": [],
   "source": [
    "jovian.commit()"
   ]
  },
  {
   "cell_type": "markdown",
   "metadata": {
    "id": "xKopoq1NoN5L"
   },
   "source": [
    "## Conclusion\n",
    "\n",
    "Summarize what was covered in this notebook, and where to go next"
   ]
  },
  {
   "cell_type": "markdown",
   "metadata": {
    "id": "80baHhVyoN5M"
   },
   "source": [
    "## Reference Links\n",
    "Provide links to your references and other interesting articles about Numpy arrays:\n",
    "* Numpy official tutorial : https://numpy.org/doc/stable/user/quickstart.html\n",
    "* ..."
   ]
  },
  {
   "cell_type": "code",
   "execution_count": null,
   "metadata": {
    "executionInfo": {
     "elapsed": 9437,
     "status": "aborted",
     "timestamp": 1601111170533,
     "user": {
      "displayName": "Sahil Sao",
      "photoUrl": "https://lh3.googleusercontent.com/a-/AOh14Gg8qtnIEWfY17Wv11en7MX60Lf7--o4RzGsLgN1iA=s64",
      "userId": "16292347190877917467"
     },
     "user_tz": -330
    },
    "id": "NkMSwishoN5O"
   },
   "outputs": [],
   "source": [
    "jovian.commit()"
   ]
  },
  {
   "cell_type": "code",
   "execution_count": null,
   "metadata": {
    "executionInfo": {
     "elapsed": 9407,
     "status": "aborted",
     "timestamp": 1601111170535,
     "user": {
      "displayName": "Sahil Sao",
      "photoUrl": "https://lh3.googleusercontent.com/a-/AOh14Gg8qtnIEWfY17Wv11en7MX60Lf7--o4RzGsLgN1iA=s64",
      "userId": "16292347190877917467"
     },
     "user_tz": -330
    },
    "id": "bndwzwlmoN5T"
   },
   "outputs": [],
   "source": []
  }
 ],
 "metadata": {
  "colab": {
   "collapsed_sections": [],
   "name": "numpy-array-operations.ipynb",
   "provenance": []
  },
  "language_info": {
   "codemirror_mode": {
    "name": "ipython",
    "version": 3
   },
   "file_extension": ".py",
   "mimetype": "text/x-python",
   "name": "python",
   "nbconvert_exporter": "python",
   "pygments_lexer": "ipython3",
   "version": "3.8.5"
  }
 },
 "nbformat": 4,
 "nbformat_minor": 0
}