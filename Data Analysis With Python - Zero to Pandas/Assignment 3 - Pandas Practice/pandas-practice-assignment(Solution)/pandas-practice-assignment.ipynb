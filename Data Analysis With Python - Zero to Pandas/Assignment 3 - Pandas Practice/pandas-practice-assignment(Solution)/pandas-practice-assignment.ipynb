{
 "cells": [
  {
   "cell_type": "markdown",
   "metadata": {
    "id": "xU6vdgoerkny"
   },
   "source": [
    "# Assignment 3 - Pandas Data Analysis Practice\n",
    "\n",
    "*This assignment is a part of the course [\"Data Analysis with Python: Zero to Pandas\"](https://jovian.ml/learn/data-analysis-with-python-zero-to-pandas)*\n",
    "\n",
    "In this assignment, you'll get to practice some of the concepts and skills covered this tutorial: https://jovian.ml/aakashns/python-pandas-data-analysis\n",
    "\n",
    "As you go through this notebook, you will find a **???** in certain places. To complete this assignment, you must replace all the **???** with appropriate values, expressions or statements to ensure that the notebook runs properly end-to-end. \n",
    "\n",
    "Some things to keep in mind:\n",
    "\n",
    "* Make sure to run all the code cells, otherwise you may get errors like `NameError` for undefined variables.\n",
    "* Do not change variable names, delete cells or disturb other existing code. It may cause problems during evaluation.\n",
    "* In some cases, you may need to add some code cells or new statements before or after the line of code containing the **???**. \n",
    "* Since you'll be using a temporary online service for code execution, save your work by running `jovian.commit` at regular intervals.\n",
    "* Questions marked **(Optional)** will not be considered for evaluation, and can be skipped. They are for your learning.\n",
    "\n",
    "You can make submissions on this page: https://jovian.ml/learn/data-analysis-with-python-zero-to-pandas/assignment/assignment-3-pandas-practice\n",
    "\n",
    "If you are stuck, you can ask for help on the community forum: https://jovian.ml/forum/t/assignment-3-pandas-practice/11225/3 . You can get help with errors or ask for hints, describe your approach in simple words, link to documentation, but **please don't ask for or share the full working answer code** on the forum.\n",
    "\n",
    "\n",
    "## How to run the code and save your work\n",
    "\n",
    "The recommended way to run this notebook is to click the \"Run\" button at the top of this page, and select \"Run on Binder\". This will run the notebook on [mybinder.org](https://mybinder.org), a free online service for running Jupyter notebooks. \n",
    "\n",
    "Before staring the assignment, let's save a snapshot of the assignment to your Jovian.ml profile, so that you can access it later, and continue your work."
   ]
  },
  {
   "cell_type": "code",
   "execution_count": 15,
   "metadata": {
    "executionInfo": {
     "elapsed": 4632,
     "status": "ok",
     "timestamp": 1601112588253,
     "user": {
      "displayName": "Sahil Sao",
      "photoUrl": "https://lh3.googleusercontent.com/a-/AOh14Gg8qtnIEWfY17Wv11en7MX60Lf7--o4RzGsLgN1iA=s64",
      "userId": "16292347190877917467"
     },
     "user_tz": -330
    },
    "id": "wq72WMRmrkn0"
   },
   "outputs": [],
   "source": [
    "import jovian"
   ]
  },
  {
   "cell_type": "code",
   "execution_count": 16,
   "metadata": {
    "colab": {
     "base_uri": "https://localhost:8080/",
     "height": 86
    },
    "executionInfo": {
     "elapsed": 7139,
     "status": "ok",
     "timestamp": 1601112590813,
     "user": {
      "displayName": "Sahil Sao",
      "photoUrl": "https://lh3.googleusercontent.com/a-/AOh14Gg8qtnIEWfY17Wv11en7MX60Lf7--o4RzGsLgN1iA=s64",
      "userId": "16292347190877917467"
     },
     "user_tz": -330
    },
    "id": "EqAIfiXRrkn5",
    "outputId": "e5f445e9-0852-4243-9237-175d48a6972c"
   },
   "outputs": [
    {
     "name": "stdout",
     "output_type": "stream",
     "text": [
      "[jovian] Detected Colab notebook...\u001b[0m\n",
      "[jovian] Uploading colab notebook to Jovian...\u001b[0m\n",
      "[jovian] Committed successfully! https://jovian.ml/sahilfaizal/pandas-practice-assignment-sahil\u001b[0m\n"
     ]
    },
    {
     "data": {
      "application/vnd.google.colaboratory.intrinsic+json": {
       "type": "string"
      },
      "text/plain": [
       "'https://jovian.ml/sahilfaizal/pandas-practice-assignment-sahil'"
      ]
     },
     "execution_count": 16,
     "metadata": {
      "tags": []
     },
     "output_type": "execute_result"
    }
   ],
   "source": [
    "jovian.commit(project='pandas-practice-assignment-sahil', environment=None)"
   ]
  },
  {
   "cell_type": "code",
   "execution_count": 17,
   "metadata": {
    "colab": {
     "base_uri": "https://localhost:8080/",
     "height": 102
    },
    "executionInfo": {
     "elapsed": 9267,
     "status": "ok",
     "timestamp": 1601112592994,
     "user": {
      "displayName": "Sahil Sao",
      "photoUrl": "https://lh3.googleusercontent.com/a-/AOh14Gg8qtnIEWfY17Wv11en7MX60Lf7--o4RzGsLgN1iA=s64",
      "userId": "16292347190877917467"
     },
     "user_tz": -330
    },
    "id": "budgzK6OrkoA",
    "outputId": "04e857b8-d5cd-44fe-d119-c1ba50132a5a"
   },
   "outputs": [
    {
     "name": "stdout",
     "output_type": "stream",
     "text": [
      "Requirement already up-to-date: pandas in /usr/local/lib/python3.6/dist-packages (1.1.2)\n",
      "Requirement already satisfied, skipping upgrade: numpy>=1.15.4 in /usr/local/lib/python3.6/dist-packages (from pandas) (1.18.5)\n",
      "Requirement already satisfied, skipping upgrade: pytz>=2017.2 in /usr/local/lib/python3.6/dist-packages (from pandas) (2018.9)\n",
      "Requirement already satisfied, skipping upgrade: python-dateutil>=2.7.3 in /usr/local/lib/python3.6/dist-packages (from pandas) (2.8.1)\n",
      "Requirement already satisfied, skipping upgrade: six>=1.5 in /usr/local/lib/python3.6/dist-packages (from python-dateutil>=2.7.3->pandas) (1.15.0)\n"
     ]
    }
   ],
   "source": [
    "# Run the next line to install Pandas\n",
    "!pip install pandas --upgrade"
   ]
  },
  {
   "cell_type": "code",
   "execution_count": 18,
   "metadata": {
    "executionInfo": {
     "elapsed": 9231,
     "status": "ok",
     "timestamp": 1601112592997,
     "user": {
      "displayName": "Sahil Sao",
      "photoUrl": "https://lh3.googleusercontent.com/a-/AOh14Gg8qtnIEWfY17Wv11en7MX60Lf7--o4RzGsLgN1iA=s64",
      "userId": "16292347190877917467"
     },
     "user_tz": -330
    },
    "id": "2K0uSURirkoG"
   },
   "outputs": [],
   "source": [
    "import pandas as pd"
   ]
  },
  {
   "cell_type": "markdown",
   "metadata": {
    "id": "olnjrGmhrkoL"
   },
   "source": [
    "In this assignment, we're going to analyze an operate on data from a CSV file. Let's begin by downloading the CSV file."
   ]
  },
  {
   "cell_type": "code",
   "execution_count": 19,
   "metadata": {
    "colab": {
     "base_uri": "https://localhost:8080/",
     "height": 34
    },
    "executionInfo": {
     "elapsed": 11043,
     "status": "ok",
     "timestamp": 1601112594824,
     "user": {
      "displayName": "Sahil Sao",
      "photoUrl": "https://lh3.googleusercontent.com/a-/AOh14Gg8qtnIEWfY17Wv11en7MX60Lf7--o4RzGsLgN1iA=s64",
      "userId": "16292347190877917467"
     },
     "user_tz": -330
    },
    "id": "Xp1S4zlGrkoM",
    "outputId": "45b905c1-2020-4ccd-d1d9-ff42e0a41aec"
   },
   "outputs": [
    {
     "data": {
      "text/plain": [
       "('countries.csv', <http.client.HTTPMessage at 0x7fcf27210438>)"
      ]
     },
     "execution_count": 19,
     "metadata": {
      "tags": []
     },
     "output_type": "execute_result"
    }
   ],
   "source": [
    "from urllib.request import urlretrieve\n",
    "\n",
    "urlretrieve('https://hub.jovian.ml/wp-content/uploads/2020/09/countries.csv', \n",
    "            'countries.csv')"
   ]
  },
  {
   "cell_type": "markdown",
   "metadata": {
    "id": "9QjF9UVArkoS"
   },
   "source": [
    "Let's load the data from the CSV file into a Pandas data frame."
   ]
  },
  {
   "cell_type": "code",
   "execution_count": 20,
   "metadata": {
    "executionInfo": {
     "elapsed": 10984,
     "status": "ok",
     "timestamp": 1601112594827,
     "user": {
      "displayName": "Sahil Sao",
      "photoUrl": "https://lh3.googleusercontent.com/a-/AOh14Gg8qtnIEWfY17Wv11en7MX60Lf7--o4RzGsLgN1iA=s64",
      "userId": "16292347190877917467"
     },
     "user_tz": -330
    },
    "id": "vVaLBg7CrkoT"
   },
   "outputs": [],
   "source": [
    "countries_df = pd.read_csv('countries.csv')"
   ]
  },
  {
   "cell_type": "code",
   "execution_count": 21,
   "metadata": {
    "colab": {
     "base_uri": "https://localhost:8080/",
     "height": 419
    },
    "executionInfo": {
     "elapsed": 10938,
     "status": "ok",
     "timestamp": 1601112594830,
     "user": {
      "displayName": "Sahil Sao",
      "photoUrl": "https://lh3.googleusercontent.com/a-/AOh14Gg8qtnIEWfY17Wv11en7MX60Lf7--o4RzGsLgN1iA=s64",
      "userId": "16292347190877917467"
     },
     "user_tz": -330
    },
    "id": "yUhtXneJrkoc",
    "outputId": "32c5abea-8365-408b-ec24-6430ce9dacda"
   },
   "outputs": [
    {
     "data": {
      "text/html": [
       "<div>\n",
       "<style scoped>\n",
       "    .dataframe tbody tr th:only-of-type {\n",
       "        vertical-align: middle;\n",
       "    }\n",
       "\n",
       "    .dataframe tbody tr th {\n",
       "        vertical-align: top;\n",
       "    }\n",
       "\n",
       "    .dataframe thead th {\n",
       "        text-align: right;\n",
       "    }\n",
       "</style>\n",
       "<table border=\"1\" class=\"dataframe\">\n",
       "  <thead>\n",
       "    <tr style=\"text-align: right;\">\n",
       "      <th></th>\n",
       "      <th>location</th>\n",
       "      <th>continent</th>\n",
       "      <th>population</th>\n",
       "      <th>life_expectancy</th>\n",
       "      <th>hospital_beds_per_thousand</th>\n",
       "      <th>gdp_per_capita</th>\n",
       "    </tr>\n",
       "  </thead>\n",
       "  <tbody>\n",
       "    <tr>\n",
       "      <th>0</th>\n",
       "      <td>Afghanistan</td>\n",
       "      <td>Asia</td>\n",
       "      <td>38928341.0</td>\n",
       "      <td>64.83</td>\n",
       "      <td>0.50</td>\n",
       "      <td>1803.987</td>\n",
       "    </tr>\n",
       "    <tr>\n",
       "      <th>1</th>\n",
       "      <td>Albania</td>\n",
       "      <td>Europe</td>\n",
       "      <td>2877800.0</td>\n",
       "      <td>78.57</td>\n",
       "      <td>2.89</td>\n",
       "      <td>11803.431</td>\n",
       "    </tr>\n",
       "    <tr>\n",
       "      <th>2</th>\n",
       "      <td>Algeria</td>\n",
       "      <td>Africa</td>\n",
       "      <td>43851043.0</td>\n",
       "      <td>76.88</td>\n",
       "      <td>1.90</td>\n",
       "      <td>13913.839</td>\n",
       "    </tr>\n",
       "    <tr>\n",
       "      <th>3</th>\n",
       "      <td>Andorra</td>\n",
       "      <td>Europe</td>\n",
       "      <td>77265.0</td>\n",
       "      <td>83.73</td>\n",
       "      <td>NaN</td>\n",
       "      <td>NaN</td>\n",
       "    </tr>\n",
       "    <tr>\n",
       "      <th>4</th>\n",
       "      <td>Angola</td>\n",
       "      <td>Africa</td>\n",
       "      <td>32866268.0</td>\n",
       "      <td>61.15</td>\n",
       "      <td>NaN</td>\n",
       "      <td>5819.495</td>\n",
       "    </tr>\n",
       "    <tr>\n",
       "      <th>...</th>\n",
       "      <td>...</td>\n",
       "      <td>...</td>\n",
       "      <td>...</td>\n",
       "      <td>...</td>\n",
       "      <td>...</td>\n",
       "      <td>...</td>\n",
       "    </tr>\n",
       "    <tr>\n",
       "      <th>205</th>\n",
       "      <td>Vietnam</td>\n",
       "      <td>Asia</td>\n",
       "      <td>97338583.0</td>\n",
       "      <td>75.40</td>\n",
       "      <td>2.60</td>\n",
       "      <td>6171.884</td>\n",
       "    </tr>\n",
       "    <tr>\n",
       "      <th>206</th>\n",
       "      <td>Western Sahara</td>\n",
       "      <td>Africa</td>\n",
       "      <td>597330.0</td>\n",
       "      <td>70.26</td>\n",
       "      <td>NaN</td>\n",
       "      <td>NaN</td>\n",
       "    </tr>\n",
       "    <tr>\n",
       "      <th>207</th>\n",
       "      <td>Yemen</td>\n",
       "      <td>Asia</td>\n",
       "      <td>29825968.0</td>\n",
       "      <td>66.12</td>\n",
       "      <td>0.70</td>\n",
       "      <td>1479.147</td>\n",
       "    </tr>\n",
       "    <tr>\n",
       "      <th>208</th>\n",
       "      <td>Zambia</td>\n",
       "      <td>Africa</td>\n",
       "      <td>18383956.0</td>\n",
       "      <td>63.89</td>\n",
       "      <td>2.00</td>\n",
       "      <td>3689.251</td>\n",
       "    </tr>\n",
       "    <tr>\n",
       "      <th>209</th>\n",
       "      <td>Zimbabwe</td>\n",
       "      <td>Africa</td>\n",
       "      <td>14862927.0</td>\n",
       "      <td>61.49</td>\n",
       "      <td>1.70</td>\n",
       "      <td>1899.775</td>\n",
       "    </tr>\n",
       "  </tbody>\n",
       "</table>\n",
       "<p>210 rows × 6 columns</p>\n",
       "</div>"
      ],
      "text/plain": [
       "           location continent  ...  hospital_beds_per_thousand  gdp_per_capita\n",
       "0       Afghanistan      Asia  ...                        0.50        1803.987\n",
       "1           Albania    Europe  ...                        2.89       11803.431\n",
       "2           Algeria    Africa  ...                        1.90       13913.839\n",
       "3           Andorra    Europe  ...                         NaN             NaN\n",
       "4            Angola    Africa  ...                         NaN        5819.495\n",
       "..              ...       ...  ...                         ...             ...\n",
       "205         Vietnam      Asia  ...                        2.60        6171.884\n",
       "206  Western Sahara    Africa  ...                         NaN             NaN\n",
       "207           Yemen      Asia  ...                        0.70        1479.147\n",
       "208          Zambia    Africa  ...                        2.00        3689.251\n",
       "209        Zimbabwe    Africa  ...                        1.70        1899.775\n",
       "\n",
       "[210 rows x 6 columns]"
      ]
     },
     "execution_count": 21,
     "metadata": {
      "tags": []
     },
     "output_type": "execute_result"
    }
   ],
   "source": [
    "countries_df"
   ]
  },
  {
   "cell_type": "markdown",
   "metadata": {
    "id": "Z5szokn8rkoh"
   },
   "source": [
    "**Q: How many countries does the dataframe contain?**\n",
    "\n",
    "Hint: Use the `.shape` method."
   ]
  },
  {
   "cell_type": "code",
   "execution_count": 22,
   "metadata": {
    "executionInfo": {
     "elapsed": 10869,
     "status": "ok",
     "timestamp": 1601112594834,
     "user": {
      "displayName": "Sahil Sao",
      "photoUrl": "https://lh3.googleusercontent.com/a-/AOh14Gg8qtnIEWfY17Wv11en7MX60Lf7--o4RzGsLgN1iA=s64",
      "userId": "16292347190877917467"
     },
     "user_tz": -330
    },
    "id": "05KIR8Clrkoi"
   },
   "outputs": [],
   "source": [
    "num_countries = countries_df.shape[0]"
   ]
  },
  {
   "cell_type": "code",
   "execution_count": 23,
   "metadata": {
    "colab": {
     "base_uri": "https://localhost:8080/",
     "height": 34
    },
    "executionInfo": {
     "elapsed": 10835,
     "status": "ok",
     "timestamp": 1601112594836,
     "user": {
      "displayName": "Sahil Sao",
      "photoUrl": "https://lh3.googleusercontent.com/a-/AOh14Gg8qtnIEWfY17Wv11en7MX60Lf7--o4RzGsLgN1iA=s64",
      "userId": "16292347190877917467"
     },
     "user_tz": -330
    },
    "id": "XLdubShZrkom",
    "outputId": "a2eb9308-b9e7-4296-e4e8-366b52dc7d6a"
   },
   "outputs": [
    {
     "name": "stdout",
     "output_type": "stream",
     "text": [
      "There are 210 countries in the dataset\n"
     ]
    }
   ],
   "source": [
    "print('There are {} countries in the dataset'.format(num_countries))"
   ]
  },
  {
   "cell_type": "code",
   "execution_count": 24,
   "metadata": {
    "colab": {
     "base_uri": "https://localhost:8080/",
     "height": 86
    },
    "executionInfo": {
     "elapsed": 12684,
     "status": "ok",
     "timestamp": 1601112596731,
     "user": {
      "displayName": "Sahil Sao",
      "photoUrl": "https://lh3.googleusercontent.com/a-/AOh14Gg8qtnIEWfY17Wv11en7MX60Lf7--o4RzGsLgN1iA=s64",
      "userId": "16292347190877917467"
     },
     "user_tz": -330
    },
    "id": "0w8fTD82rkor",
    "outputId": "aca2f463-da9a-4c51-cea6-fa2fb3ade351"
   },
   "outputs": [
    {
     "name": "stdout",
     "output_type": "stream",
     "text": [
      "[jovian] Detected Colab notebook...\u001b[0m\n",
      "[jovian] Uploading colab notebook to Jovian...\u001b[0m\n",
      "[jovian] Committed successfully! https://jovian.ml/sahilfaizal/pandas-practice-assignment-sahil\u001b[0m\n"
     ]
    },
    {
     "data": {
      "application/vnd.google.colaboratory.intrinsic+json": {
       "type": "string"
      },
      "text/plain": [
       "'https://jovian.ml/sahilfaizal/pandas-practice-assignment-sahil'"
      ]
     },
     "execution_count": 24,
     "metadata": {
      "tags": []
     },
     "output_type": "execute_result"
    }
   ],
   "source": [
    "jovian.commit(project='pandas-practice-assignment-sahil', environment=None)"
   ]
  },
  {
   "cell_type": "markdown",
   "metadata": {
    "id": "CrEKpNBhrko0"
   },
   "source": [
    "**Q: Retrieve a list of continents from the dataframe?**\n",
    "\n",
    "*Hint: Use the `.unique` method of a series.*"
   ]
  },
  {
   "cell_type": "code",
   "execution_count": 28,
   "metadata": {
    "executionInfo": {
     "elapsed": 1488,
     "status": "ok",
     "timestamp": 1601112752232,
     "user": {
      "displayName": "Sahil Sao",
      "photoUrl": "https://lh3.googleusercontent.com/a-/AOh14Gg8qtnIEWfY17Wv11en7MX60Lf7--o4RzGsLgN1iA=s64",
      "userId": "16292347190877917467"
     },
     "user_tz": -330
    },
    "id": "JwKbG5YCrko1"
   },
   "outputs": [],
   "source": [
    "continents = countries_df['continent'].unique()"
   ]
  },
  {
   "cell_type": "code",
   "execution_count": 29,
   "metadata": {
    "colab": {
     "base_uri": "https://localhost:8080/",
     "height": 51
    },
    "executionInfo": {
     "elapsed": 1183,
     "status": "ok",
     "timestamp": 1601112757347,
     "user": {
      "displayName": "Sahil Sao",
      "photoUrl": "https://lh3.googleusercontent.com/a-/AOh14Gg8qtnIEWfY17Wv11en7MX60Lf7--o4RzGsLgN1iA=s64",
      "userId": "16292347190877917467"
     },
     "user_tz": -330
    },
    "id": "7EhtiP8Prko5",
    "outputId": "5fb3daf0-7026-4b62-977b-9999a17714c0"
   },
   "outputs": [
    {
     "data": {
      "text/plain": [
       "array(['Asia', 'Europe', 'Africa', 'North America', 'South America',\n",
       "       'Oceania'], dtype=object)"
      ]
     },
     "execution_count": 29,
     "metadata": {
      "tags": []
     },
     "output_type": "execute_result"
    }
   ],
   "source": [
    "continents"
   ]
  },
  {
   "cell_type": "code",
   "execution_count": 30,
   "metadata": {
    "colab": {
     "base_uri": "https://localhost:8080/",
     "height": 86
    },
    "executionInfo": {
     "elapsed": 3621,
     "status": "ok",
     "timestamp": 1601112771650,
     "user": {
      "displayName": "Sahil Sao",
      "photoUrl": "https://lh3.googleusercontent.com/a-/AOh14Gg8qtnIEWfY17Wv11en7MX60Lf7--o4RzGsLgN1iA=s64",
      "userId": "16292347190877917467"
     },
     "user_tz": -330
    },
    "id": "4FRT6Ad2rko9",
    "outputId": "c13a3827-0c8c-4a67-dd61-9568599fc212"
   },
   "outputs": [
    {
     "name": "stdout",
     "output_type": "stream",
     "text": [
      "[jovian] Detected Colab notebook...\u001b[0m\n",
      "[jovian] Uploading colab notebook to Jovian...\u001b[0m\n",
      "[jovian] Committed successfully! https://jovian.ml/sahilfaizal/pandas-practice-assignment-sahil\u001b[0m\n"
     ]
    },
    {
     "data": {
      "application/vnd.google.colaboratory.intrinsic+json": {
       "type": "string"
      },
      "text/plain": [
       "'https://jovian.ml/sahilfaizal/pandas-practice-assignment-sahil'"
      ]
     },
     "execution_count": 30,
     "metadata": {
      "tags": []
     },
     "output_type": "execute_result"
    }
   ],
   "source": [
    "jovian.commit(project='pandas-practice-assignment-sahil', environment=None)"
   ]
  },
  {
   "cell_type": "markdown",
   "metadata": {
    "id": "82CxKlHmrkpC"
   },
   "source": [
    "**Q: What is the total population of all the countries listed in this dataset?**"
   ]
  },
  {
   "cell_type": "code",
   "execution_count": 31,
   "metadata": {
    "executionInfo": {
     "elapsed": 1122,
     "status": "ok",
     "timestamp": 1601113049375,
     "user": {
      "displayName": "Sahil Sao",
      "photoUrl": "https://lh3.googleusercontent.com/a-/AOh14Gg8qtnIEWfY17Wv11en7MX60Lf7--o4RzGsLgN1iA=s64",
      "userId": "16292347190877917467"
     },
     "user_tz": -330
    },
    "id": "TUjgKtPtrkpD"
   },
   "outputs": [],
   "source": [
    "total_population = countries_df['population'].sum()"
   ]
  },
  {
   "cell_type": "code",
   "execution_count": 32,
   "metadata": {
    "colab": {
     "base_uri": "https://localhost:8080/",
     "height": 34
    },
    "executionInfo": {
     "elapsed": 1253,
     "status": "ok",
     "timestamp": 1601113053864,
     "user": {
      "displayName": "Sahil Sao",
      "photoUrl": "https://lh3.googleusercontent.com/a-/AOh14Gg8qtnIEWfY17Wv11en7MX60Lf7--o4RzGsLgN1iA=s64",
      "userId": "16292347190877917467"
     },
     "user_tz": -330
    },
    "id": "WjJU7mjurkpJ",
    "outputId": "e2695ce3-2b07-4b96-bad3-0052b197c595"
   },
   "outputs": [
    {
     "name": "stdout",
     "output_type": "stream",
     "text": [
      "The total population is 7757980095.\n"
     ]
    }
   ],
   "source": [
    "print('The total population is {}.'.format(int(total_population)))"
   ]
  },
  {
   "cell_type": "code",
   "execution_count": 33,
   "metadata": {
    "colab": {
     "base_uri": "https://localhost:8080/",
     "height": 86
    },
    "executionInfo": {
     "elapsed": 3377,
     "status": "ok",
     "timestamp": 1601113068621,
     "user": {
      "displayName": "Sahil Sao",
      "photoUrl": "https://lh3.googleusercontent.com/a-/AOh14Gg8qtnIEWfY17Wv11en7MX60Lf7--o4RzGsLgN1iA=s64",
      "userId": "16292347190877917467"
     },
     "user_tz": -330
    },
    "id": "y_cHpXKprkpP",
    "outputId": "3614799f-b971-44fa-a9a3-6036c854710d"
   },
   "outputs": [
    {
     "name": "stdout",
     "output_type": "stream",
     "text": [
      "[jovian] Detected Colab notebook...\u001b[0m\n",
      "[jovian] Uploading colab notebook to Jovian...\u001b[0m\n",
      "[jovian] Committed successfully! https://jovian.ml/sahilfaizal/pandas-practice-assignment-sahil\u001b[0m\n"
     ]
    },
    {
     "data": {
      "application/vnd.google.colaboratory.intrinsic+json": {
       "type": "string"
      },
      "text/plain": [
       "'https://jovian.ml/sahilfaizal/pandas-practice-assignment-sahil'"
      ]
     },
     "execution_count": 33,
     "metadata": {
      "tags": []
     },
     "output_type": "execute_result"
    }
   ],
   "source": [
    "jovian.commit(project='pandas-practice-assignment-sahil', environment=None)"
   ]
  },
  {
   "cell_type": "markdown",
   "metadata": {
    "id": "-dMK-OoJrkpU"
   },
   "source": [
    "**Q: (Optional) What is the overall life expectancy across in the world?**\n",
    "\n",
    "*Hint: You'll need to take a weighted average of life expectancy using populations as weights.*"
   ]
  },
  {
   "cell_type": "code",
   "execution_count": 34,
   "metadata": {
    "executionInfo": {
     "elapsed": 1169,
     "status": "ok",
     "timestamp": 1601113430851,
     "user": {
      "displayName": "Sahil Sao",
      "photoUrl": "https://lh3.googleusercontent.com/a-/AOh14Gg8qtnIEWfY17Wv11en7MX60Lf7--o4RzGsLgN1iA=s64",
      "userId": "16292347190877917467"
     },
     "user_tz": -330
    },
    "id": "BVtg_qjcrkpV"
   },
   "outputs": [],
   "source": [
    "b = countries_df['population']"
   ]
  },
  {
   "cell_type": "code",
   "execution_count": 37,
   "metadata": {
    "executionInfo": {
     "elapsed": 1139,
     "status": "ok",
     "timestamp": 1601113466015,
     "user": {
      "displayName": "Sahil Sao",
      "photoUrl": "https://lh3.googleusercontent.com/a-/AOh14Gg8qtnIEWfY17Wv11en7MX60Lf7--o4RzGsLgN1iA=s64",
      "userId": "16292347190877917467"
     },
     "user_tz": -330
    },
    "id": "lqGI1W7Orkpa"
   },
   "outputs": [],
   "source": [
    "c= countries_df['life_expectancy']"
   ]
  },
  {
   "cell_type": "code",
   "execution_count": 38,
   "metadata": {
    "executionInfo": {
     "elapsed": 1560,
     "status": "ok",
     "timestamp": 1601113512097,
     "user": {
      "displayName": "Sahil Sao",
      "photoUrl": "https://lh3.googleusercontent.com/a-/AOh14Gg8qtnIEWfY17Wv11en7MX60Lf7--o4RzGsLgN1iA=s64",
      "userId": "16292347190877917467"
     },
     "user_tz": -330
    },
    "id": "MOftEV8fzLyr"
   },
   "outputs": [],
   "source": [
    "d = b*c"
   ]
  },
  {
   "cell_type": "code",
   "execution_count": 41,
   "metadata": {
    "executionInfo": {
     "elapsed": 1274,
     "status": "ok",
     "timestamp": 1601113597237,
     "user": {
      "displayName": "Sahil Sao",
      "photoUrl": "https://lh3.googleusercontent.com/a-/AOh14Gg8qtnIEWfY17Wv11en7MX60Lf7--o4RzGsLgN1iA=s64",
      "userId": "16292347190877917467"
     },
     "user_tz": -330
    },
    "id": "BnF3ew7kzWIN"
   },
   "outputs": [],
   "source": [
    "overall_life_expectancy = d.sum()/total_population"
   ]
  },
  {
   "cell_type": "code",
   "execution_count": 42,
   "metadata": {
    "colab": {
     "base_uri": "https://localhost:8080/",
     "height": 34
    },
    "executionInfo": {
     "elapsed": 1206,
     "status": "ok",
     "timestamp": 1601113610348,
     "user": {
      "displayName": "Sahil Sao",
      "photoUrl": "https://lh3.googleusercontent.com/a-/AOh14Gg8qtnIEWfY17Wv11en7MX60Lf7--o4RzGsLgN1iA=s64",
      "userId": "16292347190877917467"
     },
     "user_tz": -330
    },
    "id": "UDQ4gXIlzsKB",
    "outputId": "9f07cfff-20f1-4722-e3d7-0460f35b7327"
   },
   "outputs": [
    {
     "data": {
      "text/plain": [
       "72.72165193409664"
      ]
     },
     "execution_count": 42,
     "metadata": {
      "tags": []
     },
     "output_type": "execute_result"
    }
   ],
   "source": [
    "overall_life_expectancy"
   ]
  },
  {
   "cell_type": "code",
   "execution_count": 45,
   "metadata": {
    "colab": {
     "base_uri": "https://localhost:8080/",
     "height": 34
    },
    "executionInfo": {
     "elapsed": 659,
     "status": "ok",
     "timestamp": 1601113663256,
     "user": {
      "displayName": "Sahil Sao",
      "photoUrl": "https://lh3.googleusercontent.com/a-/AOh14Gg8qtnIEWfY17Wv11en7MX60Lf7--o4RzGsLgN1iA=s64",
      "userId": "16292347190877917467"
     },
     "user_tz": -330
    },
    "id": "--SBqa8Lz3xl",
    "outputId": "53fe45be-a029-462c-cd86-5d178e9725ed"
   },
   "outputs": [
    {
     "name": "stdout",
     "output_type": "stream",
     "text": [
      "The overall life expectancy is 72.\n"
     ]
    }
   ],
   "source": [
    "print('The overall life expectancy is {}.'.format(int(overall_life_expectancy)))"
   ]
  },
  {
   "cell_type": "code",
   "execution_count": 46,
   "metadata": {
    "colab": {
     "base_uri": "https://localhost:8080/",
     "height": 86
    },
    "executionInfo": {
     "elapsed": 3766,
     "status": "ok",
     "timestamp": 1601113676585,
     "user": {
      "displayName": "Sahil Sao",
      "photoUrl": "https://lh3.googleusercontent.com/a-/AOh14Gg8qtnIEWfY17Wv11en7MX60Lf7--o4RzGsLgN1iA=s64",
      "userId": "16292347190877917467"
     },
     "user_tz": -330
    },
    "id": "jJFFhwr_rkpe",
    "outputId": "4d1fdb2c-e820-43db-8996-4537c5a3edef"
   },
   "outputs": [
    {
     "name": "stdout",
     "output_type": "stream",
     "text": [
      "[jovian] Detected Colab notebook...\u001b[0m\n",
      "[jovian] Uploading colab notebook to Jovian...\u001b[0m\n",
      "[jovian] Committed successfully! https://jovian.ml/sahilfaizal/pandas-practice-assignment-sahil\u001b[0m\n"
     ]
    },
    {
     "data": {
      "application/vnd.google.colaboratory.intrinsic+json": {
       "type": "string"
      },
      "text/plain": [
       "'https://jovian.ml/sahilfaizal/pandas-practice-assignment-sahil'"
      ]
     },
     "execution_count": 46,
     "metadata": {
      "tags": []
     },
     "output_type": "execute_result"
    }
   ],
   "source": [
    "jovian.commit(project='pandas-practice-assignment-sahil', environment=None)"
   ]
  },
  {
   "cell_type": "markdown",
   "metadata": {
    "id": "FWSHe9rArkpk"
   },
   "source": [
    "**Q: Create a dataframe containing 10 countries with the highest population.**\n",
    "\n",
    "*Hint: Chain the `sort_values` and `head` methods.*"
   ]
  },
  {
   "cell_type": "code",
   "execution_count": 47,
   "metadata": {
    "executionInfo": {
     "elapsed": 1153,
     "status": "ok",
     "timestamp": 1601113818242,
     "user": {
      "displayName": "Sahil Sao",
      "photoUrl": "https://lh3.googleusercontent.com/a-/AOh14Gg8qtnIEWfY17Wv11en7MX60Lf7--o4RzGsLgN1iA=s64",
      "userId": "16292347190877917467"
     },
     "user_tz": -330
    },
    "id": "M9IF2eZ-rkpl"
   },
   "outputs": [],
   "source": [
    "most_populous_df = countries_df.sort_values('population',ascending= False).head(10)"
   ]
  },
  {
   "cell_type": "code",
   "execution_count": 48,
   "metadata": {
    "colab": {
     "base_uri": "https://localhost:8080/",
     "height": 359
    },
    "executionInfo": {
     "elapsed": 1423,
     "status": "ok",
     "timestamp": 1601113821545,
     "user": {
      "displayName": "Sahil Sao",
      "photoUrl": "https://lh3.googleusercontent.com/a-/AOh14Gg8qtnIEWfY17Wv11en7MX60Lf7--o4RzGsLgN1iA=s64",
      "userId": "16292347190877917467"
     },
     "user_tz": -330
    },
    "id": "WeU0PuvZrkpp",
    "outputId": "a9203549-4111-4fa8-8db6-e956293da855"
   },
   "outputs": [
    {
     "data": {
      "text/html": [
       "<div>\n",
       "<style scoped>\n",
       "    .dataframe tbody tr th:only-of-type {\n",
       "        vertical-align: middle;\n",
       "    }\n",
       "\n",
       "    .dataframe tbody tr th {\n",
       "        vertical-align: top;\n",
       "    }\n",
       "\n",
       "    .dataframe thead th {\n",
       "        text-align: right;\n",
       "    }\n",
       "</style>\n",
       "<table border=\"1\" class=\"dataframe\">\n",
       "  <thead>\n",
       "    <tr style=\"text-align: right;\">\n",
       "      <th></th>\n",
       "      <th>location</th>\n",
       "      <th>continent</th>\n",
       "      <th>population</th>\n",
       "      <th>life_expectancy</th>\n",
       "      <th>hospital_beds_per_thousand</th>\n",
       "      <th>gdp_per_capita</th>\n",
       "    </tr>\n",
       "  </thead>\n",
       "  <tbody>\n",
       "    <tr>\n",
       "      <th>41</th>\n",
       "      <td>China</td>\n",
       "      <td>Asia</td>\n",
       "      <td>1.439324e+09</td>\n",
       "      <td>76.91</td>\n",
       "      <td>4.34</td>\n",
       "      <td>15308.712</td>\n",
       "    </tr>\n",
       "    <tr>\n",
       "      <th>90</th>\n",
       "      <td>India</td>\n",
       "      <td>Asia</td>\n",
       "      <td>1.380004e+09</td>\n",
       "      <td>69.66</td>\n",
       "      <td>0.53</td>\n",
       "      <td>6426.674</td>\n",
       "    </tr>\n",
       "    <tr>\n",
       "      <th>199</th>\n",
       "      <td>United States</td>\n",
       "      <td>North America</td>\n",
       "      <td>3.310026e+08</td>\n",
       "      <td>78.86</td>\n",
       "      <td>2.77</td>\n",
       "      <td>54225.446</td>\n",
       "    </tr>\n",
       "    <tr>\n",
       "      <th>91</th>\n",
       "      <td>Indonesia</td>\n",
       "      <td>Asia</td>\n",
       "      <td>2.735236e+08</td>\n",
       "      <td>71.72</td>\n",
       "      <td>1.04</td>\n",
       "      <td>11188.744</td>\n",
       "    </tr>\n",
       "    <tr>\n",
       "      <th>145</th>\n",
       "      <td>Pakistan</td>\n",
       "      <td>Asia</td>\n",
       "      <td>2.208923e+08</td>\n",
       "      <td>67.27</td>\n",
       "      <td>0.60</td>\n",
       "      <td>5034.708</td>\n",
       "    </tr>\n",
       "    <tr>\n",
       "      <th>27</th>\n",
       "      <td>Brazil</td>\n",
       "      <td>South America</td>\n",
       "      <td>2.125594e+08</td>\n",
       "      <td>75.88</td>\n",
       "      <td>2.20</td>\n",
       "      <td>14103.452</td>\n",
       "    </tr>\n",
       "    <tr>\n",
       "      <th>141</th>\n",
       "      <td>Nigeria</td>\n",
       "      <td>Africa</td>\n",
       "      <td>2.061396e+08</td>\n",
       "      <td>54.69</td>\n",
       "      <td>NaN</td>\n",
       "      <td>5338.454</td>\n",
       "    </tr>\n",
       "    <tr>\n",
       "      <th>15</th>\n",
       "      <td>Bangladesh</td>\n",
       "      <td>Asia</td>\n",
       "      <td>1.646894e+08</td>\n",
       "      <td>72.59</td>\n",
       "      <td>0.80</td>\n",
       "      <td>3523.984</td>\n",
       "    </tr>\n",
       "    <tr>\n",
       "      <th>157</th>\n",
       "      <td>Russia</td>\n",
       "      <td>Europe</td>\n",
       "      <td>1.459345e+08</td>\n",
       "      <td>72.58</td>\n",
       "      <td>8.05</td>\n",
       "      <td>24765.954</td>\n",
       "    </tr>\n",
       "    <tr>\n",
       "      <th>125</th>\n",
       "      <td>Mexico</td>\n",
       "      <td>North America</td>\n",
       "      <td>1.289328e+08</td>\n",
       "      <td>75.05</td>\n",
       "      <td>1.38</td>\n",
       "      <td>17336.469</td>\n",
       "    </tr>\n",
       "  </tbody>\n",
       "</table>\n",
       "</div>"
      ],
      "text/plain": [
       "          location      continent  ...  hospital_beds_per_thousand  gdp_per_capita\n",
       "41           China           Asia  ...                        4.34       15308.712\n",
       "90           India           Asia  ...                        0.53        6426.674\n",
       "199  United States  North America  ...                        2.77       54225.446\n",
       "91       Indonesia           Asia  ...                        1.04       11188.744\n",
       "145       Pakistan           Asia  ...                        0.60        5034.708\n",
       "27          Brazil  South America  ...                        2.20       14103.452\n",
       "141        Nigeria         Africa  ...                         NaN        5338.454\n",
       "15      Bangladesh           Asia  ...                        0.80        3523.984\n",
       "157         Russia         Europe  ...                        8.05       24765.954\n",
       "125         Mexico  North America  ...                        1.38       17336.469\n",
       "\n",
       "[10 rows x 6 columns]"
      ]
     },
     "execution_count": 48,
     "metadata": {
      "tags": []
     },
     "output_type": "execute_result"
    }
   ],
   "source": [
    "most_populous_df"
   ]
  },
  {
   "cell_type": "code",
   "execution_count": 49,
   "metadata": {
    "colab": {
     "base_uri": "https://localhost:8080/",
     "height": 86
    },
    "executionInfo": {
     "elapsed": 3212,
     "status": "ok",
     "timestamp": 1601113838316,
     "user": {
      "displayName": "Sahil Sao",
      "photoUrl": "https://lh3.googleusercontent.com/a-/AOh14Gg8qtnIEWfY17Wv11en7MX60Lf7--o4RzGsLgN1iA=s64",
      "userId": "16292347190877917467"
     },
     "user_tz": -330
    },
    "id": "b0kWbaP6rkpt",
    "outputId": "86e28f01-e6e6-4056-b5f0-f5678076d774"
   },
   "outputs": [
    {
     "name": "stdout",
     "output_type": "stream",
     "text": [
      "[jovian] Detected Colab notebook...\u001b[0m\n",
      "[jovian] Uploading colab notebook to Jovian...\u001b[0m\n",
      "[jovian] Committed successfully! https://jovian.ml/sahilfaizal/pandas-practice-assignment-sahil\u001b[0m\n"
     ]
    },
    {
     "data": {
      "application/vnd.google.colaboratory.intrinsic+json": {
       "type": "string"
      },
      "text/plain": [
       "'https://jovian.ml/sahilfaizal/pandas-practice-assignment-sahil'"
      ]
     },
     "execution_count": 49,
     "metadata": {
      "tags": []
     },
     "output_type": "execute_result"
    }
   ],
   "source": [
    "jovian.commit(project='pandas-practice-assignment-sahil', environment=None)"
   ]
  },
  {
   "cell_type": "markdown",
   "metadata": {
    "id": "jgnZ16-7rkp0"
   },
   "source": [
    "**Q: Add a new column in `countries_df` to record the overall GDP per country (product of population & per capita GDP).**\n",
    "\n"
   ]
  },
  {
   "cell_type": "code",
   "execution_count": 50,
   "metadata": {
    "executionInfo": {
     "elapsed": 1010,
     "status": "ok",
     "timestamp": 1601113895304,
     "user": {
      "displayName": "Sahil Sao",
      "photoUrl": "https://lh3.googleusercontent.com/a-/AOh14Gg8qtnIEWfY17Wv11en7MX60Lf7--o4RzGsLgN1iA=s64",
      "userId": "16292347190877917467"
     },
     "user_tz": -330
    },
    "id": "d0k_M3-Drkp1"
   },
   "outputs": [],
   "source": [
    "countries_df['gdp'] =  countries_df['population']*countries_df['gdp_per_capita']"
   ]
  },
  {
   "cell_type": "code",
   "execution_count": 51,
   "metadata": {
    "colab": {
     "base_uri": "https://localhost:8080/",
     "height": 419
    },
    "executionInfo": {
     "elapsed": 1458,
     "status": "ok",
     "timestamp": 1601113909795,
     "user": {
      "displayName": "Sahil Sao",
      "photoUrl": "https://lh3.googleusercontent.com/a-/AOh14Gg8qtnIEWfY17Wv11en7MX60Lf7--o4RzGsLgN1iA=s64",
      "userId": "16292347190877917467"
     },
     "user_tz": -330
    },
    "id": "73Dq4edlrkp9",
    "outputId": "18331c49-b8e2-44e7-c8af-d8cc917ba2a3"
   },
   "outputs": [
    {
     "data": {
      "text/html": [
       "<div>\n",
       "<style scoped>\n",
       "    .dataframe tbody tr th:only-of-type {\n",
       "        vertical-align: middle;\n",
       "    }\n",
       "\n",
       "    .dataframe tbody tr th {\n",
       "        vertical-align: top;\n",
       "    }\n",
       "\n",
       "    .dataframe thead th {\n",
       "        text-align: right;\n",
       "    }\n",
       "</style>\n",
       "<table border=\"1\" class=\"dataframe\">\n",
       "  <thead>\n",
       "    <tr style=\"text-align: right;\">\n",
       "      <th></th>\n",
       "      <th>location</th>\n",
       "      <th>continent</th>\n",
       "      <th>population</th>\n",
       "      <th>life_expectancy</th>\n",
       "      <th>hospital_beds_per_thousand</th>\n",
       "      <th>gdp_per_capita</th>\n",
       "      <th>gdp</th>\n",
       "    </tr>\n",
       "  </thead>\n",
       "  <tbody>\n",
       "    <tr>\n",
       "      <th>0</th>\n",
       "      <td>Afghanistan</td>\n",
       "      <td>Asia</td>\n",
       "      <td>38928341.0</td>\n",
       "      <td>64.83</td>\n",
       "      <td>0.50</td>\n",
       "      <td>1803.987</td>\n",
       "      <td>7.022622e+10</td>\n",
       "    </tr>\n",
       "    <tr>\n",
       "      <th>1</th>\n",
       "      <td>Albania</td>\n",
       "      <td>Europe</td>\n",
       "      <td>2877800.0</td>\n",
       "      <td>78.57</td>\n",
       "      <td>2.89</td>\n",
       "      <td>11803.431</td>\n",
       "      <td>3.396791e+10</td>\n",
       "    </tr>\n",
       "    <tr>\n",
       "      <th>2</th>\n",
       "      <td>Algeria</td>\n",
       "      <td>Africa</td>\n",
       "      <td>43851043.0</td>\n",
       "      <td>76.88</td>\n",
       "      <td>1.90</td>\n",
       "      <td>13913.839</td>\n",
       "      <td>6.101364e+11</td>\n",
       "    </tr>\n",
       "    <tr>\n",
       "      <th>3</th>\n",
       "      <td>Andorra</td>\n",
       "      <td>Europe</td>\n",
       "      <td>77265.0</td>\n",
       "      <td>83.73</td>\n",
       "      <td>NaN</td>\n",
       "      <td>NaN</td>\n",
       "      <td>NaN</td>\n",
       "    </tr>\n",
       "    <tr>\n",
       "      <th>4</th>\n",
       "      <td>Angola</td>\n",
       "      <td>Africa</td>\n",
       "      <td>32866268.0</td>\n",
       "      <td>61.15</td>\n",
       "      <td>NaN</td>\n",
       "      <td>5819.495</td>\n",
       "      <td>1.912651e+11</td>\n",
       "    </tr>\n",
       "    <tr>\n",
       "      <th>...</th>\n",
       "      <td>...</td>\n",
       "      <td>...</td>\n",
       "      <td>...</td>\n",
       "      <td>...</td>\n",
       "      <td>...</td>\n",
       "      <td>...</td>\n",
       "      <td>...</td>\n",
       "    </tr>\n",
       "    <tr>\n",
       "      <th>205</th>\n",
       "      <td>Vietnam</td>\n",
       "      <td>Asia</td>\n",
       "      <td>97338583.0</td>\n",
       "      <td>75.40</td>\n",
       "      <td>2.60</td>\n",
       "      <td>6171.884</td>\n",
       "      <td>6.007624e+11</td>\n",
       "    </tr>\n",
       "    <tr>\n",
       "      <th>206</th>\n",
       "      <td>Western Sahara</td>\n",
       "      <td>Africa</td>\n",
       "      <td>597330.0</td>\n",
       "      <td>70.26</td>\n",
       "      <td>NaN</td>\n",
       "      <td>NaN</td>\n",
       "      <td>NaN</td>\n",
       "    </tr>\n",
       "    <tr>\n",
       "      <th>207</th>\n",
       "      <td>Yemen</td>\n",
       "      <td>Asia</td>\n",
       "      <td>29825968.0</td>\n",
       "      <td>66.12</td>\n",
       "      <td>0.70</td>\n",
       "      <td>1479.147</td>\n",
       "      <td>4.411699e+10</td>\n",
       "    </tr>\n",
       "    <tr>\n",
       "      <th>208</th>\n",
       "      <td>Zambia</td>\n",
       "      <td>Africa</td>\n",
       "      <td>18383956.0</td>\n",
       "      <td>63.89</td>\n",
       "      <td>2.00</td>\n",
       "      <td>3689.251</td>\n",
       "      <td>6.782303e+10</td>\n",
       "    </tr>\n",
       "    <tr>\n",
       "      <th>209</th>\n",
       "      <td>Zimbabwe</td>\n",
       "      <td>Africa</td>\n",
       "      <td>14862927.0</td>\n",
       "      <td>61.49</td>\n",
       "      <td>1.70</td>\n",
       "      <td>1899.775</td>\n",
       "      <td>2.823622e+10</td>\n",
       "    </tr>\n",
       "  </tbody>\n",
       "</table>\n",
       "<p>210 rows × 7 columns</p>\n",
       "</div>"
      ],
      "text/plain": [
       "           location continent  ...  gdp_per_capita           gdp\n",
       "0       Afghanistan      Asia  ...        1803.987  7.022622e+10\n",
       "1           Albania    Europe  ...       11803.431  3.396791e+10\n",
       "2           Algeria    Africa  ...       13913.839  6.101364e+11\n",
       "3           Andorra    Europe  ...             NaN           NaN\n",
       "4            Angola    Africa  ...        5819.495  1.912651e+11\n",
       "..              ...       ...  ...             ...           ...\n",
       "205         Vietnam      Asia  ...        6171.884  6.007624e+11\n",
       "206  Western Sahara    Africa  ...             NaN           NaN\n",
       "207           Yemen      Asia  ...        1479.147  4.411699e+10\n",
       "208          Zambia    Africa  ...        3689.251  6.782303e+10\n",
       "209        Zimbabwe    Africa  ...        1899.775  2.823622e+10\n",
       "\n",
       "[210 rows x 7 columns]"
      ]
     },
     "execution_count": 51,
     "metadata": {
      "tags": []
     },
     "output_type": "execute_result"
    }
   ],
   "source": [
    "countries_df"
   ]
  },
  {
   "cell_type": "code",
   "execution_count": 52,
   "metadata": {
    "colab": {
     "base_uri": "https://localhost:8080/",
     "height": 86
    },
    "executionInfo": {
     "elapsed": 3313,
     "status": "ok",
     "timestamp": 1601113922661,
     "user": {
      "displayName": "Sahil Sao",
      "photoUrl": "https://lh3.googleusercontent.com/a-/AOh14Gg8qtnIEWfY17Wv11en7MX60Lf7--o4RzGsLgN1iA=s64",
      "userId": "16292347190877917467"
     },
     "user_tz": -330
    },
    "id": "LnlgnP3CrkqC",
    "outputId": "42d7939e-c21c-43c0-d2ff-8aa24ed9846a"
   },
   "outputs": [
    {
     "name": "stdout",
     "output_type": "stream",
     "text": [
      "[jovian] Detected Colab notebook...\u001b[0m\n",
      "[jovian] Uploading colab notebook to Jovian...\u001b[0m\n",
      "[jovian] Committed successfully! https://jovian.ml/sahilfaizal/pandas-practice-assignment-sahil\u001b[0m\n"
     ]
    },
    {
     "data": {
      "application/vnd.google.colaboratory.intrinsic+json": {
       "type": "string"
      },
      "text/plain": [
       "'https://jovian.ml/sahilfaizal/pandas-practice-assignment-sahil'"
      ]
     },
     "execution_count": 52,
     "metadata": {
      "tags": []
     },
     "output_type": "execute_result"
    }
   ],
   "source": [
    "jovian.commit(project='pandas-practice-assignment-sahil', environment=None)"
   ]
  },
  {
   "cell_type": "markdown",
   "metadata": {
    "id": "d6VNioLerkqG"
   },
   "source": [
    "**Q: (Optional) Create a dataframe containing 10 countries with the lowest GDP per capita, among the counties with population greater than 100 million.**"
   ]
  },
  {
   "cell_type": "code",
   "execution_count": 53,
   "metadata": {
    "executionInfo": {
     "elapsed": 1353,
     "status": "ok",
     "timestamp": 1601114058174,
     "user": {
      "displayName": "Sahil Sao",
      "photoUrl": "https://lh3.googleusercontent.com/a-/AOh14Gg8qtnIEWfY17Wv11en7MX60Lf7--o4RzGsLgN1iA=s64",
      "userId": "16292347190877917467"
     },
     "user_tz": -330
    },
    "id": "6dh9ueITrkqH"
   },
   "outputs": [],
   "source": [
    "low_gdp_cap = countries_df[countries_df.population > 1e8].sort_values('gdp_per_capita', ascending=True).head(10)"
   ]
  },
  {
   "cell_type": "code",
   "execution_count": 54,
   "metadata": {
    "colab": {
     "base_uri": "https://localhost:8080/",
     "height": 359
    },
    "executionInfo": {
     "elapsed": 1458,
     "status": "ok",
     "timestamp": 1601114066018,
     "user": {
      "displayName": "Sahil Sao",
      "photoUrl": "https://lh3.googleusercontent.com/a-/AOh14Gg8qtnIEWfY17Wv11en7MX60Lf7--o4RzGsLgN1iA=s64",
      "userId": "16292347190877917467"
     },
     "user_tz": -330
    },
    "id": "QEiLHosWrkqK",
    "outputId": "f127b181-3c33-45ed-91d8-09a8d5dc362e"
   },
   "outputs": [
    {
     "data": {
      "text/html": [
       "<div>\n",
       "<style scoped>\n",
       "    .dataframe tbody tr th:only-of-type {\n",
       "        vertical-align: middle;\n",
       "    }\n",
       "\n",
       "    .dataframe tbody tr th {\n",
       "        vertical-align: top;\n",
       "    }\n",
       "\n",
       "    .dataframe thead th {\n",
       "        text-align: right;\n",
       "    }\n",
       "</style>\n",
       "<table border=\"1\" class=\"dataframe\">\n",
       "  <thead>\n",
       "    <tr style=\"text-align: right;\">\n",
       "      <th></th>\n",
       "      <th>location</th>\n",
       "      <th>continent</th>\n",
       "      <th>population</th>\n",
       "      <th>life_expectancy</th>\n",
       "      <th>hospital_beds_per_thousand</th>\n",
       "      <th>gdp_per_capita</th>\n",
       "      <th>gdp</th>\n",
       "    </tr>\n",
       "  </thead>\n",
       "  <tbody>\n",
       "    <tr>\n",
       "      <th>63</th>\n",
       "      <td>Ethiopia</td>\n",
       "      <td>Africa</td>\n",
       "      <td>1.149636e+08</td>\n",
       "      <td>66.60</td>\n",
       "      <td>0.30</td>\n",
       "      <td>1729.927</td>\n",
       "      <td>1.988786e+11</td>\n",
       "    </tr>\n",
       "    <tr>\n",
       "      <th>15</th>\n",
       "      <td>Bangladesh</td>\n",
       "      <td>Asia</td>\n",
       "      <td>1.646894e+08</td>\n",
       "      <td>72.59</td>\n",
       "      <td>0.80</td>\n",
       "      <td>3523.984</td>\n",
       "      <td>5.803628e+11</td>\n",
       "    </tr>\n",
       "    <tr>\n",
       "      <th>145</th>\n",
       "      <td>Pakistan</td>\n",
       "      <td>Asia</td>\n",
       "      <td>2.208923e+08</td>\n",
       "      <td>67.27</td>\n",
       "      <td>0.60</td>\n",
       "      <td>5034.708</td>\n",
       "      <td>1.112128e+12</td>\n",
       "    </tr>\n",
       "    <tr>\n",
       "      <th>141</th>\n",
       "      <td>Nigeria</td>\n",
       "      <td>Africa</td>\n",
       "      <td>2.061396e+08</td>\n",
       "      <td>54.69</td>\n",
       "      <td>NaN</td>\n",
       "      <td>5338.454</td>\n",
       "      <td>1.100467e+12</td>\n",
       "    </tr>\n",
       "    <tr>\n",
       "      <th>90</th>\n",
       "      <td>India</td>\n",
       "      <td>Asia</td>\n",
       "      <td>1.380004e+09</td>\n",
       "      <td>69.66</td>\n",
       "      <td>0.53</td>\n",
       "      <td>6426.674</td>\n",
       "      <td>8.868838e+12</td>\n",
       "    </tr>\n",
       "    <tr>\n",
       "      <th>151</th>\n",
       "      <td>Philippines</td>\n",
       "      <td>Asia</td>\n",
       "      <td>1.095811e+08</td>\n",
       "      <td>71.23</td>\n",
       "      <td>1.00</td>\n",
       "      <td>7599.188</td>\n",
       "      <td>8.327273e+11</td>\n",
       "    </tr>\n",
       "    <tr>\n",
       "      <th>58</th>\n",
       "      <td>Egypt</td>\n",
       "      <td>Africa</td>\n",
       "      <td>1.023344e+08</td>\n",
       "      <td>71.99</td>\n",
       "      <td>1.60</td>\n",
       "      <td>10550.206</td>\n",
       "      <td>1.079649e+12</td>\n",
       "    </tr>\n",
       "    <tr>\n",
       "      <th>91</th>\n",
       "      <td>Indonesia</td>\n",
       "      <td>Asia</td>\n",
       "      <td>2.735236e+08</td>\n",
       "      <td>71.72</td>\n",
       "      <td>1.04</td>\n",
       "      <td>11188.744</td>\n",
       "      <td>3.060386e+12</td>\n",
       "    </tr>\n",
       "    <tr>\n",
       "      <th>27</th>\n",
       "      <td>Brazil</td>\n",
       "      <td>South America</td>\n",
       "      <td>2.125594e+08</td>\n",
       "      <td>75.88</td>\n",
       "      <td>2.20</td>\n",
       "      <td>14103.452</td>\n",
       "      <td>2.997821e+12</td>\n",
       "    </tr>\n",
       "    <tr>\n",
       "      <th>41</th>\n",
       "      <td>China</td>\n",
       "      <td>Asia</td>\n",
       "      <td>1.439324e+09</td>\n",
       "      <td>76.91</td>\n",
       "      <td>4.34</td>\n",
       "      <td>15308.712</td>\n",
       "      <td>2.203419e+13</td>\n",
       "    </tr>\n",
       "  </tbody>\n",
       "</table>\n",
       "</div>"
      ],
      "text/plain": [
       "        location      continent  ...  gdp_per_capita           gdp\n",
       "63      Ethiopia         Africa  ...        1729.927  1.988786e+11\n",
       "15    Bangladesh           Asia  ...        3523.984  5.803628e+11\n",
       "145     Pakistan           Asia  ...        5034.708  1.112128e+12\n",
       "141      Nigeria         Africa  ...        5338.454  1.100467e+12\n",
       "90         India           Asia  ...        6426.674  8.868838e+12\n",
       "151  Philippines           Asia  ...        7599.188  8.327273e+11\n",
       "58         Egypt         Africa  ...       10550.206  1.079649e+12\n",
       "91     Indonesia           Asia  ...       11188.744  3.060386e+12\n",
       "27        Brazil  South America  ...       14103.452  2.997821e+12\n",
       "41         China           Asia  ...       15308.712  2.203419e+13\n",
       "\n",
       "[10 rows x 7 columns]"
      ]
     },
     "execution_count": 54,
     "metadata": {
      "tags": []
     },
     "output_type": "execute_result"
    }
   ],
   "source": [
    "low_gdp_cap"
   ]
  },
  {
   "cell_type": "code",
   "execution_count": 55,
   "metadata": {
    "colab": {
     "base_uri": "https://localhost:8080/",
     "height": 86
    },
    "executionInfo": {
     "elapsed": 3162,
     "status": "ok",
     "timestamp": 1601114077611,
     "user": {
      "displayName": "Sahil Sao",
      "photoUrl": "https://lh3.googleusercontent.com/a-/AOh14Gg8qtnIEWfY17Wv11en7MX60Lf7--o4RzGsLgN1iA=s64",
      "userId": "16292347190877917467"
     },
     "user_tz": -330
    },
    "id": "WCCZ0eatrkqP",
    "outputId": "1cd7030a-4634-45b4-b89d-33884e3d343f"
   },
   "outputs": [
    {
     "name": "stdout",
     "output_type": "stream",
     "text": [
      "[jovian] Detected Colab notebook...\u001b[0m\n",
      "[jovian] Uploading colab notebook to Jovian...\u001b[0m\n",
      "[jovian] Committed successfully! https://jovian.ml/sahilfaizal/pandas-practice-assignment-sahil\u001b[0m\n"
     ]
    },
    {
     "data": {
      "application/vnd.google.colaboratory.intrinsic+json": {
       "type": "string"
      },
      "text/plain": [
       "'https://jovian.ml/sahilfaizal/pandas-practice-assignment-sahil'"
      ]
     },
     "execution_count": 55,
     "metadata": {
      "tags": []
     },
     "output_type": "execute_result"
    }
   ],
   "source": [
    "jovian.commit(project='pandas-practice-assignment-sahil', environment=None)"
   ]
  },
  {
   "cell_type": "markdown",
   "metadata": {
    "id": "CHarF8SWrkqX"
   },
   "source": [
    "**Q: Create a data frame that counts the number countries in each continent?**\n",
    "\n",
    "*Hint: Use `groupby`, select the `location` column and aggregate using `count`.*"
   ]
  },
  {
   "cell_type": "code",
   "execution_count": 56,
   "metadata": {
    "executionInfo": {
     "elapsed": 1553,
     "status": "ok",
     "timestamp": 1601114109532,
     "user": {
      "displayName": "Sahil Sao",
      "photoUrl": "https://lh3.googleusercontent.com/a-/AOh14Gg8qtnIEWfY17Wv11en7MX60Lf7--o4RzGsLgN1iA=s64",
      "userId": "16292347190877917467"
     },
     "user_tz": -330
    },
    "id": "9GsFb019rkqY"
   },
   "outputs": [],
   "source": [
    "country_counts_df = countries_df.groupby('continent')['location'].count()"
   ]
  },
  {
   "cell_type": "code",
   "execution_count": 57,
   "metadata": {
    "colab": {
     "base_uri": "https://localhost:8080/",
     "height": 153
    },
    "executionInfo": {
     "elapsed": 1322,
     "status": "ok",
     "timestamp": 1601114113696,
     "user": {
      "displayName": "Sahil Sao",
      "photoUrl": "https://lh3.googleusercontent.com/a-/AOh14Gg8qtnIEWfY17Wv11en7MX60Lf7--o4RzGsLgN1iA=s64",
      "userId": "16292347190877917467"
     },
     "user_tz": -330
    },
    "id": "3QAPcw_9rkqi",
    "outputId": "2fb6c44a-1cf6-4ad9-91d5-1e7419032272"
   },
   "outputs": [
    {
     "data": {
      "text/plain": [
       "continent\n",
       "Africa           55\n",
       "Asia             47\n",
       "Europe           51\n",
       "North America    36\n",
       "Oceania           8\n",
       "South America    13\n",
       "Name: location, dtype: int64"
      ]
     },
     "execution_count": 57,
     "metadata": {
      "tags": []
     },
     "output_type": "execute_result"
    }
   ],
   "source": [
    "country_counts_df"
   ]
  },
  {
   "cell_type": "code",
   "execution_count": 58,
   "metadata": {
    "colab": {
     "base_uri": "https://localhost:8080/",
     "height": 86
    },
    "executionInfo": {
     "elapsed": 3480,
     "status": "ok",
     "timestamp": 1601114128270,
     "user": {
      "displayName": "Sahil Sao",
      "photoUrl": "https://lh3.googleusercontent.com/a-/AOh14Gg8qtnIEWfY17Wv11en7MX60Lf7--o4RzGsLgN1iA=s64",
      "userId": "16292347190877917467"
     },
     "user_tz": -330
    },
    "id": "3VtWAGCPrkqm",
    "outputId": "d835413e-2816-495d-dd9e-df23b7ec6678"
   },
   "outputs": [
    {
     "name": "stdout",
     "output_type": "stream",
     "text": [
      "[jovian] Detected Colab notebook...\u001b[0m\n",
      "[jovian] Uploading colab notebook to Jovian...\u001b[0m\n",
      "[jovian] Committed successfully! https://jovian.ml/sahilfaizal/pandas-practice-assignment-sahil\u001b[0m\n"
     ]
    },
    {
     "data": {
      "application/vnd.google.colaboratory.intrinsic+json": {
       "type": "string"
      },
      "text/plain": [
       "'https://jovian.ml/sahilfaizal/pandas-practice-assignment-sahil'"
      ]
     },
     "execution_count": 58,
     "metadata": {
      "tags": []
     },
     "output_type": "execute_result"
    }
   ],
   "source": [
    "jovian.commit(project='pandas-practice-assignment-sahil', environment=None)"
   ]
  },
  {
   "cell_type": "markdown",
   "metadata": {
    "id": "70N5fequrkqq"
   },
   "source": [
    "**Q: Create a data frame showing the total population of each continent.**\n",
    "\n",
    "*Hint: Use `groupby`, select the population column and aggregate using `sum`.*"
   ]
  },
  {
   "cell_type": "code",
   "execution_count": 59,
   "metadata": {
    "executionInfo": {
     "elapsed": 1135,
     "status": "ok",
     "timestamp": 1601114156235,
     "user": {
      "displayName": "Sahil Sao",
      "photoUrl": "https://lh3.googleusercontent.com/a-/AOh14Gg8qtnIEWfY17Wv11en7MX60Lf7--o4RzGsLgN1iA=s64",
      "userId": "16292347190877917467"
     },
     "user_tz": -330
    },
    "id": "GZ3yh3Gzrkqr"
   },
   "outputs": [],
   "source": [
    "continent_populations_df = countries_df.groupby('continent')['population'].sum()"
   ]
  },
  {
   "cell_type": "code",
   "execution_count": 60,
   "metadata": {
    "colab": {
     "base_uri": "https://localhost:8080/",
     "height": 153
    },
    "executionInfo": {
     "elapsed": 1480,
     "status": "ok",
     "timestamp": 1601114161122,
     "user": {
      "displayName": "Sahil Sao",
      "photoUrl": "https://lh3.googleusercontent.com/a-/AOh14Gg8qtnIEWfY17Wv11en7MX60Lf7--o4RzGsLgN1iA=s64",
      "userId": "16292347190877917467"
     },
     "user_tz": -330
    },
    "id": "3sc8Rm-urkqw",
    "outputId": "044398b7-c6f6-4531-c6a3-0e15b458cc98"
   },
   "outputs": [
    {
     "data": {
      "text/plain": [
       "continent\n",
       "Africa           1.339424e+09\n",
       "Asia             4.607388e+09\n",
       "Europe           7.485062e+08\n",
       "North America    5.912425e+08\n",
       "Oceania          4.095832e+07\n",
       "South America    4.304611e+08\n",
       "Name: population, dtype: float64"
      ]
     },
     "execution_count": 60,
     "metadata": {
      "tags": []
     },
     "output_type": "execute_result"
    }
   ],
   "source": [
    "continent_populations_df"
   ]
  },
  {
   "cell_type": "code",
   "execution_count": 61,
   "metadata": {
    "colab": {
     "base_uri": "https://localhost:8080/",
     "height": 86
    },
    "executionInfo": {
     "elapsed": 3861,
     "status": "ok",
     "timestamp": 1601114174895,
     "user": {
      "displayName": "Sahil Sao",
      "photoUrl": "https://lh3.googleusercontent.com/a-/AOh14Gg8qtnIEWfY17Wv11en7MX60Lf7--o4RzGsLgN1iA=s64",
      "userId": "16292347190877917467"
     },
     "user_tz": -330
    },
    "id": "Je9uiA_Grkq2",
    "outputId": "fef2d85d-02b7-424f-82fa-14b05d9e8e28"
   },
   "outputs": [
    {
     "name": "stdout",
     "output_type": "stream",
     "text": [
      "[jovian] Detected Colab notebook...\u001b[0m\n",
      "[jovian] Uploading colab notebook to Jovian...\u001b[0m\n",
      "[jovian] Committed successfully! https://jovian.ml/sahilfaizal/pandas-practice-assignment-sahil\u001b[0m\n"
     ]
    },
    {
     "data": {
      "application/vnd.google.colaboratory.intrinsic+json": {
       "type": "string"
      },
      "text/plain": [
       "'https://jovian.ml/sahilfaizal/pandas-practice-assignment-sahil'"
      ]
     },
     "execution_count": 61,
     "metadata": {
      "tags": []
     },
     "output_type": "execute_result"
    }
   ],
   "source": [
    "jovian.commit(project='pandas-practice-assignment-sahil', environment=None)"
   ]
  },
  {
   "cell_type": "markdown",
   "metadata": {
    "id": "WYf09CFZrkq9"
   },
   "source": [
    "Let's download another CSV file containing overall Covid-19 stats for various countires, and read the data into another Pandas data frame."
   ]
  },
  {
   "cell_type": "code",
   "execution_count": 62,
   "metadata": {
    "colab": {
     "base_uri": "https://localhost:8080/",
     "height": 34
    },
    "executionInfo": {
     "elapsed": 3642,
     "status": "ok",
     "timestamp": 1601114181178,
     "user": {
      "displayName": "Sahil Sao",
      "photoUrl": "https://lh3.googleusercontent.com/a-/AOh14Gg8qtnIEWfY17Wv11en7MX60Lf7--o4RzGsLgN1iA=s64",
      "userId": "16292347190877917467"
     },
     "user_tz": -330
    },
    "id": "5NIDoPTVrkq-",
    "outputId": "b19d059f-dde6-485b-b64c-bc5de07b27e0"
   },
   "outputs": [
    {
     "data": {
      "text/plain": [
       "('covid-countries-data.csv', <http.client.HTTPMessage at 0x7fcf25859a58>)"
      ]
     },
     "execution_count": 62,
     "metadata": {
      "tags": []
     },
     "output_type": "execute_result"
    }
   ],
   "source": [
    "urlretrieve('https://hub.jovian.ml/wp-content/uploads/2020/09/covid-countries-data.csv', \n",
    "            'covid-countries-data.csv')"
   ]
  },
  {
   "cell_type": "code",
   "execution_count": 63,
   "metadata": {
    "executionInfo": {
     "elapsed": 1607,
     "status": "ok",
     "timestamp": 1601114184346,
     "user": {
      "displayName": "Sahil Sao",
      "photoUrl": "https://lh3.googleusercontent.com/a-/AOh14Gg8qtnIEWfY17Wv11en7MX60Lf7--o4RzGsLgN1iA=s64",
      "userId": "16292347190877917467"
     },
     "user_tz": -330
    },
    "id": "ZtMjVoGarkrB"
   },
   "outputs": [],
   "source": [
    "covid_data_df = pd.read_csv('covid-countries-data.csv')"
   ]
  },
  {
   "cell_type": "code",
   "execution_count": 64,
   "metadata": {
    "colab": {
     "base_uri": "https://localhost:8080/",
     "height": 419
    },
    "executionInfo": {
     "elapsed": 1648,
     "status": "ok",
     "timestamp": 1601114187500,
     "user": {
      "displayName": "Sahil Sao",
      "photoUrl": "https://lh3.googleusercontent.com/a-/AOh14Gg8qtnIEWfY17Wv11en7MX60Lf7--o4RzGsLgN1iA=s64",
      "userId": "16292347190877917467"
     },
     "user_tz": -330
    },
    "id": "PxgoD8yurkrF",
    "outputId": "75eae212-2bf0-435a-edb7-ba876523758f",
    "scrolled": true
   },
   "outputs": [
    {
     "data": {
      "text/html": [
       "<div>\n",
       "<style scoped>\n",
       "    .dataframe tbody tr th:only-of-type {\n",
       "        vertical-align: middle;\n",
       "    }\n",
       "\n",
       "    .dataframe tbody tr th {\n",
       "        vertical-align: top;\n",
       "    }\n",
       "\n",
       "    .dataframe thead th {\n",
       "        text-align: right;\n",
       "    }\n",
       "</style>\n",
       "<table border=\"1\" class=\"dataframe\">\n",
       "  <thead>\n",
       "    <tr style=\"text-align: right;\">\n",
       "      <th></th>\n",
       "      <th>location</th>\n",
       "      <th>total_cases</th>\n",
       "      <th>total_deaths</th>\n",
       "      <th>total_tests</th>\n",
       "    </tr>\n",
       "  </thead>\n",
       "  <tbody>\n",
       "    <tr>\n",
       "      <th>0</th>\n",
       "      <td>Afghanistan</td>\n",
       "      <td>38243.0</td>\n",
       "      <td>1409.0</td>\n",
       "      <td>NaN</td>\n",
       "    </tr>\n",
       "    <tr>\n",
       "      <th>1</th>\n",
       "      <td>Albania</td>\n",
       "      <td>9728.0</td>\n",
       "      <td>296.0</td>\n",
       "      <td>NaN</td>\n",
       "    </tr>\n",
       "    <tr>\n",
       "      <th>2</th>\n",
       "      <td>Algeria</td>\n",
       "      <td>45158.0</td>\n",
       "      <td>1525.0</td>\n",
       "      <td>NaN</td>\n",
       "    </tr>\n",
       "    <tr>\n",
       "      <th>3</th>\n",
       "      <td>Andorra</td>\n",
       "      <td>1199.0</td>\n",
       "      <td>53.0</td>\n",
       "      <td>NaN</td>\n",
       "    </tr>\n",
       "    <tr>\n",
       "      <th>4</th>\n",
       "      <td>Angola</td>\n",
       "      <td>2729.0</td>\n",
       "      <td>109.0</td>\n",
       "      <td>NaN</td>\n",
       "    </tr>\n",
       "    <tr>\n",
       "      <th>...</th>\n",
       "      <td>...</td>\n",
       "      <td>...</td>\n",
       "      <td>...</td>\n",
       "      <td>...</td>\n",
       "    </tr>\n",
       "    <tr>\n",
       "      <th>207</th>\n",
       "      <td>Western Sahara</td>\n",
       "      <td>766.0</td>\n",
       "      <td>1.0</td>\n",
       "      <td>NaN</td>\n",
       "    </tr>\n",
       "    <tr>\n",
       "      <th>208</th>\n",
       "      <td>World</td>\n",
       "      <td>26059065.0</td>\n",
       "      <td>863535.0</td>\n",
       "      <td>NaN</td>\n",
       "    </tr>\n",
       "    <tr>\n",
       "      <th>209</th>\n",
       "      <td>Yemen</td>\n",
       "      <td>1976.0</td>\n",
       "      <td>571.0</td>\n",
       "      <td>NaN</td>\n",
       "    </tr>\n",
       "    <tr>\n",
       "      <th>210</th>\n",
       "      <td>Zambia</td>\n",
       "      <td>12415.0</td>\n",
       "      <td>292.0</td>\n",
       "      <td>NaN</td>\n",
       "    </tr>\n",
       "    <tr>\n",
       "      <th>211</th>\n",
       "      <td>Zimbabwe</td>\n",
       "      <td>6638.0</td>\n",
       "      <td>206.0</td>\n",
       "      <td>97272.0</td>\n",
       "    </tr>\n",
       "  </tbody>\n",
       "</table>\n",
       "<p>212 rows × 4 columns</p>\n",
       "</div>"
      ],
      "text/plain": [
       "           location  total_cases  total_deaths  total_tests\n",
       "0       Afghanistan      38243.0        1409.0          NaN\n",
       "1           Albania       9728.0         296.0          NaN\n",
       "2           Algeria      45158.0        1525.0          NaN\n",
       "3           Andorra       1199.0          53.0          NaN\n",
       "4            Angola       2729.0         109.0          NaN\n",
       "..              ...          ...           ...          ...\n",
       "207  Western Sahara        766.0           1.0          NaN\n",
       "208           World   26059065.0      863535.0          NaN\n",
       "209           Yemen       1976.0         571.0          NaN\n",
       "210          Zambia      12415.0         292.0          NaN\n",
       "211        Zimbabwe       6638.0         206.0      97272.0\n",
       "\n",
       "[212 rows x 4 columns]"
      ]
     },
     "execution_count": 64,
     "metadata": {
      "tags": []
     },
     "output_type": "execute_result"
    }
   ],
   "source": [
    "covid_data_df"
   ]
  },
  {
   "cell_type": "markdown",
   "metadata": {
    "id": "MtN_2Nv7rkrM"
   },
   "source": [
    "**Q: Count the number of countries for which the `total_tests` data is missing.**\n",
    "\n",
    "*Hint: Use the `.isna` method.*"
   ]
  },
  {
   "cell_type": "code",
   "execution_count": 65,
   "metadata": {
    "executionInfo": {
     "elapsed": 1076,
     "status": "ok",
     "timestamp": 1601114225904,
     "user": {
      "displayName": "Sahil Sao",
      "photoUrl": "https://lh3.googleusercontent.com/a-/AOh14Gg8qtnIEWfY17Wv11en7MX60Lf7--o4RzGsLgN1iA=s64",
      "userId": "16292347190877917467"
     },
     "user_tz": -330
    },
    "id": "FFSbVOjTrkrN"
   },
   "outputs": [],
   "source": [
    "total_tests_missing = covid_data_df.total_tests.isna().sum()"
   ]
  },
  {
   "cell_type": "code",
   "execution_count": 66,
   "metadata": {
    "colab": {
     "base_uri": "https://localhost:8080/",
     "height": 34
    },
    "executionInfo": {
     "elapsed": 1115,
     "status": "ok",
     "timestamp": 1601114231934,
     "user": {
      "displayName": "Sahil Sao",
      "photoUrl": "https://lh3.googleusercontent.com/a-/AOh14Gg8qtnIEWfY17Wv11en7MX60Lf7--o4RzGsLgN1iA=s64",
      "userId": "16292347190877917467"
     },
     "user_tz": -330
    },
    "id": "gSUNB3DprkrT",
    "outputId": "cf28d7ac-1f02-4702-ffbb-cbb8cd2b8cd4"
   },
   "outputs": [
    {
     "name": "stdout",
     "output_type": "stream",
     "text": [
      "The data for total tests is missing for 122 countries.\n"
     ]
    }
   ],
   "source": [
    "print(\"The data for total tests is missing for {} countries.\".format(int(total_tests_missing)))"
   ]
  },
  {
   "cell_type": "code",
   "execution_count": 67,
   "metadata": {
    "colab": {
     "base_uri": "https://localhost:8080/",
     "height": 86
    },
    "executionInfo": {
     "elapsed": 3723,
     "status": "ok",
     "timestamp": 1601114246497,
     "user": {
      "displayName": "Sahil Sao",
      "photoUrl": "https://lh3.googleusercontent.com/a-/AOh14Gg8qtnIEWfY17Wv11en7MX60Lf7--o4RzGsLgN1iA=s64",
      "userId": "16292347190877917467"
     },
     "user_tz": -330
    },
    "id": "KB0T_OVSrkrZ",
    "outputId": "e2239a5e-f78b-4d7c-f624-04c0cce88e0d"
   },
   "outputs": [
    {
     "name": "stdout",
     "output_type": "stream",
     "text": [
      "[jovian] Detected Colab notebook...\u001b[0m\n",
      "[jovian] Uploading colab notebook to Jovian...\u001b[0m\n",
      "[jovian] Committed successfully! https://jovian.ml/sahilfaizal/pandas-practice-assignment-sahil\u001b[0m\n"
     ]
    },
    {
     "data": {
      "application/vnd.google.colaboratory.intrinsic+json": {
       "type": "string"
      },
      "text/plain": [
       "'https://jovian.ml/sahilfaizal/pandas-practice-assignment-sahil'"
      ]
     },
     "execution_count": 67,
     "metadata": {
      "tags": []
     },
     "output_type": "execute_result"
    }
   ],
   "source": [
    "jovian.commit(project='pandas-practice-assignment-sahil', environment=None)"
   ]
  },
  {
   "cell_type": "markdown",
   "metadata": {
    "id": "zKFjpPOlrkrj"
   },
   "source": [
    "Let's merge the two data frames, and compute some more metrics.\n",
    "\n",
    "**Q: Merge `countries_df` with `covid_data_df` on the `location` column.**\n",
    "\n",
    "*Hint: Use the `.merge` method on `countries_df`."
   ]
  },
  {
   "cell_type": "code",
   "execution_count": 68,
   "metadata": {
    "executionInfo": {
     "elapsed": 1098,
     "status": "ok",
     "timestamp": 1601114269397,
     "user": {
      "displayName": "Sahil Sao",
      "photoUrl": "https://lh3.googleusercontent.com/a-/AOh14Gg8qtnIEWfY17Wv11en7MX60Lf7--o4RzGsLgN1iA=s64",
      "userId": "16292347190877917467"
     },
     "user_tz": -330
    },
    "id": "8E7253a_rkrk"
   },
   "outputs": [],
   "source": [
    "combined_df = countries_df.merge(covid_data_df, on='location')"
   ]
  },
  {
   "cell_type": "code",
   "execution_count": 69,
   "metadata": {
    "colab": {
     "base_uri": "https://localhost:8080/",
     "height": 419
    },
    "executionInfo": {
     "elapsed": 1393,
     "status": "ok",
     "timestamp": 1601114285852,
     "user": {
      "displayName": "Sahil Sao",
      "photoUrl": "https://lh3.googleusercontent.com/a-/AOh14Gg8qtnIEWfY17Wv11en7MX60Lf7--o4RzGsLgN1iA=s64",
      "userId": "16292347190877917467"
     },
     "user_tz": -330
    },
    "id": "K3MKlHQArkrq",
    "outputId": "4f3368eb-4645-4453-85f0-8301b0ceea86"
   },
   "outputs": [
    {
     "data": {
      "text/html": [
       "<div>\n",
       "<style scoped>\n",
       "    .dataframe tbody tr th:only-of-type {\n",
       "        vertical-align: middle;\n",
       "    }\n",
       "\n",
       "    .dataframe tbody tr th {\n",
       "        vertical-align: top;\n",
       "    }\n",
       "\n",
       "    .dataframe thead th {\n",
       "        text-align: right;\n",
       "    }\n",
       "</style>\n",
       "<table border=\"1\" class=\"dataframe\">\n",
       "  <thead>\n",
       "    <tr style=\"text-align: right;\">\n",
       "      <th></th>\n",
       "      <th>location</th>\n",
       "      <th>continent</th>\n",
       "      <th>population</th>\n",
       "      <th>life_expectancy</th>\n",
       "      <th>hospital_beds_per_thousand</th>\n",
       "      <th>gdp_per_capita</th>\n",
       "      <th>gdp</th>\n",
       "      <th>total_cases</th>\n",
       "      <th>total_deaths</th>\n",
       "      <th>total_tests</th>\n",
       "    </tr>\n",
       "  </thead>\n",
       "  <tbody>\n",
       "    <tr>\n",
       "      <th>0</th>\n",
       "      <td>Afghanistan</td>\n",
       "      <td>Asia</td>\n",
       "      <td>38928341.0</td>\n",
       "      <td>64.83</td>\n",
       "      <td>0.50</td>\n",
       "      <td>1803.987</td>\n",
       "      <td>7.022622e+10</td>\n",
       "      <td>38243.0</td>\n",
       "      <td>1409.0</td>\n",
       "      <td>NaN</td>\n",
       "    </tr>\n",
       "    <tr>\n",
       "      <th>1</th>\n",
       "      <td>Albania</td>\n",
       "      <td>Europe</td>\n",
       "      <td>2877800.0</td>\n",
       "      <td>78.57</td>\n",
       "      <td>2.89</td>\n",
       "      <td>11803.431</td>\n",
       "      <td>3.396791e+10</td>\n",
       "      <td>9728.0</td>\n",
       "      <td>296.0</td>\n",
       "      <td>NaN</td>\n",
       "    </tr>\n",
       "    <tr>\n",
       "      <th>2</th>\n",
       "      <td>Algeria</td>\n",
       "      <td>Africa</td>\n",
       "      <td>43851043.0</td>\n",
       "      <td>76.88</td>\n",
       "      <td>1.90</td>\n",
       "      <td>13913.839</td>\n",
       "      <td>6.101364e+11</td>\n",
       "      <td>45158.0</td>\n",
       "      <td>1525.0</td>\n",
       "      <td>NaN</td>\n",
       "    </tr>\n",
       "    <tr>\n",
       "      <th>3</th>\n",
       "      <td>Andorra</td>\n",
       "      <td>Europe</td>\n",
       "      <td>77265.0</td>\n",
       "      <td>83.73</td>\n",
       "      <td>NaN</td>\n",
       "      <td>NaN</td>\n",
       "      <td>NaN</td>\n",
       "      <td>1199.0</td>\n",
       "      <td>53.0</td>\n",
       "      <td>NaN</td>\n",
       "    </tr>\n",
       "    <tr>\n",
       "      <th>4</th>\n",
       "      <td>Angola</td>\n",
       "      <td>Africa</td>\n",
       "      <td>32866268.0</td>\n",
       "      <td>61.15</td>\n",
       "      <td>NaN</td>\n",
       "      <td>5819.495</td>\n",
       "      <td>1.912651e+11</td>\n",
       "      <td>2729.0</td>\n",
       "      <td>109.0</td>\n",
       "      <td>NaN</td>\n",
       "    </tr>\n",
       "    <tr>\n",
       "      <th>...</th>\n",
       "      <td>...</td>\n",
       "      <td>...</td>\n",
       "      <td>...</td>\n",
       "      <td>...</td>\n",
       "      <td>...</td>\n",
       "      <td>...</td>\n",
       "      <td>...</td>\n",
       "      <td>...</td>\n",
       "      <td>...</td>\n",
       "      <td>...</td>\n",
       "    </tr>\n",
       "    <tr>\n",
       "      <th>205</th>\n",
       "      <td>Vietnam</td>\n",
       "      <td>Asia</td>\n",
       "      <td>97338583.0</td>\n",
       "      <td>75.40</td>\n",
       "      <td>2.60</td>\n",
       "      <td>6171.884</td>\n",
       "      <td>6.007624e+11</td>\n",
       "      <td>1046.0</td>\n",
       "      <td>35.0</td>\n",
       "      <td>261004.0</td>\n",
       "    </tr>\n",
       "    <tr>\n",
       "      <th>206</th>\n",
       "      <td>Western Sahara</td>\n",
       "      <td>Africa</td>\n",
       "      <td>597330.0</td>\n",
       "      <td>70.26</td>\n",
       "      <td>NaN</td>\n",
       "      <td>NaN</td>\n",
       "      <td>NaN</td>\n",
       "      <td>766.0</td>\n",
       "      <td>1.0</td>\n",
       "      <td>NaN</td>\n",
       "    </tr>\n",
       "    <tr>\n",
       "      <th>207</th>\n",
       "      <td>Yemen</td>\n",
       "      <td>Asia</td>\n",
       "      <td>29825968.0</td>\n",
       "      <td>66.12</td>\n",
       "      <td>0.70</td>\n",
       "      <td>1479.147</td>\n",
       "      <td>4.411699e+10</td>\n",
       "      <td>1976.0</td>\n",
       "      <td>571.0</td>\n",
       "      <td>NaN</td>\n",
       "    </tr>\n",
       "    <tr>\n",
       "      <th>208</th>\n",
       "      <td>Zambia</td>\n",
       "      <td>Africa</td>\n",
       "      <td>18383956.0</td>\n",
       "      <td>63.89</td>\n",
       "      <td>2.00</td>\n",
       "      <td>3689.251</td>\n",
       "      <td>6.782303e+10</td>\n",
       "      <td>12415.0</td>\n",
       "      <td>292.0</td>\n",
       "      <td>NaN</td>\n",
       "    </tr>\n",
       "    <tr>\n",
       "      <th>209</th>\n",
       "      <td>Zimbabwe</td>\n",
       "      <td>Africa</td>\n",
       "      <td>14862927.0</td>\n",
       "      <td>61.49</td>\n",
       "      <td>1.70</td>\n",
       "      <td>1899.775</td>\n",
       "      <td>2.823622e+10</td>\n",
       "      <td>6638.0</td>\n",
       "      <td>206.0</td>\n",
       "      <td>97272.0</td>\n",
       "    </tr>\n",
       "  </tbody>\n",
       "</table>\n",
       "<p>210 rows × 10 columns</p>\n",
       "</div>"
      ],
      "text/plain": [
       "           location continent  ...  total_deaths  total_tests\n",
       "0       Afghanistan      Asia  ...        1409.0          NaN\n",
       "1           Albania    Europe  ...         296.0          NaN\n",
       "2           Algeria    Africa  ...        1525.0          NaN\n",
       "3           Andorra    Europe  ...          53.0          NaN\n",
       "4            Angola    Africa  ...         109.0          NaN\n",
       "..              ...       ...  ...           ...          ...\n",
       "205         Vietnam      Asia  ...          35.0     261004.0\n",
       "206  Western Sahara    Africa  ...           1.0          NaN\n",
       "207           Yemen      Asia  ...         571.0          NaN\n",
       "208          Zambia    Africa  ...         292.0          NaN\n",
       "209        Zimbabwe    Africa  ...         206.0      97272.0\n",
       "\n",
       "[210 rows x 10 columns]"
      ]
     },
     "execution_count": 69,
     "metadata": {
      "tags": []
     },
     "output_type": "execute_result"
    }
   ],
   "source": [
    "combined_df"
   ]
  },
  {
   "cell_type": "code",
   "execution_count": 70,
   "metadata": {
    "colab": {
     "base_uri": "https://localhost:8080/",
     "height": 86
    },
    "executionInfo": {
     "elapsed": 3446,
     "status": "ok",
     "timestamp": 1601114354757,
     "user": {
      "displayName": "Sahil Sao",
      "photoUrl": "https://lh3.googleusercontent.com/a-/AOh14Gg8qtnIEWfY17Wv11en7MX60Lf7--o4RzGsLgN1iA=s64",
      "userId": "16292347190877917467"
     },
     "user_tz": -330
    },
    "id": "y1L3CsTXrkry",
    "outputId": "c51d788e-d870-4b34-f636-c2d8ae0e6667"
   },
   "outputs": [
    {
     "name": "stdout",
     "output_type": "stream",
     "text": [
      "[jovian] Detected Colab notebook...\u001b[0m\n",
      "[jovian] Uploading colab notebook to Jovian...\u001b[0m\n",
      "[jovian] Committed successfully! https://jovian.ml/sahilfaizal/pandas-practice-assignment-sahil\u001b[0m\n"
     ]
    },
    {
     "data": {
      "application/vnd.google.colaboratory.intrinsic+json": {
       "type": "string"
      },
      "text/plain": [
       "'https://jovian.ml/sahilfaizal/pandas-practice-assignment-sahil'"
      ]
     },
     "execution_count": 70,
     "metadata": {
      "tags": []
     },
     "output_type": "execute_result"
    }
   ],
   "source": [
    "jovian.commit(project='pandas-practice-assignment-sahil', environment=None)"
   ]
  },
  {
   "cell_type": "markdown",
   "metadata": {
    "id": "AnqqKthErkr3"
   },
   "source": [
    "**Q: Add columns `tests_per_million`, `cases_per_million` and `deaths_per_million` into `combined_df`.**"
   ]
  },
  {
   "cell_type": "code",
   "execution_count": 71,
   "metadata": {
    "executionInfo": {
     "elapsed": 1678,
     "status": "ok",
     "timestamp": 1601114360080,
     "user": {
      "displayName": "Sahil Sao",
      "photoUrl": "https://lh3.googleusercontent.com/a-/AOh14Gg8qtnIEWfY17Wv11en7MX60Lf7--o4RzGsLgN1iA=s64",
      "userId": "16292347190877917467"
     },
     "user_tz": -330
    },
    "id": "RMq_xmr4rkr4"
   },
   "outputs": [],
   "source": [
    "combined_df['tests_per_million'] = combined_df['total_tests'] * 1e6 / combined_df['population']"
   ]
  },
  {
   "cell_type": "code",
   "execution_count": 72,
   "metadata": {
    "executionInfo": {
     "elapsed": 1123,
     "status": "ok",
     "timestamp": 1601114407955,
     "user": {
      "displayName": "Sahil Sao",
      "photoUrl": "https://lh3.googleusercontent.com/a-/AOh14Gg8qtnIEWfY17Wv11en7MX60Lf7--o4RzGsLgN1iA=s64",
      "userId": "16292347190877917467"
     },
     "user_tz": -330
    },
    "id": "8__Akbh6rkr7"
   },
   "outputs": [],
   "source": [
    "combined_df['cases_per_million'] = combined_df['total_cases'] * 1e6 / combined_df['population']"
   ]
  },
  {
   "cell_type": "code",
   "execution_count": 73,
   "metadata": {
    "executionInfo": {
     "elapsed": 1429,
     "status": "ok",
     "timestamp": 1601114422678,
     "user": {
      "displayName": "Sahil Sao",
      "photoUrl": "https://lh3.googleusercontent.com/a-/AOh14Gg8qtnIEWfY17Wv11en7MX60Lf7--o4RzGsLgN1iA=s64",
      "userId": "16292347190877917467"
     },
     "user_tz": -330
    },
    "id": "aJCOXDSDrkr_"
   },
   "outputs": [],
   "source": [
    "combined_df['deaths_per_million'] = combined_df['total_deaths'] * 1e6 / combined_df['population']"
   ]
  },
  {
   "cell_type": "code",
   "execution_count": 74,
   "metadata": {
    "colab": {
     "base_uri": "https://localhost:8080/",
     "height": 456
    },
    "executionInfo": {
     "elapsed": 1627,
     "status": "ok",
     "timestamp": 1601114425049,
     "user": {
      "displayName": "Sahil Sao",
      "photoUrl": "https://lh3.googleusercontent.com/a-/AOh14Gg8qtnIEWfY17Wv11en7MX60Lf7--o4RzGsLgN1iA=s64",
      "userId": "16292347190877917467"
     },
     "user_tz": -330
    },
    "id": "ZuGdrdUSrksE",
    "outputId": "bc881c5d-471c-48c6-8eb7-60c7d9cd96ee"
   },
   "outputs": [
    {
     "data": {
      "text/html": [
       "<div>\n",
       "<style scoped>\n",
       "    .dataframe tbody tr th:only-of-type {\n",
       "        vertical-align: middle;\n",
       "    }\n",
       "\n",
       "    .dataframe tbody tr th {\n",
       "        vertical-align: top;\n",
       "    }\n",
       "\n",
       "    .dataframe thead th {\n",
       "        text-align: right;\n",
       "    }\n",
       "</style>\n",
       "<table border=\"1\" class=\"dataframe\">\n",
       "  <thead>\n",
       "    <tr style=\"text-align: right;\">\n",
       "      <th></th>\n",
       "      <th>location</th>\n",
       "      <th>continent</th>\n",
       "      <th>population</th>\n",
       "      <th>life_expectancy</th>\n",
       "      <th>hospital_beds_per_thousand</th>\n",
       "      <th>gdp_per_capita</th>\n",
       "      <th>gdp</th>\n",
       "      <th>total_cases</th>\n",
       "      <th>total_deaths</th>\n",
       "      <th>total_tests</th>\n",
       "      <th>tests_per_million</th>\n",
       "      <th>cases_per_million</th>\n",
       "      <th>deaths_per_million</th>\n",
       "    </tr>\n",
       "  </thead>\n",
       "  <tbody>\n",
       "    <tr>\n",
       "      <th>0</th>\n",
       "      <td>Afghanistan</td>\n",
       "      <td>Asia</td>\n",
       "      <td>38928341.0</td>\n",
       "      <td>64.83</td>\n",
       "      <td>0.50</td>\n",
       "      <td>1803.987</td>\n",
       "      <td>7.022622e+10</td>\n",
       "      <td>38243.0</td>\n",
       "      <td>1409.0</td>\n",
       "      <td>NaN</td>\n",
       "      <td>NaN</td>\n",
       "      <td>982.394806</td>\n",
       "      <td>36.194710</td>\n",
       "    </tr>\n",
       "    <tr>\n",
       "      <th>1</th>\n",
       "      <td>Albania</td>\n",
       "      <td>Europe</td>\n",
       "      <td>2877800.0</td>\n",
       "      <td>78.57</td>\n",
       "      <td>2.89</td>\n",
       "      <td>11803.431</td>\n",
       "      <td>3.396791e+10</td>\n",
       "      <td>9728.0</td>\n",
       "      <td>296.0</td>\n",
       "      <td>NaN</td>\n",
       "      <td>NaN</td>\n",
       "      <td>3380.359997</td>\n",
       "      <td>102.856349</td>\n",
       "    </tr>\n",
       "    <tr>\n",
       "      <th>2</th>\n",
       "      <td>Algeria</td>\n",
       "      <td>Africa</td>\n",
       "      <td>43851043.0</td>\n",
       "      <td>76.88</td>\n",
       "      <td>1.90</td>\n",
       "      <td>13913.839</td>\n",
       "      <td>6.101364e+11</td>\n",
       "      <td>45158.0</td>\n",
       "      <td>1525.0</td>\n",
       "      <td>NaN</td>\n",
       "      <td>NaN</td>\n",
       "      <td>1029.804468</td>\n",
       "      <td>34.776824</td>\n",
       "    </tr>\n",
       "    <tr>\n",
       "      <th>3</th>\n",
       "      <td>Andorra</td>\n",
       "      <td>Europe</td>\n",
       "      <td>77265.0</td>\n",
       "      <td>83.73</td>\n",
       "      <td>NaN</td>\n",
       "      <td>NaN</td>\n",
       "      <td>NaN</td>\n",
       "      <td>1199.0</td>\n",
       "      <td>53.0</td>\n",
       "      <td>NaN</td>\n",
       "      <td>NaN</td>\n",
       "      <td>15518.022390</td>\n",
       "      <td>685.950948</td>\n",
       "    </tr>\n",
       "    <tr>\n",
       "      <th>4</th>\n",
       "      <td>Angola</td>\n",
       "      <td>Africa</td>\n",
       "      <td>32866268.0</td>\n",
       "      <td>61.15</td>\n",
       "      <td>NaN</td>\n",
       "      <td>5819.495</td>\n",
       "      <td>1.912651e+11</td>\n",
       "      <td>2729.0</td>\n",
       "      <td>109.0</td>\n",
       "      <td>NaN</td>\n",
       "      <td>NaN</td>\n",
       "      <td>83.033462</td>\n",
       "      <td>3.316470</td>\n",
       "    </tr>\n",
       "    <tr>\n",
       "      <th>...</th>\n",
       "      <td>...</td>\n",
       "      <td>...</td>\n",
       "      <td>...</td>\n",
       "      <td>...</td>\n",
       "      <td>...</td>\n",
       "      <td>...</td>\n",
       "      <td>...</td>\n",
       "      <td>...</td>\n",
       "      <td>...</td>\n",
       "      <td>...</td>\n",
       "      <td>...</td>\n",
       "      <td>...</td>\n",
       "      <td>...</td>\n",
       "    </tr>\n",
       "    <tr>\n",
       "      <th>205</th>\n",
       "      <td>Vietnam</td>\n",
       "      <td>Asia</td>\n",
       "      <td>97338583.0</td>\n",
       "      <td>75.40</td>\n",
       "      <td>2.60</td>\n",
       "      <td>6171.884</td>\n",
       "      <td>6.007624e+11</td>\n",
       "      <td>1046.0</td>\n",
       "      <td>35.0</td>\n",
       "      <td>261004.0</td>\n",
       "      <td>2681.403324</td>\n",
       "      <td>10.745996</td>\n",
       "      <td>0.359570</td>\n",
       "    </tr>\n",
       "    <tr>\n",
       "      <th>206</th>\n",
       "      <td>Western Sahara</td>\n",
       "      <td>Africa</td>\n",
       "      <td>597330.0</td>\n",
       "      <td>70.26</td>\n",
       "      <td>NaN</td>\n",
       "      <td>NaN</td>\n",
       "      <td>NaN</td>\n",
       "      <td>766.0</td>\n",
       "      <td>1.0</td>\n",
       "      <td>NaN</td>\n",
       "      <td>NaN</td>\n",
       "      <td>1282.373228</td>\n",
       "      <td>1.674116</td>\n",
       "    </tr>\n",
       "    <tr>\n",
       "      <th>207</th>\n",
       "      <td>Yemen</td>\n",
       "      <td>Asia</td>\n",
       "      <td>29825968.0</td>\n",
       "      <td>66.12</td>\n",
       "      <td>0.70</td>\n",
       "      <td>1479.147</td>\n",
       "      <td>4.411699e+10</td>\n",
       "      <td>1976.0</td>\n",
       "      <td>571.0</td>\n",
       "      <td>NaN</td>\n",
       "      <td>NaN</td>\n",
       "      <td>66.250993</td>\n",
       "      <td>19.144391</td>\n",
       "    </tr>\n",
       "    <tr>\n",
       "      <th>208</th>\n",
       "      <td>Zambia</td>\n",
       "      <td>Africa</td>\n",
       "      <td>18383956.0</td>\n",
       "      <td>63.89</td>\n",
       "      <td>2.00</td>\n",
       "      <td>3689.251</td>\n",
       "      <td>6.782303e+10</td>\n",
       "      <td>12415.0</td>\n",
       "      <td>292.0</td>\n",
       "      <td>NaN</td>\n",
       "      <td>NaN</td>\n",
       "      <td>675.317108</td>\n",
       "      <td>15.883415</td>\n",
       "    </tr>\n",
       "    <tr>\n",
       "      <th>209</th>\n",
       "      <td>Zimbabwe</td>\n",
       "      <td>Africa</td>\n",
       "      <td>14862927.0</td>\n",
       "      <td>61.49</td>\n",
       "      <td>1.70</td>\n",
       "      <td>1899.775</td>\n",
       "      <td>2.823622e+10</td>\n",
       "      <td>6638.0</td>\n",
       "      <td>206.0</td>\n",
       "      <td>97272.0</td>\n",
       "      <td>6544.605918</td>\n",
       "      <td>446.614587</td>\n",
       "      <td>13.859989</td>\n",
       "    </tr>\n",
       "  </tbody>\n",
       "</table>\n",
       "<p>210 rows × 13 columns</p>\n",
       "</div>"
      ],
      "text/plain": [
       "           location continent  ...  cases_per_million  deaths_per_million\n",
       "0       Afghanistan      Asia  ...         982.394806           36.194710\n",
       "1           Albania    Europe  ...        3380.359997          102.856349\n",
       "2           Algeria    Africa  ...        1029.804468           34.776824\n",
       "3           Andorra    Europe  ...       15518.022390          685.950948\n",
       "4            Angola    Africa  ...          83.033462            3.316470\n",
       "..              ...       ...  ...                ...                 ...\n",
       "205         Vietnam      Asia  ...          10.745996            0.359570\n",
       "206  Western Sahara    Africa  ...        1282.373228            1.674116\n",
       "207           Yemen      Asia  ...          66.250993           19.144391\n",
       "208          Zambia    Africa  ...         675.317108           15.883415\n",
       "209        Zimbabwe    Africa  ...         446.614587           13.859989\n",
       "\n",
       "[210 rows x 13 columns]"
      ]
     },
     "execution_count": 74,
     "metadata": {
      "tags": []
     },
     "output_type": "execute_result"
    }
   ],
   "source": [
    "combined_df"
   ]
  },
  {
   "cell_type": "code",
   "execution_count": 75,
   "metadata": {
    "colab": {
     "base_uri": "https://localhost:8080/",
     "height": 86
    },
    "executionInfo": {
     "elapsed": 3782,
     "status": "ok",
     "timestamp": 1601114437227,
     "user": {
      "displayName": "Sahil Sao",
      "photoUrl": "https://lh3.googleusercontent.com/a-/AOh14Gg8qtnIEWfY17Wv11en7MX60Lf7--o4RzGsLgN1iA=s64",
      "userId": "16292347190877917467"
     },
     "user_tz": -330
    },
    "id": "r8xEjK4RrksH",
    "outputId": "dcde3130-2c13-4185-fdad-a4e22c9ee2ef"
   },
   "outputs": [
    {
     "name": "stdout",
     "output_type": "stream",
     "text": [
      "[jovian] Detected Colab notebook...\u001b[0m\n",
      "[jovian] Uploading colab notebook to Jovian...\u001b[0m\n",
      "[jovian] Committed successfully! https://jovian.ml/sahilfaizal/pandas-practice-assignment-sahil\u001b[0m\n"
     ]
    },
    {
     "data": {
      "application/vnd.google.colaboratory.intrinsic+json": {
       "type": "string"
      },
      "text/plain": [
       "'https://jovian.ml/sahilfaizal/pandas-practice-assignment-sahil'"
      ]
     },
     "execution_count": 75,
     "metadata": {
      "tags": []
     },
     "output_type": "execute_result"
    }
   ],
   "source": [
    "jovian.commit(project='pandas-practice-assignment-sahil', environment=None)"
   ]
  },
  {
   "cell_type": "markdown",
   "metadata": {
    "id": "7pKSTrIJrksY"
   },
   "source": [
    "**Q: Create a dataframe with 10 countires that have highest number of tests per million people.**"
   ]
  },
  {
   "cell_type": "code",
   "execution_count": 76,
   "metadata": {
    "executionInfo": {
     "elapsed": 1059,
     "status": "ok",
     "timestamp": 1601114488606,
     "user": {
      "displayName": "Sahil Sao",
      "photoUrl": "https://lh3.googleusercontent.com/a-/AOh14Gg8qtnIEWfY17Wv11en7MX60Lf7--o4RzGsLgN1iA=s64",
      "userId": "16292347190877917467"
     },
     "user_tz": -330
    },
    "id": "TKaVRwvhrksZ"
   },
   "outputs": [],
   "source": [
    "highest_tests_df = combined_df.sort_values('tests_per_million', ascending=False).head(10)"
   ]
  },
  {
   "cell_type": "code",
   "execution_count": 77,
   "metadata": {
    "colab": {
     "base_uri": "https://localhost:8080/",
     "height": 413
    },
    "executionInfo": {
     "elapsed": 1313,
     "status": "ok",
     "timestamp": 1601114493838,
     "user": {
      "displayName": "Sahil Sao",
      "photoUrl": "https://lh3.googleusercontent.com/a-/AOh14Gg8qtnIEWfY17Wv11en7MX60Lf7--o4RzGsLgN1iA=s64",
      "userId": "16292347190877917467"
     },
     "user_tz": -330
    },
    "id": "A_GCGk0Frkse",
    "outputId": "2f365f9d-d8ce-450b-d816-a1abac4cf9de"
   },
   "outputs": [
    {
     "data": {
      "text/html": [
       "<div>\n",
       "<style scoped>\n",
       "    .dataframe tbody tr th:only-of-type {\n",
       "        vertical-align: middle;\n",
       "    }\n",
       "\n",
       "    .dataframe tbody tr th {\n",
       "        vertical-align: top;\n",
       "    }\n",
       "\n",
       "    .dataframe thead th {\n",
       "        text-align: right;\n",
       "    }\n",
       "</style>\n",
       "<table border=\"1\" class=\"dataframe\">\n",
       "  <thead>\n",
       "    <tr style=\"text-align: right;\">\n",
       "      <th></th>\n",
       "      <th>location</th>\n",
       "      <th>continent</th>\n",
       "      <th>population</th>\n",
       "      <th>life_expectancy</th>\n",
       "      <th>hospital_beds_per_thousand</th>\n",
       "      <th>gdp_per_capita</th>\n",
       "      <th>gdp</th>\n",
       "      <th>total_cases</th>\n",
       "      <th>total_deaths</th>\n",
       "      <th>total_tests</th>\n",
       "      <th>tests_per_million</th>\n",
       "      <th>cases_per_million</th>\n",
       "      <th>deaths_per_million</th>\n",
       "    </tr>\n",
       "  </thead>\n",
       "  <tbody>\n",
       "    <tr>\n",
       "      <th>197</th>\n",
       "      <td>United Arab Emirates</td>\n",
       "      <td>Asia</td>\n",
       "      <td>9890400.0</td>\n",
       "      <td>77.97</td>\n",
       "      <td>1.200</td>\n",
       "      <td>67293.483</td>\n",
       "      <td>6.655595e+11</td>\n",
       "      <td>71540.0</td>\n",
       "      <td>387.0</td>\n",
       "      <td>7177430.0</td>\n",
       "      <td>725696.635121</td>\n",
       "      <td>7233.276713</td>\n",
       "      <td>39.128852</td>\n",
       "    </tr>\n",
       "    <tr>\n",
       "      <th>14</th>\n",
       "      <td>Bahrain</td>\n",
       "      <td>Asia</td>\n",
       "      <td>1701583.0</td>\n",
       "      <td>77.29</td>\n",
       "      <td>2.000</td>\n",
       "      <td>43290.705</td>\n",
       "      <td>7.366273e+10</td>\n",
       "      <td>52440.0</td>\n",
       "      <td>190.0</td>\n",
       "      <td>1118837.0</td>\n",
       "      <td>657527.137965</td>\n",
       "      <td>30818.361490</td>\n",
       "      <td>111.660730</td>\n",
       "    </tr>\n",
       "    <tr>\n",
       "      <th>115</th>\n",
       "      <td>Luxembourg</td>\n",
       "      <td>Europe</td>\n",
       "      <td>625976.0</td>\n",
       "      <td>82.25</td>\n",
       "      <td>4.510</td>\n",
       "      <td>94277.965</td>\n",
       "      <td>5.901574e+10</td>\n",
       "      <td>7928.0</td>\n",
       "      <td>124.0</td>\n",
       "      <td>385820.0</td>\n",
       "      <td>616349.508607</td>\n",
       "      <td>12665.022301</td>\n",
       "      <td>198.090662</td>\n",
       "    </tr>\n",
       "    <tr>\n",
       "      <th>122</th>\n",
       "      <td>Malta</td>\n",
       "      <td>Europe</td>\n",
       "      <td>441539.0</td>\n",
       "      <td>82.53</td>\n",
       "      <td>4.485</td>\n",
       "      <td>36513.323</td>\n",
       "      <td>1.612206e+10</td>\n",
       "      <td>1931.0</td>\n",
       "      <td>13.0</td>\n",
       "      <td>188539.0</td>\n",
       "      <td>427004.183096</td>\n",
       "      <td>4373.339614</td>\n",
       "      <td>29.442473</td>\n",
       "    </tr>\n",
       "    <tr>\n",
       "      <th>53</th>\n",
       "      <td>Denmark</td>\n",
       "      <td>Europe</td>\n",
       "      <td>5792203.0</td>\n",
       "      <td>80.90</td>\n",
       "      <td>2.500</td>\n",
       "      <td>46682.515</td>\n",
       "      <td>2.703946e+11</td>\n",
       "      <td>17195.0</td>\n",
       "      <td>626.0</td>\n",
       "      <td>2447911.0</td>\n",
       "      <td>422621.755488</td>\n",
       "      <td>2968.645954</td>\n",
       "      <td>108.076323</td>\n",
       "    </tr>\n",
       "    <tr>\n",
       "      <th>96</th>\n",
       "      <td>Israel</td>\n",
       "      <td>Asia</td>\n",
       "      <td>8655541.0</td>\n",
       "      <td>82.97</td>\n",
       "      <td>2.990</td>\n",
       "      <td>33132.320</td>\n",
       "      <td>2.867782e+11</td>\n",
       "      <td>122539.0</td>\n",
       "      <td>969.0</td>\n",
       "      <td>2353984.0</td>\n",
       "      <td>271962.665303</td>\n",
       "      <td>14157.289533</td>\n",
       "      <td>111.951408</td>\n",
       "    </tr>\n",
       "    <tr>\n",
       "      <th>89</th>\n",
       "      <td>Iceland</td>\n",
       "      <td>Europe</td>\n",
       "      <td>341250.0</td>\n",
       "      <td>82.99</td>\n",
       "      <td>2.910</td>\n",
       "      <td>46482.958</td>\n",
       "      <td>1.586231e+10</td>\n",
       "      <td>2121.0</td>\n",
       "      <td>10.0</td>\n",
       "      <td>88829.0</td>\n",
       "      <td>260304.761905</td>\n",
       "      <td>6215.384615</td>\n",
       "      <td>29.304029</td>\n",
       "    </tr>\n",
       "    <tr>\n",
       "      <th>157</th>\n",
       "      <td>Russia</td>\n",
       "      <td>Europe</td>\n",
       "      <td>145934460.0</td>\n",
       "      <td>72.58</td>\n",
       "      <td>8.050</td>\n",
       "      <td>24765.954</td>\n",
       "      <td>3.614206e+12</td>\n",
       "      <td>1005000.0</td>\n",
       "      <td>17414.0</td>\n",
       "      <td>37176827.0</td>\n",
       "      <td>254750.159763</td>\n",
       "      <td>6886.653091</td>\n",
       "      <td>119.327539</td>\n",
       "    </tr>\n",
       "    <tr>\n",
       "      <th>199</th>\n",
       "      <td>United States</td>\n",
       "      <td>North America</td>\n",
       "      <td>331002647.0</td>\n",
       "      <td>78.86</td>\n",
       "      <td>2.770</td>\n",
       "      <td>54225.446</td>\n",
       "      <td>1.794877e+13</td>\n",
       "      <td>6114406.0</td>\n",
       "      <td>185744.0</td>\n",
       "      <td>83898416.0</td>\n",
       "      <td>253467.507769</td>\n",
       "      <td>18472.377957</td>\n",
       "      <td>561.155633</td>\n",
       "    </tr>\n",
       "    <tr>\n",
       "      <th>10</th>\n",
       "      <td>Australia</td>\n",
       "      <td>Oceania</td>\n",
       "      <td>25499881.0</td>\n",
       "      <td>83.44</td>\n",
       "      <td>3.840</td>\n",
       "      <td>44648.710</td>\n",
       "      <td>1.138537e+12</td>\n",
       "      <td>25923.0</td>\n",
       "      <td>663.0</td>\n",
       "      <td>6255797.0</td>\n",
       "      <td>245326.517406</td>\n",
       "      <td>1016.592979</td>\n",
       "      <td>26.000121</td>\n",
       "    </tr>\n",
       "  </tbody>\n",
       "</table>\n",
       "</div>"
      ],
      "text/plain": [
       "                 location      continent  ...  cases_per_million  deaths_per_million\n",
       "197  United Arab Emirates           Asia  ...        7233.276713           39.128852\n",
       "14                Bahrain           Asia  ...       30818.361490          111.660730\n",
       "115            Luxembourg         Europe  ...       12665.022301          198.090662\n",
       "122                 Malta         Europe  ...        4373.339614           29.442473\n",
       "53                Denmark         Europe  ...        2968.645954          108.076323\n",
       "96                 Israel           Asia  ...       14157.289533          111.951408\n",
       "89                Iceland         Europe  ...        6215.384615           29.304029\n",
       "157                Russia         Europe  ...        6886.653091          119.327539\n",
       "199         United States  North America  ...       18472.377957          561.155633\n",
       "10              Australia        Oceania  ...        1016.592979           26.000121\n",
       "\n",
       "[10 rows x 13 columns]"
      ]
     },
     "execution_count": 77,
     "metadata": {
      "tags": []
     },
     "output_type": "execute_result"
    }
   ],
   "source": [
    "highest_tests_df"
   ]
  },
  {
   "cell_type": "code",
   "execution_count": 78,
   "metadata": {
    "colab": {
     "base_uri": "https://localhost:8080/",
     "height": 86
    },
    "executionInfo": {
     "elapsed": 3439,
     "status": "ok",
     "timestamp": 1601114542827,
     "user": {
      "displayName": "Sahil Sao",
      "photoUrl": "https://lh3.googleusercontent.com/a-/AOh14Gg8qtnIEWfY17Wv11en7MX60Lf7--o4RzGsLgN1iA=s64",
      "userId": "16292347190877917467"
     },
     "user_tz": -330
    },
    "id": "byjQPYSurksm",
    "outputId": "b658a2b0-e1e8-48e9-a4c1-453cbea295bf"
   },
   "outputs": [
    {
     "name": "stdout",
     "output_type": "stream",
     "text": [
      "[jovian] Detected Colab notebook...\u001b[0m\n",
      "[jovian] Uploading colab notebook to Jovian...\u001b[0m\n",
      "[jovian] Committed successfully! https://jovian.ml/sahilfaizal/pandas-practice-assignment-sahil\u001b[0m\n"
     ]
    },
    {
     "data": {
      "application/vnd.google.colaboratory.intrinsic+json": {
       "type": "string"
      },
      "text/plain": [
       "'https://jovian.ml/sahilfaizal/pandas-practice-assignment-sahil'"
      ]
     },
     "execution_count": 78,
     "metadata": {
      "tags": []
     },
     "output_type": "execute_result"
    }
   ],
   "source": [
    "jovian.commit(project='pandas-practice-assignment-sahil', environment=None)"
   ]
  },
  {
   "cell_type": "markdown",
   "metadata": {
    "id": "KGRi5SZurksw"
   },
   "source": [
    "**Q: Create a dataframe with 10 countires that have highest number of positive cases per million people.**"
   ]
  },
  {
   "cell_type": "code",
   "execution_count": 79,
   "metadata": {
    "executionInfo": {
     "elapsed": 1403,
     "status": "ok",
     "timestamp": 1601114576215,
     "user": {
      "displayName": "Sahil Sao",
      "photoUrl": "https://lh3.googleusercontent.com/a-/AOh14Gg8qtnIEWfY17Wv11en7MX60Lf7--o4RzGsLgN1iA=s64",
      "userId": "16292347190877917467"
     },
     "user_tz": -330
    },
    "id": "bo_BmB8Xrksx"
   },
   "outputs": [],
   "source": [
    "highest_cases_df = combined_df.sort_values('cases_per_million', ascending=False).head(10)"
   ]
  },
  {
   "cell_type": "code",
   "execution_count": 80,
   "metadata": {
    "colab": {
     "base_uri": "https://localhost:8080/",
     "height": 498
    },
    "executionInfo": {
     "elapsed": 1195,
     "status": "ok",
     "timestamp": 1601114578357,
     "user": {
      "displayName": "Sahil Sao",
      "photoUrl": "https://lh3.googleusercontent.com/a-/AOh14Gg8qtnIEWfY17Wv11en7MX60Lf7--o4RzGsLgN1iA=s64",
      "userId": "16292347190877917467"
     },
     "user_tz": -330
    },
    "id": "xdjGYGOdrks7",
    "outputId": "2274aa6e-986a-4e0c-9a3e-b0896e1ed5d2"
   },
   "outputs": [
    {
     "data": {
      "text/html": [
       "<div>\n",
       "<style scoped>\n",
       "    .dataframe tbody tr th:only-of-type {\n",
       "        vertical-align: middle;\n",
       "    }\n",
       "\n",
       "    .dataframe tbody tr th {\n",
       "        vertical-align: top;\n",
       "    }\n",
       "\n",
       "    .dataframe thead th {\n",
       "        text-align: right;\n",
       "    }\n",
       "</style>\n",
       "<table border=\"1\" class=\"dataframe\">\n",
       "  <thead>\n",
       "    <tr style=\"text-align: right;\">\n",
       "      <th></th>\n",
       "      <th>location</th>\n",
       "      <th>continent</th>\n",
       "      <th>population</th>\n",
       "      <th>life_expectancy</th>\n",
       "      <th>hospital_beds_per_thousand</th>\n",
       "      <th>gdp_per_capita</th>\n",
       "      <th>gdp</th>\n",
       "      <th>total_cases</th>\n",
       "      <th>total_deaths</th>\n",
       "      <th>total_tests</th>\n",
       "      <th>tests_per_million</th>\n",
       "      <th>cases_per_million</th>\n",
       "      <th>deaths_per_million</th>\n",
       "    </tr>\n",
       "  </thead>\n",
       "  <tbody>\n",
       "    <tr>\n",
       "      <th>155</th>\n",
       "      <td>Qatar</td>\n",
       "      <td>Asia</td>\n",
       "      <td>2881060.0</td>\n",
       "      <td>80.23</td>\n",
       "      <td>1.20</td>\n",
       "      <td>116935.600</td>\n",
       "      <td>3.368985e+11</td>\n",
       "      <td>119206.0</td>\n",
       "      <td>199.0</td>\n",
       "      <td>634745.0</td>\n",
       "      <td>220316.480740</td>\n",
       "      <td>41375.743650</td>\n",
       "      <td>69.071800</td>\n",
       "    </tr>\n",
       "    <tr>\n",
       "      <th>14</th>\n",
       "      <td>Bahrain</td>\n",
       "      <td>Asia</td>\n",
       "      <td>1701583.0</td>\n",
       "      <td>77.29</td>\n",
       "      <td>2.00</td>\n",
       "      <td>43290.705</td>\n",
       "      <td>7.366273e+10</td>\n",
       "      <td>52440.0</td>\n",
       "      <td>190.0</td>\n",
       "      <td>1118837.0</td>\n",
       "      <td>657527.137965</td>\n",
       "      <td>30818.361490</td>\n",
       "      <td>111.660730</td>\n",
       "    </tr>\n",
       "    <tr>\n",
       "      <th>147</th>\n",
       "      <td>Panama</td>\n",
       "      <td>North America</td>\n",
       "      <td>4314768.0</td>\n",
       "      <td>78.51</td>\n",
       "      <td>2.30</td>\n",
       "      <td>22267.037</td>\n",
       "      <td>9.607710e+10</td>\n",
       "      <td>94084.0</td>\n",
       "      <td>2030.0</td>\n",
       "      <td>336345.0</td>\n",
       "      <td>77952.047480</td>\n",
       "      <td>21805.112117</td>\n",
       "      <td>470.477208</td>\n",
       "    </tr>\n",
       "    <tr>\n",
       "      <th>40</th>\n",
       "      <td>Chile</td>\n",
       "      <td>South America</td>\n",
       "      <td>19116209.0</td>\n",
       "      <td>80.18</td>\n",
       "      <td>2.11</td>\n",
       "      <td>22767.037</td>\n",
       "      <td>4.352194e+11</td>\n",
       "      <td>414739.0</td>\n",
       "      <td>11344.0</td>\n",
       "      <td>2458762.0</td>\n",
       "      <td>128621.841287</td>\n",
       "      <td>21695.671982</td>\n",
       "      <td>593.423100</td>\n",
       "    </tr>\n",
       "    <tr>\n",
       "      <th>162</th>\n",
       "      <td>San Marino</td>\n",
       "      <td>Europe</td>\n",
       "      <td>33938.0</td>\n",
       "      <td>84.97</td>\n",
       "      <td>3.80</td>\n",
       "      <td>56861.470</td>\n",
       "      <td>1.929765e+09</td>\n",
       "      <td>735.0</td>\n",
       "      <td>42.0</td>\n",
       "      <td>NaN</td>\n",
       "      <td>NaN</td>\n",
       "      <td>21657.139490</td>\n",
       "      <td>1237.550828</td>\n",
       "    </tr>\n",
       "    <tr>\n",
       "      <th>9</th>\n",
       "      <td>Aruba</td>\n",
       "      <td>North America</td>\n",
       "      <td>106766.0</td>\n",
       "      <td>76.29</td>\n",
       "      <td>NaN</td>\n",
       "      <td>35973.781</td>\n",
       "      <td>3.840777e+09</td>\n",
       "      <td>2211.0</td>\n",
       "      <td>12.0</td>\n",
       "      <td>NaN</td>\n",
       "      <td>NaN</td>\n",
       "      <td>20708.839893</td>\n",
       "      <td>112.395332</td>\n",
       "    </tr>\n",
       "    <tr>\n",
       "      <th>105</th>\n",
       "      <td>Kuwait</td>\n",
       "      <td>Asia</td>\n",
       "      <td>4270563.0</td>\n",
       "      <td>75.49</td>\n",
       "      <td>2.00</td>\n",
       "      <td>65530.537</td>\n",
       "      <td>2.798523e+11</td>\n",
       "      <td>86478.0</td>\n",
       "      <td>535.0</td>\n",
       "      <td>621616.0</td>\n",
       "      <td>145558.325682</td>\n",
       "      <td>20249.789079</td>\n",
       "      <td>125.276222</td>\n",
       "    </tr>\n",
       "    <tr>\n",
       "      <th>150</th>\n",
       "      <td>Peru</td>\n",
       "      <td>South America</td>\n",
       "      <td>32971846.0</td>\n",
       "      <td>76.74</td>\n",
       "      <td>1.60</td>\n",
       "      <td>12236.706</td>\n",
       "      <td>4.034668e+11</td>\n",
       "      <td>663437.0</td>\n",
       "      <td>29259.0</td>\n",
       "      <td>584232.0</td>\n",
       "      <td>17719.117092</td>\n",
       "      <td>20121.318048</td>\n",
       "      <td>887.393445</td>\n",
       "    </tr>\n",
       "    <tr>\n",
       "      <th>27</th>\n",
       "      <td>Brazil</td>\n",
       "      <td>South America</td>\n",
       "      <td>212559409.0</td>\n",
       "      <td>75.88</td>\n",
       "      <td>2.20</td>\n",
       "      <td>14103.452</td>\n",
       "      <td>2.997821e+12</td>\n",
       "      <td>3997865.0</td>\n",
       "      <td>123780.0</td>\n",
       "      <td>4797948.0</td>\n",
       "      <td>22572.268255</td>\n",
       "      <td>18808.224105</td>\n",
       "      <td>582.331314</td>\n",
       "    </tr>\n",
       "    <tr>\n",
       "      <th>199</th>\n",
       "      <td>United States</td>\n",
       "      <td>North America</td>\n",
       "      <td>331002647.0</td>\n",
       "      <td>78.86</td>\n",
       "      <td>2.77</td>\n",
       "      <td>54225.446</td>\n",
       "      <td>1.794877e+13</td>\n",
       "      <td>6114406.0</td>\n",
       "      <td>185744.0</td>\n",
       "      <td>83898416.0</td>\n",
       "      <td>253467.507769</td>\n",
       "      <td>18472.377957</td>\n",
       "      <td>561.155633</td>\n",
       "    </tr>\n",
       "  </tbody>\n",
       "</table>\n",
       "</div>"
      ],
      "text/plain": [
       "          location      continent  ...  cases_per_million  deaths_per_million\n",
       "155          Qatar           Asia  ...       41375.743650           69.071800\n",
       "14         Bahrain           Asia  ...       30818.361490          111.660730\n",
       "147         Panama  North America  ...       21805.112117          470.477208\n",
       "40           Chile  South America  ...       21695.671982          593.423100\n",
       "162     San Marino         Europe  ...       21657.139490         1237.550828\n",
       "9            Aruba  North America  ...       20708.839893          112.395332\n",
       "105         Kuwait           Asia  ...       20249.789079          125.276222\n",
       "150           Peru  South America  ...       20121.318048          887.393445\n",
       "27          Brazil  South America  ...       18808.224105          582.331314\n",
       "199  United States  North America  ...       18472.377957          561.155633\n",
       "\n",
       "[10 rows x 13 columns]"
      ]
     },
     "execution_count": 80,
     "metadata": {
      "tags": []
     },
     "output_type": "execute_result"
    }
   ],
   "source": [
    "highest_cases_df"
   ]
  },
  {
   "cell_type": "code",
   "execution_count": 81,
   "metadata": {
    "colab": {
     "base_uri": "https://localhost:8080/",
     "height": 86
    },
    "executionInfo": {
     "elapsed": 3307,
     "status": "ok",
     "timestamp": 1601114587610,
     "user": {
      "displayName": "Sahil Sao",
      "photoUrl": "https://lh3.googleusercontent.com/a-/AOh14Gg8qtnIEWfY17Wv11en7MX60Lf7--o4RzGsLgN1iA=s64",
      "userId": "16292347190877917467"
     },
     "user_tz": -330
    },
    "id": "DuWLwO4PrktA",
    "outputId": "1b66ecbf-ce41-41de-e698-9885fa371de5"
   },
   "outputs": [
    {
     "name": "stdout",
     "output_type": "stream",
     "text": [
      "[jovian] Detected Colab notebook...\u001b[0m\n",
      "[jovian] Uploading colab notebook to Jovian...\u001b[0m\n",
      "[jovian] Committed successfully! https://jovian.ml/sahilfaizal/pandas-practice-assignment-sahil\u001b[0m\n"
     ]
    },
    {
     "data": {
      "application/vnd.google.colaboratory.intrinsic+json": {
       "type": "string"
      },
      "text/plain": [
       "'https://jovian.ml/sahilfaizal/pandas-practice-assignment-sahil'"
      ]
     },
     "execution_count": 81,
     "metadata": {
      "tags": []
     },
     "output_type": "execute_result"
    }
   ],
   "source": [
    "jovian.commit(project='pandas-practice-assignment-sahil', environment=None)"
   ]
  },
  {
   "cell_type": "markdown",
   "metadata": {
    "id": "-Me2F7dfrktF"
   },
   "source": [
    "**Q: Create a dataframe with 10 countires that have highest number of deaths cases per million people?**"
   ]
  },
  {
   "cell_type": "code",
   "execution_count": 82,
   "metadata": {
    "executionInfo": {
     "elapsed": 1028,
     "status": "ok",
     "timestamp": 1601114669527,
     "user": {
      "displayName": "Sahil Sao",
      "photoUrl": "https://lh3.googleusercontent.com/a-/AOh14Gg8qtnIEWfY17Wv11en7MX60Lf7--o4RzGsLgN1iA=s64",
      "userId": "16292347190877917467"
     },
     "user_tz": -330
    },
    "id": "rMI3pm73rktF"
   },
   "outputs": [],
   "source": [
    "highest_deaths_df = combined_df.sort_values('deaths_per_million', ascending=False).head(10)"
   ]
  },
  {
   "cell_type": "code",
   "execution_count": 83,
   "metadata": {
    "colab": {
     "base_uri": "https://localhost:8080/",
     "height": 464
    },
    "executionInfo": {
     "elapsed": 1044,
     "status": "ok",
     "timestamp": 1601114672049,
     "user": {
      "displayName": "Sahil Sao",
      "photoUrl": "https://lh3.googleusercontent.com/a-/AOh14Gg8qtnIEWfY17Wv11en7MX60Lf7--o4RzGsLgN1iA=s64",
      "userId": "16292347190877917467"
     },
     "user_tz": -330
    },
    "id": "MhTLM8bwrktL",
    "outputId": "d33fe746-3f80-4d86-9e88-4d989b1c9a34"
   },
   "outputs": [
    {
     "data": {
      "text/html": [
       "<div>\n",
       "<style scoped>\n",
       "    .dataframe tbody tr th:only-of-type {\n",
       "        vertical-align: middle;\n",
       "    }\n",
       "\n",
       "    .dataframe tbody tr th {\n",
       "        vertical-align: top;\n",
       "    }\n",
       "\n",
       "    .dataframe thead th {\n",
       "        text-align: right;\n",
       "    }\n",
       "</style>\n",
       "<table border=\"1\" class=\"dataframe\">\n",
       "  <thead>\n",
       "    <tr style=\"text-align: right;\">\n",
       "      <th></th>\n",
       "      <th>location</th>\n",
       "      <th>continent</th>\n",
       "      <th>population</th>\n",
       "      <th>life_expectancy</th>\n",
       "      <th>hospital_beds_per_thousand</th>\n",
       "      <th>gdp_per_capita</th>\n",
       "      <th>gdp</th>\n",
       "      <th>total_cases</th>\n",
       "      <th>total_deaths</th>\n",
       "      <th>total_tests</th>\n",
       "      <th>tests_per_million</th>\n",
       "      <th>cases_per_million</th>\n",
       "      <th>deaths_per_million</th>\n",
       "    </tr>\n",
       "  </thead>\n",
       "  <tbody>\n",
       "    <tr>\n",
       "      <th>162</th>\n",
       "      <td>San Marino</td>\n",
       "      <td>Europe</td>\n",
       "      <td>33938.0</td>\n",
       "      <td>84.97</td>\n",
       "      <td>3.80</td>\n",
       "      <td>56861.470</td>\n",
       "      <td>1.929765e+09</td>\n",
       "      <td>735.0</td>\n",
       "      <td>42.0</td>\n",
       "      <td>NaN</td>\n",
       "      <td>NaN</td>\n",
       "      <td>21657.139490</td>\n",
       "      <td>1237.550828</td>\n",
       "    </tr>\n",
       "    <tr>\n",
       "      <th>150</th>\n",
       "      <td>Peru</td>\n",
       "      <td>South America</td>\n",
       "      <td>32971846.0</td>\n",
       "      <td>76.74</td>\n",
       "      <td>1.60</td>\n",
       "      <td>12236.706</td>\n",
       "      <td>4.034668e+11</td>\n",
       "      <td>663437.0</td>\n",
       "      <td>29259.0</td>\n",
       "      <td>584232.0</td>\n",
       "      <td>17719.117092</td>\n",
       "      <td>20121.318048</td>\n",
       "      <td>887.393445</td>\n",
       "    </tr>\n",
       "    <tr>\n",
       "      <th>18</th>\n",
       "      <td>Belgium</td>\n",
       "      <td>Europe</td>\n",
       "      <td>11589616.0</td>\n",
       "      <td>81.63</td>\n",
       "      <td>5.64</td>\n",
       "      <td>42658.576</td>\n",
       "      <td>4.943965e+11</td>\n",
       "      <td>85817.0</td>\n",
       "      <td>9898.0</td>\n",
       "      <td>2281853.0</td>\n",
       "      <td>196887.713967</td>\n",
       "      <td>7404.645676</td>\n",
       "      <td>854.040375</td>\n",
       "    </tr>\n",
       "    <tr>\n",
       "      <th>3</th>\n",
       "      <td>Andorra</td>\n",
       "      <td>Europe</td>\n",
       "      <td>77265.0</td>\n",
       "      <td>83.73</td>\n",
       "      <td>NaN</td>\n",
       "      <td>NaN</td>\n",
       "      <td>NaN</td>\n",
       "      <td>1199.0</td>\n",
       "      <td>53.0</td>\n",
       "      <td>NaN</td>\n",
       "      <td>NaN</td>\n",
       "      <td>15518.022390</td>\n",
       "      <td>685.950948</td>\n",
       "    </tr>\n",
       "    <tr>\n",
       "      <th>177</th>\n",
       "      <td>Spain</td>\n",
       "      <td>Europe</td>\n",
       "      <td>46754783.0</td>\n",
       "      <td>83.56</td>\n",
       "      <td>2.97</td>\n",
       "      <td>34272.360</td>\n",
       "      <td>1.602397e+12</td>\n",
       "      <td>479554.0</td>\n",
       "      <td>29194.0</td>\n",
       "      <td>6416533.0</td>\n",
       "      <td>137238.001939</td>\n",
       "      <td>10256.790198</td>\n",
       "      <td>624.406705</td>\n",
       "    </tr>\n",
       "    <tr>\n",
       "      <th>198</th>\n",
       "      <td>United Kingdom</td>\n",
       "      <td>Europe</td>\n",
       "      <td>67886004.0</td>\n",
       "      <td>81.32</td>\n",
       "      <td>2.54</td>\n",
       "      <td>39753.244</td>\n",
       "      <td>2.698689e+12</td>\n",
       "      <td>338676.0</td>\n",
       "      <td>41514.0</td>\n",
       "      <td>13447568.0</td>\n",
       "      <td>198090.434075</td>\n",
       "      <td>4988.892850</td>\n",
       "      <td>611.525168</td>\n",
       "    </tr>\n",
       "    <tr>\n",
       "      <th>40</th>\n",
       "      <td>Chile</td>\n",
       "      <td>South America</td>\n",
       "      <td>19116209.0</td>\n",
       "      <td>80.18</td>\n",
       "      <td>2.11</td>\n",
       "      <td>22767.037</td>\n",
       "      <td>4.352194e+11</td>\n",
       "      <td>414739.0</td>\n",
       "      <td>11344.0</td>\n",
       "      <td>2458762.0</td>\n",
       "      <td>128621.841287</td>\n",
       "      <td>21695.671982</td>\n",
       "      <td>593.423100</td>\n",
       "    </tr>\n",
       "    <tr>\n",
       "      <th>97</th>\n",
       "      <td>Italy</td>\n",
       "      <td>Europe</td>\n",
       "      <td>60461828.0</td>\n",
       "      <td>83.51</td>\n",
       "      <td>3.18</td>\n",
       "      <td>35220.084</td>\n",
       "      <td>2.129471e+12</td>\n",
       "      <td>271515.0</td>\n",
       "      <td>35497.0</td>\n",
       "      <td>5214766.0</td>\n",
       "      <td>86248.897403</td>\n",
       "      <td>4490.684602</td>\n",
       "      <td>587.097697</td>\n",
       "    </tr>\n",
       "    <tr>\n",
       "      <th>27</th>\n",
       "      <td>Brazil</td>\n",
       "      <td>South America</td>\n",
       "      <td>212559409.0</td>\n",
       "      <td>75.88</td>\n",
       "      <td>2.20</td>\n",
       "      <td>14103.452</td>\n",
       "      <td>2.997821e+12</td>\n",
       "      <td>3997865.0</td>\n",
       "      <td>123780.0</td>\n",
       "      <td>4797948.0</td>\n",
       "      <td>22572.268255</td>\n",
       "      <td>18808.224105</td>\n",
       "      <td>582.331314</td>\n",
       "    </tr>\n",
       "    <tr>\n",
       "      <th>182</th>\n",
       "      <td>Sweden</td>\n",
       "      <td>Europe</td>\n",
       "      <td>10099270.0</td>\n",
       "      <td>82.80</td>\n",
       "      <td>2.22</td>\n",
       "      <td>46949.283</td>\n",
       "      <td>4.741535e+11</td>\n",
       "      <td>84532.0</td>\n",
       "      <td>5820.0</td>\n",
       "      <td>NaN</td>\n",
       "      <td>NaN</td>\n",
       "      <td>8370.109919</td>\n",
       "      <td>576.279276</td>\n",
       "    </tr>\n",
       "  </tbody>\n",
       "</table>\n",
       "</div>"
      ],
      "text/plain": [
       "           location      continent  ...  cases_per_million  deaths_per_million\n",
       "162      San Marino         Europe  ...       21657.139490         1237.550828\n",
       "150            Peru  South America  ...       20121.318048          887.393445\n",
       "18          Belgium         Europe  ...        7404.645676          854.040375\n",
       "3           Andorra         Europe  ...       15518.022390          685.950948\n",
       "177           Spain         Europe  ...       10256.790198          624.406705\n",
       "198  United Kingdom         Europe  ...        4988.892850          611.525168\n",
       "40            Chile  South America  ...       21695.671982          593.423100\n",
       "97            Italy         Europe  ...        4490.684602          587.097697\n",
       "27           Brazil  South America  ...       18808.224105          582.331314\n",
       "182          Sweden         Europe  ...        8370.109919          576.279276\n",
       "\n",
       "[10 rows x 13 columns]"
      ]
     },
     "execution_count": 83,
     "metadata": {
      "tags": []
     },
     "output_type": "execute_result"
    }
   ],
   "source": [
    "highest_deaths_df"
   ]
  },
  {
   "cell_type": "code",
   "execution_count": 84,
   "metadata": {
    "colab": {
     "base_uri": "https://localhost:8080/",
     "height": 86
    },
    "executionInfo": {
     "elapsed": 5865,
     "status": "ok",
     "timestamp": 1601114691799,
     "user": {
      "displayName": "Sahil Sao",
      "photoUrl": "https://lh3.googleusercontent.com/a-/AOh14Gg8qtnIEWfY17Wv11en7MX60Lf7--o4RzGsLgN1iA=s64",
      "userId": "16292347190877917467"
     },
     "user_tz": -330
    },
    "id": "VxGq8XqvrktO",
    "outputId": "f315331e-49c3-4aae-ca85-ce6093d67deb"
   },
   "outputs": [
    {
     "name": "stdout",
     "output_type": "stream",
     "text": [
      "[jovian] Detected Colab notebook...\u001b[0m\n",
      "[jovian] Uploading colab notebook to Jovian...\u001b[0m\n",
      "[jovian] Committed successfully! https://jovian.ml/sahilfaizal/pandas-practice-assignment-sahil\u001b[0m\n"
     ]
    },
    {
     "data": {
      "application/vnd.google.colaboratory.intrinsic+json": {
       "type": "string"
      },
      "text/plain": [
       "'https://jovian.ml/sahilfaizal/pandas-practice-assignment-sahil'"
      ]
     },
     "execution_count": 84,
     "metadata": {
      "tags": []
     },
     "output_type": "execute_result"
    }
   ],
   "source": [
    "jovian.commit(project='pandas-practice-assignment-sahil', environment=None)"
   ]
  },
  {
   "cell_type": "markdown",
   "metadata": {
    "id": "nViD-7ibrktS"
   },
   "source": [
    "**(Optional) Q: Count number of countries that feature in both the lists of \"highest number of tests per million\" and \"highest number of cases per million\".**"
   ]
  },
  {
   "cell_type": "code",
   "execution_count": 87,
   "metadata": {
    "executionInfo": {
     "elapsed": 1223,
     "status": "ok",
     "timestamp": 1601114774258,
     "user": {
      "displayName": "Sahil Sao",
      "photoUrl": "https://lh3.googleusercontent.com/a-/AOh14Gg8qtnIEWfY17Wv11en7MX60Lf7--o4RzGsLgN1iA=s64",
      "userId": "16292347190877917467"
     },
     "user_tz": -330
    },
    "id": "9tBPIiNLrktS"
   },
   "outputs": [],
   "source": [
    "total_con = highest_tests_df.location.isin(highest_cases_df.location).sum()"
   ]
  },
  {
   "cell_type": "code",
   "execution_count": 88,
   "metadata": {
    "colab": {
     "base_uri": "https://localhost:8080/",
     "height": 34
    },
    "executionInfo": {
     "elapsed": 1597,
     "status": "ok",
     "timestamp": 1601114793679,
     "user": {
      "displayName": "Sahil Sao",
      "photoUrl": "https://lh3.googleusercontent.com/a-/AOh14Gg8qtnIEWfY17Wv11en7MX60Lf7--o4RzGsLgN1iA=s64",
      "userId": "16292347190877917467"
     },
     "user_tz": -330
    },
    "id": "ZVpXvg0crktW",
    "outputId": "2ecaf592-fb46-41ba-ba24-9894327731fa"
   },
   "outputs": [
    {
     "name": "stdout",
     "output_type": "stream",
     "text": [
      "The total count of the countries is 2\n"
     ]
    }
   ],
   "source": [
    "print ('The total count of the countries is {}'.format(total_con))"
   ]
  },
  {
   "cell_type": "code",
   "execution_count": null,
   "metadata": {
    "executionInfo": {
     "elapsed": 11823,
     "status": "aborted",
     "timestamp": 1601112596778,
     "user": {
      "displayName": "Sahil Sao",
      "photoUrl": "https://lh3.googleusercontent.com/a-/AOh14Gg8qtnIEWfY17Wv11en7MX60Lf7--o4RzGsLgN1iA=s64",
      "userId": "16292347190877917467"
     },
     "user_tz": -330
    },
    "id": "GZReOEpyrktZ"
   },
   "outputs": [],
   "source": []
  },
  {
   "cell_type": "code",
   "execution_count": 89,
   "metadata": {
    "colab": {
     "base_uri": "https://localhost:8080/",
     "height": 86
    },
    "executionInfo": {
     "elapsed": 3544,
     "status": "ok",
     "timestamp": 1601114805202,
     "user": {
      "displayName": "Sahil Sao",
      "photoUrl": "https://lh3.googleusercontent.com/a-/AOh14Gg8qtnIEWfY17Wv11en7MX60Lf7--o4RzGsLgN1iA=s64",
      "userId": "16292347190877917467"
     },
     "user_tz": -330
    },
    "id": "TJ_v_HKvrktd",
    "outputId": "c8b99995-74b9-4911-fd93-719548194d31"
   },
   "outputs": [
    {
     "name": "stdout",
     "output_type": "stream",
     "text": [
      "[jovian] Detected Colab notebook...\u001b[0m\n",
      "[jovian] Uploading colab notebook to Jovian...\u001b[0m\n",
      "[jovian] Committed successfully! https://jovian.ml/sahilfaizal/pandas-practice-assignment-sahil\u001b[0m\n"
     ]
    },
    {
     "data": {
      "application/vnd.google.colaboratory.intrinsic+json": {
       "type": "string"
      },
      "text/plain": [
       "'https://jovian.ml/sahilfaizal/pandas-practice-assignment-sahil'"
      ]
     },
     "execution_count": 89,
     "metadata": {
      "tags": []
     },
     "output_type": "execute_result"
    }
   ],
   "source": [
    "jovian.commit(project='pandas-practice-assignment-sahil', environment=None)"
   ]
  },
  {
   "cell_type": "markdown",
   "metadata": {
    "id": "MkkRtVV4rkth"
   },
   "source": [
    "**(Optional) Q: Count number of countries that feature in both the lists \"20 countries with lowest GDP per capita\" and \"20 countries with the lowest number of hospital beds per thousand population\". Only consider countries with a population higher than 10 million while creating the list.**"
   ]
  },
  {
   "cell_type": "code",
   "execution_count": 90,
   "metadata": {
    "executionInfo": {
     "elapsed": 1141,
     "status": "ok",
     "timestamp": 1601114881687,
     "user": {
      "displayName": "Sahil Sao",
      "photoUrl": "https://lh3.googleusercontent.com/a-/AOh14Gg8qtnIEWfY17Wv11en7MX60Lf7--o4RzGsLgN1iA=s64",
      "userId": "16292347190877917467"
     },
     "user_tz": -330
    },
    "id": "_0btxYuGrkti"
   },
   "outputs": [],
   "source": [
    "lowest_gdp_per_capita = countries_df[countries_df.population > 1e7].sort_values('gdp_per_capita', ascending=True).head(20)"
   ]
  },
  {
   "cell_type": "code",
   "execution_count": 91,
   "metadata": {
    "colab": {
     "base_uri": "https://localhost:8080/",
     "height": 669
    },
    "executionInfo": {
     "elapsed": 1157,
     "status": "ok",
     "timestamp": 1601114887117,
     "user": {
      "displayName": "Sahil Sao",
      "photoUrl": "https://lh3.googleusercontent.com/a-/AOh14Gg8qtnIEWfY17Wv11en7MX60Lf7--o4RzGsLgN1iA=s64",
      "userId": "16292347190877917467"
     },
     "user_tz": -330
    },
    "id": "0k22w-4erktk",
    "outputId": "3dd5b084-8933-4b48-b87a-7dd9559cdee2"
   },
   "outputs": [
    {
     "data": {
      "text/html": [
       "<div>\n",
       "<style scoped>\n",
       "    .dataframe tbody tr th:only-of-type {\n",
       "        vertical-align: middle;\n",
       "    }\n",
       "\n",
       "    .dataframe tbody tr th {\n",
       "        vertical-align: top;\n",
       "    }\n",
       "\n",
       "    .dataframe thead th {\n",
       "        text-align: right;\n",
       "    }\n",
       "</style>\n",
       "<table border=\"1\" class=\"dataframe\">\n",
       "  <thead>\n",
       "    <tr style=\"text-align: right;\">\n",
       "      <th></th>\n",
       "      <th>location</th>\n",
       "      <th>continent</th>\n",
       "      <th>population</th>\n",
       "      <th>life_expectancy</th>\n",
       "      <th>hospital_beds_per_thousand</th>\n",
       "      <th>gdp_per_capita</th>\n",
       "      <th>gdp</th>\n",
       "    </tr>\n",
       "  </thead>\n",
       "  <tbody>\n",
       "    <tr>\n",
       "      <th>32</th>\n",
       "      <td>Burundi</td>\n",
       "      <td>Africa</td>\n",
       "      <td>11890781.0</td>\n",
       "      <td>61.58</td>\n",
       "      <td>0.8</td>\n",
       "      <td>702.225</td>\n",
       "      <td>8.350004e+09</td>\n",
       "    </tr>\n",
       "    <tr>\n",
       "      <th>52</th>\n",
       "      <td>Democratic Republic of Congo</td>\n",
       "      <td>Africa</td>\n",
       "      <td>89561404.0</td>\n",
       "      <td>60.68</td>\n",
       "      <td>NaN</td>\n",
       "      <td>808.133</td>\n",
       "      <td>7.237753e+10</td>\n",
       "    </tr>\n",
       "    <tr>\n",
       "      <th>140</th>\n",
       "      <td>Niger</td>\n",
       "      <td>Africa</td>\n",
       "      <td>24206636.0</td>\n",
       "      <td>62.42</td>\n",
       "      <td>0.3</td>\n",
       "      <td>926.000</td>\n",
       "      <td>2.241534e+10</td>\n",
       "    </tr>\n",
       "    <tr>\n",
       "      <th>118</th>\n",
       "      <td>Malawi</td>\n",
       "      <td>Africa</td>\n",
       "      <td>19129955.0</td>\n",
       "      <td>64.26</td>\n",
       "      <td>1.3</td>\n",
       "      <td>1095.042</td>\n",
       "      <td>2.094810e+10</td>\n",
       "    </tr>\n",
       "    <tr>\n",
       "      <th>132</th>\n",
       "      <td>Mozambique</td>\n",
       "      <td>Africa</td>\n",
       "      <td>31255435.0</td>\n",
       "      <td>60.85</td>\n",
       "      <td>0.7</td>\n",
       "      <td>1136.103</td>\n",
       "      <td>3.550939e+10</td>\n",
       "    </tr>\n",
       "    <tr>\n",
       "      <th>117</th>\n",
       "      <td>Madagascar</td>\n",
       "      <td>Africa</td>\n",
       "      <td>27691019.0</td>\n",
       "      <td>67.04</td>\n",
       "      <td>0.2</td>\n",
       "      <td>1416.440</td>\n",
       "      <td>3.922267e+10</td>\n",
       "    </tr>\n",
       "    <tr>\n",
       "      <th>207</th>\n",
       "      <td>Yemen</td>\n",
       "      <td>Asia</td>\n",
       "      <td>29825968.0</td>\n",
       "      <td>66.12</td>\n",
       "      <td>0.7</td>\n",
       "      <td>1479.147</td>\n",
       "      <td>4.411699e+10</td>\n",
       "    </tr>\n",
       "    <tr>\n",
       "      <th>176</th>\n",
       "      <td>South Sudan</td>\n",
       "      <td>Africa</td>\n",
       "      <td>11193729.0</td>\n",
       "      <td>57.85</td>\n",
       "      <td>NaN</td>\n",
       "      <td>1569.888</td>\n",
       "      <td>1.757290e+10</td>\n",
       "    </tr>\n",
       "    <tr>\n",
       "      <th>85</th>\n",
       "      <td>Haiti</td>\n",
       "      <td>North America</td>\n",
       "      <td>11402533.0</td>\n",
       "      <td>64.00</td>\n",
       "      <td>0.7</td>\n",
       "      <td>1653.173</td>\n",
       "      <td>1.885036e+10</td>\n",
       "    </tr>\n",
       "    <tr>\n",
       "      <th>195</th>\n",
       "      <td>Uganda</td>\n",
       "      <td>Africa</td>\n",
       "      <td>45741000.0</td>\n",
       "      <td>63.37</td>\n",
       "      <td>0.5</td>\n",
       "      <td>1697.707</td>\n",
       "      <td>7.765482e+10</td>\n",
       "    </tr>\n",
       "    <tr>\n",
       "      <th>31</th>\n",
       "      <td>Burkina Faso</td>\n",
       "      <td>Africa</td>\n",
       "      <td>20903278.0</td>\n",
       "      <td>61.58</td>\n",
       "      <td>0.4</td>\n",
       "      <td>1703.102</td>\n",
       "      <td>3.560041e+10</td>\n",
       "    </tr>\n",
       "    <tr>\n",
       "      <th>63</th>\n",
       "      <td>Ethiopia</td>\n",
       "      <td>Africa</td>\n",
       "      <td>114963583.0</td>\n",
       "      <td>66.60</td>\n",
       "      <td>0.3</td>\n",
       "      <td>1729.927</td>\n",
       "      <td>1.988786e+11</td>\n",
       "    </tr>\n",
       "    <tr>\n",
       "      <th>39</th>\n",
       "      <td>Chad</td>\n",
       "      <td>Africa</td>\n",
       "      <td>16425859.0</td>\n",
       "      <td>54.24</td>\n",
       "      <td>NaN</td>\n",
       "      <td>1768.153</td>\n",
       "      <td>2.904343e+10</td>\n",
       "    </tr>\n",
       "    <tr>\n",
       "      <th>0</th>\n",
       "      <td>Afghanistan</td>\n",
       "      <td>Asia</td>\n",
       "      <td>38928341.0</td>\n",
       "      <td>64.83</td>\n",
       "      <td>0.5</td>\n",
       "      <td>1803.987</td>\n",
       "      <td>7.022622e+10</td>\n",
       "    </tr>\n",
       "    <tr>\n",
       "      <th>158</th>\n",
       "      <td>Rwanda</td>\n",
       "      <td>Africa</td>\n",
       "      <td>12952209.0</td>\n",
       "      <td>69.02</td>\n",
       "      <td>NaN</td>\n",
       "      <td>1854.211</td>\n",
       "      <td>2.401613e+10</td>\n",
       "    </tr>\n",
       "    <tr>\n",
       "      <th>209</th>\n",
       "      <td>Zimbabwe</td>\n",
       "      <td>Africa</td>\n",
       "      <td>14862927.0</td>\n",
       "      <td>61.49</td>\n",
       "      <td>1.7</td>\n",
       "      <td>1899.775</td>\n",
       "      <td>2.823622e+10</td>\n",
       "    </tr>\n",
       "    <tr>\n",
       "      <th>82</th>\n",
       "      <td>Guinea</td>\n",
       "      <td>Africa</td>\n",
       "      <td>13132792.0</td>\n",
       "      <td>61.60</td>\n",
       "      <td>0.3</td>\n",
       "      <td>1998.926</td>\n",
       "      <td>2.625148e+10</td>\n",
       "    </tr>\n",
       "    <tr>\n",
       "      <th>121</th>\n",
       "      <td>Mali</td>\n",
       "      <td>Africa</td>\n",
       "      <td>20250834.0</td>\n",
       "      <td>59.31</td>\n",
       "      <td>0.1</td>\n",
       "      <td>2014.306</td>\n",
       "      <td>4.079138e+10</td>\n",
       "    </tr>\n",
       "    <tr>\n",
       "      <th>20</th>\n",
       "      <td>Benin</td>\n",
       "      <td>Africa</td>\n",
       "      <td>12123198.0</td>\n",
       "      <td>61.77</td>\n",
       "      <td>0.5</td>\n",
       "      <td>2064.236</td>\n",
       "      <td>2.502514e+10</td>\n",
       "    </tr>\n",
       "    <tr>\n",
       "      <th>135</th>\n",
       "      <td>Nepal</td>\n",
       "      <td>Asia</td>\n",
       "      <td>29136808.0</td>\n",
       "      <td>70.78</td>\n",
       "      <td>0.3</td>\n",
       "      <td>2442.804</td>\n",
       "      <td>7.117551e+10</td>\n",
       "    </tr>\n",
       "  </tbody>\n",
       "</table>\n",
       "</div>"
      ],
      "text/plain": [
       "                         location      continent  ...  gdp_per_capita           gdp\n",
       "32                        Burundi         Africa  ...         702.225  8.350004e+09\n",
       "52   Democratic Republic of Congo         Africa  ...         808.133  7.237753e+10\n",
       "140                         Niger         Africa  ...         926.000  2.241534e+10\n",
       "118                        Malawi         Africa  ...        1095.042  2.094810e+10\n",
       "132                    Mozambique         Africa  ...        1136.103  3.550939e+10\n",
       "117                    Madagascar         Africa  ...        1416.440  3.922267e+10\n",
       "207                         Yemen           Asia  ...        1479.147  4.411699e+10\n",
       "176                   South Sudan         Africa  ...        1569.888  1.757290e+10\n",
       "85                          Haiti  North America  ...        1653.173  1.885036e+10\n",
       "195                        Uganda         Africa  ...        1697.707  7.765482e+10\n",
       "31                   Burkina Faso         Africa  ...        1703.102  3.560041e+10\n",
       "63                       Ethiopia         Africa  ...        1729.927  1.988786e+11\n",
       "39                           Chad         Africa  ...        1768.153  2.904343e+10\n",
       "0                     Afghanistan           Asia  ...        1803.987  7.022622e+10\n",
       "158                        Rwanda         Africa  ...        1854.211  2.401613e+10\n",
       "209                      Zimbabwe         Africa  ...        1899.775  2.823622e+10\n",
       "82                         Guinea         Africa  ...        1998.926  2.625148e+10\n",
       "121                          Mali         Africa  ...        2014.306  4.079138e+10\n",
       "20                          Benin         Africa  ...        2064.236  2.502514e+10\n",
       "135                         Nepal           Asia  ...        2442.804  7.117551e+10\n",
       "\n",
       "[20 rows x 7 columns]"
      ]
     },
     "execution_count": 91,
     "metadata": {
      "tags": []
     },
     "output_type": "execute_result"
    }
   ],
   "source": [
    "lowest_gdp_per_capita"
   ]
  },
  {
   "cell_type": "code",
   "execution_count": 92,
   "metadata": {
    "executionInfo": {
     "elapsed": 1078,
     "status": "ok",
     "timestamp": 1601114968205,
     "user": {
      "displayName": "Sahil Sao",
      "photoUrl": "https://lh3.googleusercontent.com/a-/AOh14Gg8qtnIEWfY17Wv11en7MX60Lf7--o4RzGsLgN1iA=s64",
      "userId": "16292347190877917467"
     },
     "user_tz": -330
    },
    "id": "7TezWA-5rktn"
   },
   "outputs": [],
   "source": [
    "lowest_hosp_bed = countries_df[countries_df.population>1e7].sort_values('hospital_beds_per_thousand', ascending=True).head(20)"
   ]
  },
  {
   "cell_type": "code",
   "execution_count": 93,
   "metadata": {
    "colab": {
     "base_uri": "https://localhost:8080/",
     "height": 669
    },
    "executionInfo": {
     "elapsed": 1632,
     "status": "ok",
     "timestamp": 1601114983778,
     "user": {
      "displayName": "Sahil Sao",
      "photoUrl": "https://lh3.googleusercontent.com/a-/AOh14Gg8qtnIEWfY17Wv11en7MX60Lf7--o4RzGsLgN1iA=s64",
      "userId": "16292347190877917467"
     },
     "user_tz": -330
    },
    "id": "ugsHSH8u46JZ",
    "outputId": "682af8e0-b6bc-4d5c-d5f2-aad8e4e9da16"
   },
   "outputs": [
    {
     "data": {
      "text/html": [
       "<div>\n",
       "<style scoped>\n",
       "    .dataframe tbody tr th:only-of-type {\n",
       "        vertical-align: middle;\n",
       "    }\n",
       "\n",
       "    .dataframe tbody tr th {\n",
       "        vertical-align: top;\n",
       "    }\n",
       "\n",
       "    .dataframe thead th {\n",
       "        text-align: right;\n",
       "    }\n",
       "</style>\n",
       "<table border=\"1\" class=\"dataframe\">\n",
       "  <thead>\n",
       "    <tr style=\"text-align: right;\">\n",
       "      <th></th>\n",
       "      <th>location</th>\n",
       "      <th>continent</th>\n",
       "      <th>population</th>\n",
       "      <th>life_expectancy</th>\n",
       "      <th>hospital_beds_per_thousand</th>\n",
       "      <th>gdp_per_capita</th>\n",
       "      <th>gdp</th>\n",
       "    </tr>\n",
       "  </thead>\n",
       "  <tbody>\n",
       "    <tr>\n",
       "      <th>121</th>\n",
       "      <td>Mali</td>\n",
       "      <td>Africa</td>\n",
       "      <td>2.025083e+07</td>\n",
       "      <td>59.31</td>\n",
       "      <td>0.10</td>\n",
       "      <td>2014.306</td>\n",
       "      <td>4.079138e+10</td>\n",
       "    </tr>\n",
       "    <tr>\n",
       "      <th>117</th>\n",
       "      <td>Madagascar</td>\n",
       "      <td>Africa</td>\n",
       "      <td>2.769102e+07</td>\n",
       "      <td>67.04</td>\n",
       "      <td>0.20</td>\n",
       "      <td>1416.440</td>\n",
       "      <td>3.922267e+10</td>\n",
       "    </tr>\n",
       "    <tr>\n",
       "      <th>140</th>\n",
       "      <td>Niger</td>\n",
       "      <td>Africa</td>\n",
       "      <td>2.420664e+07</td>\n",
       "      <td>62.42</td>\n",
       "      <td>0.30</td>\n",
       "      <td>926.000</td>\n",
       "      <td>2.241534e+10</td>\n",
       "    </tr>\n",
       "    <tr>\n",
       "      <th>135</th>\n",
       "      <td>Nepal</td>\n",
       "      <td>Asia</td>\n",
       "      <td>2.913681e+07</td>\n",
       "      <td>70.78</td>\n",
       "      <td>0.30</td>\n",
       "      <td>2442.804</td>\n",
       "      <td>7.117551e+10</td>\n",
       "    </tr>\n",
       "    <tr>\n",
       "      <th>82</th>\n",
       "      <td>Guinea</td>\n",
       "      <td>Africa</td>\n",
       "      <td>1.313279e+07</td>\n",
       "      <td>61.60</td>\n",
       "      <td>0.30</td>\n",
       "      <td>1998.926</td>\n",
       "      <td>2.625148e+10</td>\n",
       "    </tr>\n",
       "    <tr>\n",
       "      <th>63</th>\n",
       "      <td>Ethiopia</td>\n",
       "      <td>Africa</td>\n",
       "      <td>1.149636e+08</td>\n",
       "      <td>66.60</td>\n",
       "      <td>0.30</td>\n",
       "      <td>1729.927</td>\n",
       "      <td>1.988786e+11</td>\n",
       "    </tr>\n",
       "    <tr>\n",
       "      <th>31</th>\n",
       "      <td>Burkina Faso</td>\n",
       "      <td>Africa</td>\n",
       "      <td>2.090328e+07</td>\n",
       "      <td>61.58</td>\n",
       "      <td>0.40</td>\n",
       "      <td>1703.102</td>\n",
       "      <td>3.560041e+10</td>\n",
       "    </tr>\n",
       "    <tr>\n",
       "      <th>195</th>\n",
       "      <td>Uganda</td>\n",
       "      <td>Africa</td>\n",
       "      <td>4.574100e+07</td>\n",
       "      <td>63.37</td>\n",
       "      <td>0.50</td>\n",
       "      <td>1697.707</td>\n",
       "      <td>7.765482e+10</td>\n",
       "    </tr>\n",
       "    <tr>\n",
       "      <th>0</th>\n",
       "      <td>Afghanistan</td>\n",
       "      <td>Asia</td>\n",
       "      <td>3.892834e+07</td>\n",
       "      <td>64.83</td>\n",
       "      <td>0.50</td>\n",
       "      <td>1803.987</td>\n",
       "      <td>7.022622e+10</td>\n",
       "    </tr>\n",
       "    <tr>\n",
       "      <th>20</th>\n",
       "      <td>Benin</td>\n",
       "      <td>Africa</td>\n",
       "      <td>1.212320e+07</td>\n",
       "      <td>61.77</td>\n",
       "      <td>0.50</td>\n",
       "      <td>2064.236</td>\n",
       "      <td>2.502514e+10</td>\n",
       "    </tr>\n",
       "    <tr>\n",
       "      <th>90</th>\n",
       "      <td>India</td>\n",
       "      <td>Asia</td>\n",
       "      <td>1.380004e+09</td>\n",
       "      <td>69.66</td>\n",
       "      <td>0.53</td>\n",
       "      <td>6426.674</td>\n",
       "      <td>8.868838e+12</td>\n",
       "    </tr>\n",
       "    <tr>\n",
       "      <th>80</th>\n",
       "      <td>Guatemala</td>\n",
       "      <td>North America</td>\n",
       "      <td>1.791557e+07</td>\n",
       "      <td>74.30</td>\n",
       "      <td>0.60</td>\n",
       "      <td>7423.808</td>\n",
       "      <td>1.330017e+11</td>\n",
       "    </tr>\n",
       "    <tr>\n",
       "      <th>145</th>\n",
       "      <td>Pakistan</td>\n",
       "      <td>Asia</td>\n",
       "      <td>2.208923e+08</td>\n",
       "      <td>67.27</td>\n",
       "      <td>0.60</td>\n",
       "      <td>5034.708</td>\n",
       "      <td>1.112128e+12</td>\n",
       "    </tr>\n",
       "    <tr>\n",
       "      <th>85</th>\n",
       "      <td>Haiti</td>\n",
       "      <td>North America</td>\n",
       "      <td>1.140253e+07</td>\n",
       "      <td>64.00</td>\n",
       "      <td>0.70</td>\n",
       "      <td>1653.173</td>\n",
       "      <td>1.885036e+10</td>\n",
       "    </tr>\n",
       "    <tr>\n",
       "      <th>207</th>\n",
       "      <td>Yemen</td>\n",
       "      <td>Asia</td>\n",
       "      <td>2.982597e+07</td>\n",
       "      <td>66.12</td>\n",
       "      <td>0.70</td>\n",
       "      <td>1479.147</td>\n",
       "      <td>4.411699e+10</td>\n",
       "    </tr>\n",
       "    <tr>\n",
       "      <th>187</th>\n",
       "      <td>Tanzania</td>\n",
       "      <td>Africa</td>\n",
       "      <td>5.973421e+07</td>\n",
       "      <td>65.46</td>\n",
       "      <td>0.70</td>\n",
       "      <td>2683.304</td>\n",
       "      <td>1.602851e+11</td>\n",
       "    </tr>\n",
       "    <tr>\n",
       "      <th>132</th>\n",
       "      <td>Mozambique</td>\n",
       "      <td>Africa</td>\n",
       "      <td>3.125544e+07</td>\n",
       "      <td>60.85</td>\n",
       "      <td>0.70</td>\n",
       "      <td>1136.103</td>\n",
       "      <td>3.550939e+10</td>\n",
       "    </tr>\n",
       "    <tr>\n",
       "      <th>32</th>\n",
       "      <td>Burundi</td>\n",
       "      <td>Africa</td>\n",
       "      <td>1.189078e+07</td>\n",
       "      <td>61.58</td>\n",
       "      <td>0.80</td>\n",
       "      <td>702.225</td>\n",
       "      <td>8.350004e+09</td>\n",
       "    </tr>\n",
       "    <tr>\n",
       "      <th>33</th>\n",
       "      <td>Cambodia</td>\n",
       "      <td>Asia</td>\n",
       "      <td>1.671897e+07</td>\n",
       "      <td>69.82</td>\n",
       "      <td>0.80</td>\n",
       "      <td>3645.070</td>\n",
       "      <td>6.094182e+10</td>\n",
       "    </tr>\n",
       "    <tr>\n",
       "      <th>204</th>\n",
       "      <td>Venezuela</td>\n",
       "      <td>South America</td>\n",
       "      <td>2.843594e+07</td>\n",
       "      <td>72.06</td>\n",
       "      <td>0.80</td>\n",
       "      <td>16745.022</td>\n",
       "      <td>4.761605e+11</td>\n",
       "    </tr>\n",
       "  </tbody>\n",
       "</table>\n",
       "</div>"
      ],
      "text/plain": [
       "         location      continent  ...  gdp_per_capita           gdp\n",
       "121          Mali         Africa  ...        2014.306  4.079138e+10\n",
       "117    Madagascar         Africa  ...        1416.440  3.922267e+10\n",
       "140         Niger         Africa  ...         926.000  2.241534e+10\n",
       "135         Nepal           Asia  ...        2442.804  7.117551e+10\n",
       "82         Guinea         Africa  ...        1998.926  2.625148e+10\n",
       "63       Ethiopia         Africa  ...        1729.927  1.988786e+11\n",
       "31   Burkina Faso         Africa  ...        1703.102  3.560041e+10\n",
       "195        Uganda         Africa  ...        1697.707  7.765482e+10\n",
       "0     Afghanistan           Asia  ...        1803.987  7.022622e+10\n",
       "20          Benin         Africa  ...        2064.236  2.502514e+10\n",
       "90          India           Asia  ...        6426.674  8.868838e+12\n",
       "80      Guatemala  North America  ...        7423.808  1.330017e+11\n",
       "145      Pakistan           Asia  ...        5034.708  1.112128e+12\n",
       "85          Haiti  North America  ...        1653.173  1.885036e+10\n",
       "207         Yemen           Asia  ...        1479.147  4.411699e+10\n",
       "187      Tanzania         Africa  ...        2683.304  1.602851e+11\n",
       "132    Mozambique         Africa  ...        1136.103  3.550939e+10\n",
       "32        Burundi         Africa  ...         702.225  8.350004e+09\n",
       "33       Cambodia           Asia  ...        3645.070  6.094182e+10\n",
       "204     Venezuela  South America  ...       16745.022  4.761605e+11\n",
       "\n",
       "[20 rows x 7 columns]"
      ]
     },
     "execution_count": 93,
     "metadata": {
      "tags": []
     },
     "output_type": "execute_result"
    }
   ],
   "source": [
    "lowest_hosp_bed"
   ]
  },
  {
   "cell_type": "code",
   "execution_count": 95,
   "metadata": {
    "colab": {
     "base_uri": "https://localhost:8080/",
     "height": 54
    },
    "executionInfo": {
     "elapsed": 2186,
     "status": "ok",
     "timestamp": 1601115127361,
     "user": {
      "displayName": "Sahil Sao",
      "photoUrl": "https://lh3.googleusercontent.com/a-/AOh14Gg8qtnIEWfY17Wv11en7MX60Lf7--o4RzGsLgN1iA=s64",
      "userId": "16292347190877917467"
     },
     "user_tz": -330
    },
    "id": "MLJ9E_9m49-N",
    "outputId": "4303551b-2878-4a68-881a-3554b86766cf"
   },
   "outputs": [
    {
     "name": "stdout",
     "output_type": "stream",
     "text": [
      "The total count number of countries that feature in both the lists \"20 countries with lowest GDP per capita\" and \"20 countries with the lowest number of hospital beds per thousand population 14\n"
     ]
    }
   ],
   "source": [
    "total_count = lowest_gdp_per_capita.location.isin(lowest_hosp_bed.location).sum()\n",
    "print ('The total count number of countries that feature in both the lists 20 countries with lowest GDP per capita and the lowest number of hospital beds per thousand population is {}'.format(total_count))"
   ]
  },
  {
   "cell_type": "code",
   "execution_count": null,
   "metadata": {
    "executionInfo": {
     "elapsed": 11778,
     "status": "aborted",
     "timestamp": 1601112596784,
     "user": {
      "displayName": "Sahil Sao",
      "photoUrl": "https://lh3.googleusercontent.com/a-/AOh14Gg8qtnIEWfY17Wv11en7MX60Lf7--o4RzGsLgN1iA=s64",
      "userId": "16292347190877917467"
     },
     "user_tz": -330
    },
    "id": "7yyzofrxrktq"
   },
   "outputs": [],
   "source": [
    "import jovian"
   ]
  },
  {
   "cell_type": "code",
   "execution_count": null,
   "metadata": {
    "executionInfo": {
     "elapsed": 11738,
     "status": "aborted",
     "timestamp": 1601112596785,
     "user": {
      "displayName": "Sahil Sao",
      "photoUrl": "https://lh3.googleusercontent.com/a-/AOh14Gg8qtnIEWfY17Wv11en7MX60Lf7--o4RzGsLgN1iA=s64",
      "userId": "16292347190877917467"
     },
     "user_tz": -330
    },
    "id": "XQEuY1Aerktu"
   },
   "outputs": [],
   "source": [
    "jovian.commit(project='pandas-practice-assignment', environment=None)"
   ]
  },
  {
   "cell_type": "markdown",
   "metadata": {
    "id": "lfZpqFT5rkt9"
   },
   "source": [
    "## Submission \n",
    "\n",
    "Congratulations on making it this far! You've reached the end of this assignment, and you just completed your first real-world data analysis problem. It's time to record one final version of your notebook for submission.\n",
    "\n",
    "Make a submission here by filling the submission form: https://jovian.ml/learn/data-analysis-with-python-zero-to-pandas/assignment/assignment-3-pandas-practice\n",
    "\n",
    "Also make sure to help others on the forum: https://jovian.ml/forum/t/assignment-3-pandas-practice/11225/2"
   ]
  },
  {
   "cell_type": "code",
   "execution_count": null,
   "metadata": {
    "executionInfo": {
     "elapsed": 11727,
     "status": "aborted",
     "timestamp": 1601112596785,
     "user": {
      "displayName": "Sahil Sao",
      "photoUrl": "https://lh3.googleusercontent.com/a-/AOh14Gg8qtnIEWfY17Wv11en7MX60Lf7--o4RzGsLgN1iA=s64",
      "userId": "16292347190877917467"
     },
     "user_tz": -330
    },
    "id": "WW97ZAVtrkt-"
   },
   "outputs": [],
   "source": []
  }
 ],
 "metadata": {
  "colab": {
   "name": "pandas-practice-assignment.ipynb",
   "provenance": []
  },
  "language_info": {
   "codemirror_mode": {
    "name": "ipython",
    "version": 3
   },
   "file_extension": ".py",
   "mimetype": "text/x-python",
   "name": "python",
   "nbconvert_exporter": "python",
   "pygments_lexer": "ipython3",
   "version": "3.8.5"
  }
 },
 "nbformat": 4,
 "nbformat_minor": 0
}