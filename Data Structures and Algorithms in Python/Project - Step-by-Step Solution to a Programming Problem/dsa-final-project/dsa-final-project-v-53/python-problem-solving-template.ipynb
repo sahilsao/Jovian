{
 "cells": [
  {
   "cell_type": "markdown",
   "id": "c64dd991",
   "metadata": {},
   "source": [
    "# Data Structures and Algorithms in Python Final Project\n",
    "\n",
    "_To learn how to use this template, check out the course [\"Data Structures and Algorithms in Python\"](https://jovian.ai/learn/data-structures-and-algorithms-in-python)._\n",
    "\n",
    "\n"
   ]
  },
  {
   "cell_type": "markdown",
   "id": "bead3123",
   "metadata": {},
   "source": [
    "## How to run the code and save your work\n",
    "\n",
    "The recommended way to run this notebook is to click the \"Run\" button at the top of this page, and select \"Run on Binder\". This will run the notebook on [mybinder.org](https://mybinder.org), a free online service for running Jupyter notebooks. \n",
    "\n",
    "This tutorial is an executable [Jupyter notebook](https://jupyter.org). You can _run_ this tutorial and experiment with the code examples in a couple of ways: *using free online resources* (recommended) or *on your computer*.\n",
    "\n",
    "#### Option 1: Running using free online resources (1-click, recommended)\n",
    "\n",
    "The easiest way to start executing the code is to click the **Run** button at the top of this page and select **Run on Binder**. You can also select \"Run on Colab\" or \"Run on Kaggle\", but you'll need to create an account on [Google Colab](https://colab.research.google.com) or [Kaggle](https://kaggle.com) to use these platforms.\n",
    "\n",
    "\n",
    "#### Option 2: Running on your computer locally\n",
    "\n",
    "To run the code on your computer locally, you'll need to set up [Python](https://www.python.org), download the notebook and install the required libraries. We recommend using the [Conda](https://docs.conda.io/projects/conda/en/latest/user-guide/install/) distribution of Python. Click the **Run** button at the top of this page, select the **Run Locally** option, and follow the instructions.\n",
    "\n",
    "#### Saving your work\n",
    "\n",
    "Before staring the assignment, let's save a snapshot of the assignment to your [Jovian](https://jovian.ai) profile, so that you can access it later, and continue your work."
   ]
  },
  {
   "cell_type": "code",
   "execution_count": 117,
   "id": "a07db5be",
   "metadata": {},
   "outputs": [],
   "source": [
    "project_name = \"dsa final project\""
   ]
  },
  {
   "cell_type": "code",
   "execution_count": 118,
   "id": "37ed3bb9",
   "metadata": {},
   "outputs": [],
   "source": [
    "!pip install jovian --upgrade --quiet"
   ]
  },
  {
   "cell_type": "code",
   "execution_count": 119,
   "id": "9f6d8b86",
   "metadata": {},
   "outputs": [],
   "source": [
    "import jovian"
   ]
  },
  {
   "cell_type": "code",
   "execution_count": 120,
   "id": "2eea09d3",
   "metadata": {},
   "outputs": [
    {
     "data": {
      "application/javascript": [
       "window.require && require([\"base/js/namespace\"],function(Jupyter){Jupyter.notebook.save_checkpoint()})"
      ],
      "text/plain": [
       "<IPython.core.display.Javascript object>"
      ]
     },
     "metadata": {},
     "output_type": "display_data"
    },
    {
     "name": "stdout",
     "output_type": "stream",
     "text": [
      "[jovian] Attempting to save notebook..\u001b[0m\n",
      "[jovian] Updating notebook \"sahilfaizal/dsa-final-project\" on https://jovian.ai\u001b[0m\n",
      "[jovian] Uploading notebook..\u001b[0m\n",
      "[jovian] Uploading additional files...\u001b[0m\n",
      "[jovian] Committed successfully! https://jovian.ai/sahilfaizal/dsa-final-project\u001b[0m\n"
     ]
    },
    {
     "data": {
      "text/plain": [
       "'https://jovian.ai/sahilfaizal/dsa-final-project'"
      ]
     },
     "execution_count": 120,
     "metadata": {},
     "output_type": "execute_result"
    }
   ],
   "source": [
    "jovian.commit(project=project_name)"
   ]
  },
  {
   "cell_type": "markdown",
   "id": "b1785b15",
   "metadata": {},
   "source": [
    "## Minimum insertion to form shortest palindrome sequence\n",
    "\n",
    "\n",
    "Given a string S, determine the least number of characters that should be added on to the left side of S so that the complete string becomes a palindrome. \n",
    "\n",
    "\n",
    "Source: https://www.geeksforgeeks.org/minimum-insertions-to-form-shortest-palindrome/"
   ]
  },
  {
   "cell_type": "markdown",
   "id": "a692f261",
   "metadata": {},
   "source": [
    "## The Method\n",
    "\n",
    "Here's the systematic strategy we'll apply for solving problems:\n",
    "\n",
    "1. State the problem clearly. Identify the input & output formats.\n",
    "2. Come up with some example inputs & outputs. Try to cover all edge cases.\n",
    "3. Come up with a correct solution for the problem. State it in plain English.\n",
    "4. Implement the solution and test it using example inputs. Fix bugs, if any.\n",
    "5. Analyze the algorithm's complexity and identify inefficiencies, if any.\n",
    "6. Apply the right technique to overcome the inefficiency. Repeat steps 3 to 6.\n",
    "\n",
    "This approach is explained in detail in [Lesson 1](https://jovian.ai/learn/data-structures-and-algorithms-in-python/lesson/lesson-1-binary-search-linked-lists-and-complexity) of the course. Let's apply this approach step-by-step."
   ]
  },
  {
   "cell_type": "markdown",
   "id": "2ae45256",
   "metadata": {},
   "source": [
    "## Solution\n",
    "\n",
    "\n",
    "### 1. State the problem clearly. Identify the input & output formats.\n",
    "\n",
    "While this problem is stated clearly enough, it's always useful to try and express in your own words, in a way that makes it most clear for you. \n",
    "\n",
    "\n",
    "**Problem**\n",
    "\n",
    "Find the longest palindrome in the set of subsequences for a string. A subsequence is a sequence of characters derived from a string where any character from the original string can be removed. The order of the characters must be maintained.\n",
    "\n",
    "A palindrome is a word that reads the same forwards or backwards. The empty string and a single character are both palindromes as well as the word ABBA\n",
    "\n",
    "<br/>\n",
    "\n",
    "\n",
    "**Input**\n",
    "\n",
    "    S = \"LOL\"\n",
    "\n",
    "\n",
    "**Output**\n",
    "\n",
    "    0\n",
    "    LOL is already a palindrome\n",
    "<br/>\n",
    "\n",
    "**Input**\n",
    "\n",
    "    S = \"JAVA\"\n",
    "**Output**\n",
    "\n",
    "    3\n",
    "    We need to add 3 characters to form AVAJAVA.\n",
    "\n",
    "Based on the above, we can now create a signature of our function:"
   ]
  },
  {
   "cell_type": "code",
   "execution_count": 121,
   "id": "30ff8ec1",
   "metadata": {},
   "outputs": [],
   "source": [
    "# Example function signature\n",
    "# The parameters may change as we explore different solutions\n",
    "\n",
    "def isPalin(str, st, end):\n",
    "   # minimum number of insertions\n",
    "    # on left side to form a palindrome.\n",
    "    pass"
   ]
  },
  {
   "cell_type": "markdown",
   "id": "d95a3669",
   "metadata": {},
   "source": [
    "Save and upload your work before continuing."
   ]
  },
  {
   "cell_type": "code",
   "execution_count": 122,
   "id": "3ac68125",
   "metadata": {},
   "outputs": [],
   "source": [
    "import jovian"
   ]
  },
  {
   "cell_type": "code",
   "execution_count": 123,
   "id": "70845cca",
   "metadata": {},
   "outputs": [
    {
     "data": {
      "application/javascript": [
       "window.require && require([\"base/js/namespace\"],function(Jupyter){Jupyter.notebook.save_checkpoint()})"
      ],
      "text/plain": [
       "<IPython.core.display.Javascript object>"
      ]
     },
     "metadata": {},
     "output_type": "display_data"
    },
    {
     "name": "stdout",
     "output_type": "stream",
     "text": [
      "[jovian] Attempting to save notebook..\u001b[0m\n",
      "[jovian] Updating notebook \"sahilfaizal/dsa-final-project\" on https://jovian.ai\u001b[0m\n",
      "[jovian] Uploading notebook..\u001b[0m\n",
      "[jovian] Uploading additional files...\u001b[0m\n",
      "[jovian] Committed successfully! https://jovian.ai/sahilfaizal/dsa-final-project\u001b[0m\n"
     ]
    },
    {
     "data": {
      "text/plain": [
       "'https://jovian.ai/sahilfaizal/dsa-final-project'"
      ]
     },
     "execution_count": 123,
     "metadata": {},
     "output_type": "execute_result"
    }
   ],
   "source": [
    "jovian.commit()"
   ]
  },
  {
   "cell_type": "markdown",
   "id": "bbf600e8",
   "metadata": {},
   "source": [
    "### 2. Come up with some example inputs & outputs. Try to cover all edge cases.\n",
    "\n",
    "Our function should be able to handle any set of valid inputs we pass into it. Here's a list of some possible variations we might encounter:\n",
    "\n",
    "1. Empty String\n",
    "2. Single character\n",
    "3. The entire string is a palindrome\n",
    "4. Every character is different\n",
    "5. Every character is the same\n",
    "6. A long string with a short palindrome\n",
    "7. A long string with a long palindrome\n",
    "8. Leetcode example bbbab\n",
    "9. Leetcode example cbbd\n",
    "10. The Minimum insertion required to form shortest palindrome sequence\n",
    "\n",
    "\n",
    "\n",
    "\n",
    "We'll express our test cases as dictionaries, to test them easily. Each dictionary will contain 2 keys: `input` (a dictionary itself containing one key for each argument to the function and `output` (the expected result from the function). "
   ]
  },
  {
   "cell_type": "code",
   "execution_count": 124,
   "id": "e46ea274",
   "metadata": {},
   "outputs": [],
   "source": [
    "test0={'input':{\n",
    "\t\t'str':'',\n",
    "\t\t'st':0,\n",
    "\t\t'end':0\n",
    "\t},\n",
    "\t'output':0\n",
    "}\n",
    "\n",
    "test1={'input':{\n",
    "\t\t'str':'x',\n",
    "\t\t'st':0,\n",
    "\t\t'end':1\n",
    "\t},\n",
    "\t'output':1\n",
    "}\n",
    "\n",
    "test2={'input':{\n",
    "\t\t'str':'madam',\n",
    "\t\t'st':0,\n",
    "\t\t'end':5\n",
    "\t},\n",
    "\t'output':5\n",
    "}\n",
    "\n",
    "test3={'input':{\n",
    "\t\t'str':'abcdefg',\n",
    "\t\t'st':0,\n",
    "\t\t'end':7\n",
    "\t},\n",
    "\t'output':1\n",
    "}\n",
    "\n",
    "test4={'input':{\n",
    "\t\t'str':'iiiiiiiiii',\n",
    "\t\t'st':0,\n",
    "\t\t'end':10\n",
    "\t},\n",
    "\t'output':10\n",
    "}\n",
    "\n",
    "test5={'input':{\n",
    "\t\t'str':'amdkoasfmj',\n",
    "\t\t'st':0,\n",
    "\t\t'end':10\n",
    "\t},\n",
    "\t'output':3\n",
    "}\n",
    "\n",
    "test6={'input':{\n",
    "\t\t'str':'amadamimadamjere',\n",
    "\t\t'st':0,\n",
    "\t\t'end':18\n",
    "\t},\n",
    "\t'output':11\n",
    "}\n",
    "\n",
    "test7={'input':{\n",
    "\t\t'str':'bbbab',\n",
    "\t\t'st':0,\n",
    "\t\t'end':5\n",
    "\t},\n",
    "\t'output':4\n",
    "}\n",
    "\n",
    "test8={'input':{\n",
    "\t\t'str':'cbbd',\n",
    "\t\t'st':0,\n",
    "\t\t'end':4\n",
    "\t},\n",
    "\t'output':2\n",
    "}\n",
    "\n",
    "test9={'input':{\n",
    "\t\t'str':'JAVA',\n",
    "\t\t'st':0,\n",
    "\t\t'end':4\n",
    "\t},\n",
    "\t'output':3\n",
    "}\n",
    "tests=[test0,test1,test2,test3,test4,test5,test6,test7,test8,test9]"
   ]
  },
  {
   "cell_type": "markdown",
   "id": "955cf555",
   "metadata": {},
   "source": [
    "Create one test case for each of the scenarios listed above. We'll store our test cases in an array called `tests`."
   ]
  },
  {
   "cell_type": "code",
   "execution_count": 125,
   "id": "c8a20da0",
   "metadata": {},
   "outputs": [
    {
     "data": {
      "text/plain": [
       "[{'input': {'str': '', 'st': 0, 'end': 0}, 'output': 0},\n",
       " {'input': {'str': 'x', 'st': 0, 'end': 1}, 'output': 1},\n",
       " {'input': {'str': 'madam', 'st': 0, 'end': 5}, 'output': 5},\n",
       " {'input': {'str': 'abcdefg', 'st': 0, 'end': 7}, 'output': 1},\n",
       " {'input': {'str': 'iiiiiiiiii', 'st': 0, 'end': 10}, 'output': 10},\n",
       " {'input': {'str': 'amdkoasfmj', 'st': 0, 'end': 10}, 'output': 3},\n",
       " {'input': {'str': 'amadamimadamjere', 'st': 0, 'end': 18}, 'output': 11},\n",
       " {'input': {'str': 'bbbab', 'st': 0, 'end': 5}, 'output': 4},\n",
       " {'input': {'str': 'cbbd', 'st': 0, 'end': 4}, 'output': 2},\n",
       " {'input': {'str': 'JAVA', 'st': 0, 'end': 4}, 'output': 3}]"
      ]
     },
     "execution_count": 125,
     "metadata": {},
     "output_type": "execute_result"
    }
   ],
   "source": [
    "tests"
   ]
  },
  {
   "cell_type": "code",
   "execution_count": null,
   "id": "37fddf5c",
   "metadata": {},
   "outputs": [],
   "source": []
  },
  {
   "cell_type": "code",
   "execution_count": null,
   "id": "46528a7b",
   "metadata": {},
   "outputs": [],
   "source": []
  },
  {
   "cell_type": "code",
   "execution_count": null,
   "id": "6f129819",
   "metadata": {},
   "outputs": [],
   "source": []
  },
  {
   "cell_type": "code",
   "execution_count": null,
   "id": "bf488df2",
   "metadata": {},
   "outputs": [],
   "source": []
  },
  {
   "cell_type": "markdown",
   "id": "e1339d7b",
   "metadata": {},
   "source": [
    "### 3. First Attempt: find the longest palindromic prefix\n",
    "\n",
    "The idea is to find the longest palindromic prefix of given string. The count of characters after the prefix is our answer. The longest palindromic prefix can be found by looping from last char to first char. For example, in “JAVA”, the longest palindromic prefix is “J”, so we need to add remaining 3 at the beginning characters to form palindrome. \n",
    "\n",
    "\n",
    "Let's save and upload our work before continuing.\n",
    "\n",
    "\n"
   ]
  },
  {
   "cell_type": "code",
   "execution_count": 126,
   "id": "d7bd51db",
   "metadata": {},
   "outputs": [
    {
     "data": {
      "application/javascript": [
       "window.require && require([\"base/js/namespace\"],function(Jupyter){Jupyter.notebook.save_checkpoint()})"
      ],
      "text/plain": [
       "<IPython.core.display.Javascript object>"
      ]
     },
     "metadata": {},
     "output_type": "display_data"
    },
    {
     "name": "stdout",
     "output_type": "stream",
     "text": [
      "[jovian] Attempting to save notebook..\u001b[0m\n",
      "[jovian] Updating notebook \"sahilfaizal/dsa-final-project\" on https://jovian.ai\u001b[0m\n",
      "[jovian] Uploading notebook..\u001b[0m\n",
      "[jovian] Uploading additional files...\u001b[0m\n",
      "[jovian] Committed successfully! https://jovian.ai/sahilfaizal/dsa-final-project\u001b[0m\n"
     ]
    },
    {
     "data": {
      "text/plain": [
       "'https://jovian.ai/sahilfaizal/dsa-final-project'"
      ]
     },
     "execution_count": 126,
     "metadata": {},
     "output_type": "execute_result"
    }
   ],
   "source": [
    "jovian.commit()"
   ]
  },
  {
   "cell_type": "markdown",
   "id": "2d7b1ae5",
   "metadata": {},
   "source": [
    "###  4. First Checking the string is palindrome or not\n"
   ]
  },
  {
   "cell_type": "code",
   "execution_count": 127,
   "id": "fd3a97dc",
   "metadata": {},
   "outputs": [
    {
     "name": "stdout",
     "output_type": "stream",
     "text": [
      "Yes\n"
     ]
    }
   ],
   "source": [
    "def isPalin(str):\n",
    " \n",
    "    # Run loop from 0 to len/2\n",
    "    for i in range(0, int(len(str)/2)):\n",
    "        if str[i] != str[len(str)-i-1]:\n",
    "            return False\n",
    "    return True\n",
    " \n",
    "# main function\n",
    "s = \"malayalam\"\n",
    "ans = isPalindrome(s)\n",
    " \n",
    "if (ans):\n",
    "    print(\"Yes\")\n",
    "else:\n",
    "    print(\"No\")"
   ]
  },
  {
   "cell_type": "markdown",
   "id": "f5cb85b7",
   "metadata": {},
   "source": [
    "## Basic Recursion Code\n"
   ]
  },
  {
   "cell_type": "code",
   "execution_count": 128,
   "id": "c7d5754c",
   "metadata": {},
   "outputs": [],
   "source": [
    "def lp(str,st,end):\n",
    "\t# return the longest palindrome within the subsequences of s\n",
    "\t# using recursion\n",
    "\t\n",
    "\tsub=str[st:end]\n",
    "\t#print('lp {} {} {} sub {}'.format(s,i,j,sub))\n",
    "\t\n",
    "\t# handle base cases\n",
    "\tif len(sub)<2:\n",
    "\t\treturn len(sub)\n",
    "\t\t\n",
    "\t# If the first char and the second char are the same, our longest palindrome is \n",
    "\t# 2 plus the longestpalindrome between these chars\n",
    "\tif (sub[0]==sub[-1]):\n",
    "\t\treturn lp(str,st+1,end-1) + 2\n",
    "\t\t\n",
    "\t# chars don't match\n",
    "\topt1=lp(str,st,end-1)\n",
    "\topt2=lp(str,st+1,end)\n",
    "\treturn max(opt1,opt2)"
   ]
  },
  {
   "cell_type": "code",
   "execution_count": null,
   "id": "9cae46fe",
   "metadata": {
    "scrolled": true
   },
   "outputs": [],
   "source": []
  },
  {
   "cell_type": "code",
   "execution_count": null,
   "id": "7295ec88",
   "metadata": {},
   "outputs": [],
   "source": []
  },
  {
   "cell_type": "code",
   "execution_count": null,
   "id": "77319f1a",
   "metadata": {},
   "outputs": [],
   "source": []
  },
  {
   "cell_type": "code",
   "execution_count": null,
   "id": "a6b784eb",
   "metadata": {},
   "outputs": [],
   "source": []
  },
  {
   "cell_type": "markdown",
   "id": "19eee99b",
   "metadata": {},
   "source": [
    "We can test the function by passing the input to it directly or by using the `evaluate_test_case` function from `jovian`."
   ]
  },
  {
   "cell_type": "code",
   "execution_count": 129,
   "id": "a244b74b",
   "metadata": {},
   "outputs": [],
   "source": [
    "from jovian.pythondsa import evaluate_test_case"
   ]
  },
  {
   "cell_type": "code",
   "execution_count": 130,
   "id": "a811b966",
   "metadata": {},
   "outputs": [
    {
     "name": "stdout",
     "output_type": "stream",
     "text": [
      "\n",
      "Input:\n",
      "{'str': 'x', 'st': 0, 'end': 1}\n",
      "\n",
      "Expected Output:\n",
      "1\n",
      "\n",
      "\n",
      "Actual Output:\n",
      "1\n",
      "\n",
      "Execution Time:\n",
      "0.005 ms\n",
      "\n",
      "Test Result:\n",
      "\u001b[92mPASSED\u001b[0m\n",
      "\n"
     ]
    },
    {
     "data": {
      "text/plain": [
       "(1, True, 0.005)"
      ]
     },
     "execution_count": 130,
     "metadata": {},
     "output_type": "execute_result"
    }
   ],
   "source": [
    "evaluate_test_case(lp,test1)"
   ]
  },
  {
   "cell_type": "markdown",
   "id": "cc1403e2",
   "metadata": {},
   "source": [
    "Evaluate your function against all the test cases together using the `evaluate_test_cases` (plural) function from `jovian`."
   ]
  },
  {
   "cell_type": "code",
   "execution_count": 131,
   "id": "a067b980",
   "metadata": {},
   "outputs": [],
   "source": [
    "from jovian.pythondsa import evaluate_test_cases"
   ]
  },
  {
   "cell_type": "code",
   "execution_count": 132,
   "id": "b234094f",
   "metadata": {},
   "outputs": [
    {
     "name": "stdout",
     "output_type": "stream",
     "text": [
      "\n",
      "\u001b[1mTEST CASE #0\u001b[0m\n",
      "\n",
      "Input:\n",
      "{'str': '', 'st': 0, 'end': 0}\n",
      "\n",
      "Expected Output:\n",
      "0\n",
      "\n",
      "\n",
      "Actual Output:\n",
      "0\n",
      "\n",
      "Execution Time:\n",
      "0.006 ms\n",
      "\n",
      "Test Result:\n",
      "\u001b[92mPASSED\u001b[0m\n",
      "\n",
      "\n",
      "\u001b[1mTEST CASE #1\u001b[0m\n",
      "\n",
      "Input:\n",
      "{'str': 'x', 'st': 0, 'end': 1}\n",
      "\n",
      "Expected Output:\n",
      "1\n",
      "\n",
      "\n",
      "Actual Output:\n",
      "1\n",
      "\n",
      "Execution Time:\n",
      "0.004 ms\n",
      "\n",
      "Test Result:\n",
      "\u001b[92mPASSED\u001b[0m\n",
      "\n",
      "\n",
      "\u001b[1mTEST CASE #2\u001b[0m\n",
      "\n",
      "Input:\n",
      "{'str': 'madam', 'st': 0, 'end': 5}\n",
      "\n",
      "Expected Output:\n",
      "5\n",
      "\n",
      "\n",
      "Actual Output:\n",
      "5\n",
      "\n",
      "Execution Time:\n",
      "0.007 ms\n",
      "\n",
      "Test Result:\n",
      "\u001b[92mPASSED\u001b[0m\n",
      "\n",
      "\n",
      "\u001b[1mTEST CASE #3\u001b[0m\n",
      "\n",
      "Input:\n",
      "{'str': 'abcdefg', 'st': 0, 'end': 7}\n",
      "\n",
      "Expected Output:\n",
      "1\n",
      "\n",
      "\n",
      "Actual Output:\n",
      "1\n",
      "\n",
      "Execution Time:\n",
      "0.091 ms\n",
      "\n",
      "Test Result:\n",
      "\u001b[92mPASSED\u001b[0m\n",
      "\n",
      "\n",
      "\u001b[1mTEST CASE #4\u001b[0m\n",
      "\n",
      "Input:\n",
      "{'str': 'iiiiiiiiii', 'st': 0, 'end': 10}\n",
      "\n",
      "Expected Output:\n",
      "10\n",
      "\n",
      "\n",
      "Actual Output:\n",
      "10\n",
      "\n",
      "Execution Time:\n",
      "0.017 ms\n",
      "\n",
      "Test Result:\n",
      "\u001b[92mPASSED\u001b[0m\n",
      "\n",
      "\n",
      "\u001b[1mTEST CASE #5\u001b[0m\n",
      "\n",
      "Input:\n",
      "{'str': 'amdkoasfmj', 'st': 0, 'end': 10}\n",
      "\n",
      "Expected Output:\n",
      "3\n",
      "\n",
      "\n",
      "Actual Output:\n",
      "3\n",
      "\n",
      "Execution Time:\n",
      "0.493 ms\n",
      "\n",
      "Test Result:\n",
      "\u001b[92mPASSED\u001b[0m\n",
      "\n",
      "\n",
      "\u001b[1mTEST CASE #6\u001b[0m\n",
      "\n",
      "Input:\n",
      "{'str': 'amadamimadamjere', 'st': 0, 'end': 18}\n",
      "\n",
      "Expected Output:\n",
      "11\n",
      "\n",
      "\n",
      "Actual Output:\n",
      "11\n",
      "\n",
      "Execution Time:\n",
      "37.61 ms\n",
      "\n",
      "Test Result:\n",
      "\u001b[92mPASSED\u001b[0m\n",
      "\n",
      "\n",
      "\u001b[1mTEST CASE #7\u001b[0m\n",
      "\n",
      "Input:\n",
      "{'str': 'bbbab', 'st': 0, 'end': 5}\n",
      "\n",
      "Expected Output:\n",
      "4\n",
      "\n",
      "\n",
      "Actual Output:\n",
      "4\n",
      "\n",
      "Execution Time:\n",
      "0.007 ms\n",
      "\n",
      "Test Result:\n",
      "\u001b[92mPASSED\u001b[0m\n",
      "\n",
      "\n",
      "\u001b[1mTEST CASE #8\u001b[0m\n",
      "\n",
      "Input:\n",
      "{'str': 'cbbd', 'st': 0, 'end': 4}\n",
      "\n",
      "Expected Output:\n",
      "2\n",
      "\n",
      "\n",
      "Actual Output:\n",
      "2\n",
      "\n",
      "Execution Time:\n",
      "0.007 ms\n",
      "\n",
      "Test Result:\n",
      "\u001b[92mPASSED\u001b[0m\n",
      "\n",
      "\n",
      "\u001b[1mTEST CASE #9\u001b[0m\n",
      "\n",
      "Input:\n",
      "{'str': 'JAVA', 'st': 0, 'end': 4}\n",
      "\n",
      "Expected Output:\n",
      "3\n",
      "\n",
      "\n",
      "Actual Output:\n",
      "3\n",
      "\n",
      "Execution Time:\n",
      "0.006 ms\n",
      "\n",
      "Test Result:\n",
      "\u001b[92mPASSED\u001b[0m\n",
      "\n",
      "\n",
      "\u001b[1mSUMMARY\u001b[0m\n",
      "\n",
      "TOTAL: 10, \u001b[92mPASSED\u001b[0m: 10, \u001b[91mFAILED\u001b[0m: 0\n"
     ]
    },
    {
     "data": {
      "text/plain": [
       "[(0, True, 0.006),\n",
       " (1, True, 0.004),\n",
       " (5, True, 0.007),\n",
       " (1, True, 0.091),\n",
       " (10, True, 0.017),\n",
       " (3, True, 0.493),\n",
       " (11, True, 37.61),\n",
       " (4, True, 0.007),\n",
       " (2, True, 0.007),\n",
       " (3, True, 0.006)]"
      ]
     },
     "execution_count": 132,
     "metadata": {},
     "output_type": "execute_result"
    }
   ],
   "source": [
    "evaluate_test_cases(lp,tests)"
   ]
  },
  {
   "cell_type": "markdown",
   "id": "9a65e47e",
   "metadata": {},
   "source": [
    "Verify that all the test cases were evaluated. We expect them all to fail, since we haven't implemented the function yet.\n",
    "\n",
    "Let's save our work before continuing."
   ]
  },
  {
   "cell_type": "code",
   "execution_count": 133,
   "id": "260c46fd",
   "metadata": {},
   "outputs": [
    {
     "data": {
      "application/javascript": [
       "window.require && require([\"base/js/namespace\"],function(Jupyter){Jupyter.notebook.save_checkpoint()})"
      ],
      "text/plain": [
       "<IPython.core.display.Javascript object>"
      ]
     },
     "metadata": {},
     "output_type": "display_data"
    },
    {
     "name": "stdout",
     "output_type": "stream",
     "text": [
      "[jovian] Attempting to save notebook..\u001b[0m\n",
      "[jovian] Updating notebook \"sahilfaizal/dsa-final-project\" on https://jovian.ai\u001b[0m\n",
      "[jovian] Uploading notebook..\u001b[0m\n",
      "[jovian] Uploading additional files...\u001b[0m\n",
      "[jovian] Committed successfully! https://jovian.ai/sahilfaizal/dsa-final-project\u001b[0m\n"
     ]
    },
    {
     "data": {
      "text/plain": [
       "'https://jovian.ai/sahilfaizal/dsa-final-project'"
      ]
     },
     "execution_count": 133,
     "metadata": {},
     "output_type": "execute_result"
    }
   ],
   "source": [
    "jovian.commit()"
   ]
  },
  {
   "cell_type": "code",
   "execution_count": null,
   "id": "dbdc9930",
   "metadata": {},
   "outputs": [],
   "source": []
  },
  {
   "cell_type": "markdown",
   "id": "e0330772",
   "metadata": {},
   "source": [
    "### 5. Basic Recursion Complexity\n",
    "\n",
    "While iterating over the input string, we have 2 choices for ever element. This is to choose or not choose the element.\n",
    "\n",
    "So for 2 letters, we will have 4 choices, For 3 letters, we will have 8 choices and so on. From this pattern, you can see that we have a time complexity of O(2^N). This is a very bad result because our processing time will increase exponentially as our input size increases.\n",
    "\n",
    "We can do better. See the next section for an improved modification."
   ]
  },
  {
   "cell_type": "code",
   "execution_count": null,
   "id": "615e5472",
   "metadata": {},
   "outputs": [],
   "source": []
  },
  {
   "cell_type": "code",
   "execution_count": null,
   "id": "95df4b61",
   "metadata": {},
   "outputs": [],
   "source": []
  },
  {
   "cell_type": "code",
   "execution_count": null,
   "id": "d94244a7",
   "metadata": {},
   "outputs": [],
   "source": []
  },
  {
   "cell_type": "code",
   "execution_count": 134,
   "id": "89a78d1f",
   "metadata": {},
   "outputs": [
    {
     "data": {
      "application/javascript": [
       "window.require && require([\"base/js/namespace\"],function(Jupyter){Jupyter.notebook.save_checkpoint()})"
      ],
      "text/plain": [
       "<IPython.core.display.Javascript object>"
      ]
     },
     "metadata": {},
     "output_type": "display_data"
    },
    {
     "name": "stdout",
     "output_type": "stream",
     "text": [
      "[jovian] Attempting to save notebook..\u001b[0m\n",
      "[jovian] Updating notebook \"sahilfaizal/dsa-final-project\" on https://jovian.ai\u001b[0m\n",
      "[jovian] Uploading notebook..\u001b[0m\n",
      "[jovian] Uploading additional files...\u001b[0m\n",
      "[jovian] Committed successfully! https://jovian.ai/sahilfaizal/dsa-final-project\u001b[0m\n"
     ]
    },
    {
     "data": {
      "text/plain": [
       "'https://jovian.ai/sahilfaizal/dsa-final-project'"
      ]
     },
     "execution_count": 134,
     "metadata": {},
     "output_type": "execute_result"
    }
   ],
   "source": [
    "jovian.commit()"
   ]
  },
  {
   "cell_type": "markdown",
   "id": "d00e07da",
   "metadata": {},
   "source": []
  },
  {
   "cell_type": "code",
   "execution_count": null,
   "id": "f17e9b59",
   "metadata": {},
   "outputs": [],
   "source": []
  },
  {
   "cell_type": "code",
   "execution_count": null,
   "id": "0b8f0409",
   "metadata": {},
   "outputs": [],
   "source": []
  },
  {
   "cell_type": "code",
   "execution_count": 135,
   "id": "2e4c0964",
   "metadata": {},
   "outputs": [
    {
     "data": {
      "application/javascript": [
       "window.require && require([\"base/js/namespace\"],function(Jupyter){Jupyter.notebook.save_checkpoint()})"
      ],
      "text/plain": [
       "<IPython.core.display.Javascript object>"
      ]
     },
     "metadata": {},
     "output_type": "display_data"
    },
    {
     "name": "stdout",
     "output_type": "stream",
     "text": [
      "[jovian] Attempting to save notebook..\u001b[0m\n",
      "[jovian] Updating notebook \"sahilfaizal/dsa-final-project\" on https://jovian.ai\u001b[0m\n",
      "[jovian] Uploading notebook..\u001b[0m\n",
      "[jovian] Uploading additional files...\u001b[0m\n",
      "[jovian] Committed successfully! https://jovian.ai/sahilfaizal/dsa-final-project\u001b[0m\n"
     ]
    },
    {
     "data": {
      "text/plain": [
       "'https://jovian.ai/sahilfaizal/dsa-final-project'"
      ]
     },
     "execution_count": 135,
     "metadata": {},
     "output_type": "execute_result"
    }
   ],
   "source": [
    "jovian.commit()"
   ]
  },
  {
   "cell_type": "markdown",
   "id": "4f608453",
   "metadata": {},
   "source": [
    "### 7. Use a bottom up dynamic programming approach to reduce the time complexity\n",
    "\n",
    "So far, we have tried 2 recursive solutions, with the 2nd one being an improvement since it eliminates redundant function calls. However, the time complexity is still 2^n.\n",
    "\n",
    "There is a way to solve this problem using a bottom up dynamic programming appraoch. This approach progressively fills in a table with the maximum length of a palindrome existing between 2 indices. It makes use of calculations that have been made previously.\n",
    "\n",
    "The process is as follows:\n",
    "\n",
    "1. Initialise a matrix of N^2 with zeros\n",
    "2. Write 1 in all the cells where x and y are the same. This is because any single character is itself a palindrome with a length of 1\n",
    "3. Examine all substrings with a length between 2 and N\n",
    "4. If the length of the substring is 2 and both characters are the same, then place 2 into the cell for the indices\n",
    "5. If the substring is over 2, but both end characters are equal, add 2 to the previous result\n",
    "6. If the characters are not equal, take the maximum value of the cell to the left or below the current cell.\n",
    "\n",
    "\n",
    "\n",
    "Let's save and upload our work before continuing.\n",
    "\n"
   ]
  },
  {
   "cell_type": "code",
   "execution_count": 136,
   "id": "96c9dff9",
   "metadata": {},
   "outputs": [
    {
     "data": {
      "application/javascript": [
       "window.require && require([\"base/js/namespace\"],function(Jupyter){Jupyter.notebook.save_checkpoint()})"
      ],
      "text/plain": [
       "<IPython.core.display.Javascript object>"
      ]
     },
     "metadata": {},
     "output_type": "display_data"
    },
    {
     "name": "stdout",
     "output_type": "stream",
     "text": [
      "[jovian] Attempting to save notebook..\u001b[0m\n",
      "[jovian] Updating notebook \"sahilfaizal/dsa-final-project\" on https://jovian.ai\u001b[0m\n",
      "[jovian] Uploading notebook..\u001b[0m\n",
      "[jovian] Uploading additional files...\u001b[0m\n",
      "[jovian] Committed successfully! https://jovian.ai/sahilfaizal/dsa-final-project\u001b[0m\n"
     ]
    },
    {
     "data": {
      "text/plain": [
       "'https://jovian.ai/sahilfaizal/dsa-final-project'"
      ]
     },
     "execution_count": 136,
     "metadata": {},
     "output_type": "execute_result"
    }
   ],
   "source": [
    "jovian.commit()"
   ]
  },
  {
   "cell_type": "code",
   "execution_count": null,
   "id": "1d38eee7",
   "metadata": {},
   "outputs": [],
   "source": []
  },
  {
   "cell_type": "code",
   "execution_count": null,
   "id": "1710903b",
   "metadata": {},
   "outputs": [],
   "source": []
  },
  {
   "cell_type": "code",
   "execution_count": null,
   "id": "3d47f80e",
   "metadata": {},
   "outputs": [],
   "source": []
  },
  {
   "cell_type": "markdown",
   "id": "b5569d4b",
   "metadata": {},
   "source": [
    "### 8. Finding the minimum number of insertions, Fix bugs, if any."
   ]
  },
  {
   "cell_type": "code",
   "execution_count": 137,
   "id": "b9ad08c2",
   "metadata": {},
   "outputs": [],
   "source": [
    "def isPalin(str, st, end):\n",
    " \n",
    "    while (st < end):\n",
    "     \n",
    "        if (str[st] != str[end]):\n",
    "            return False\n",
    "        st += 1\n",
    "        end--1\n",
    "     \n",
    "    return True\n",
    " \n",
    "# Returns count of insertions\n",
    "# on left side to make\n",
    "# str[] a palindrome\n",
    "def findMinInsert(str, n):\n",
    " \n",
    "    # Find the largest\n",
    "    # prefix of given string\n",
    "    # that is palindrome.\n",
    "    for i in range(n-1 ,-1, -1):\n",
    "             \n",
    "        # Characters after the\n",
    "        # palindromic prefix must\n",
    "        # be added at the beginning\n",
    "        # also to make the complete\n",
    "        # string palindrome\n",
    "        if (isPalin(str, 0, i)):\n",
    "            return (n - i - 1)\n",
    " \n",
    "# Driver Code\n",
    "Input = \"JAVA\"\n"
   ]
  },
  {
   "cell_type": "code",
   "execution_count": 138,
   "id": "0463e9fb",
   "metadata": {},
   "outputs": [
    {
     "data": {
      "text/plain": [
       "3"
      ]
     },
     "execution_count": 138,
     "metadata": {},
     "output_type": "execute_result"
    }
   ],
   "source": [
    "findMinInsert(Input,len(Input))"
   ]
  },
  {
   "cell_type": "code",
   "execution_count": null,
   "id": "304b1ff6",
   "metadata": {},
   "outputs": [],
   "source": []
  },
  {
   "cell_type": "markdown",
   "id": "f19817c4",
   "metadata": {},
   "source": [
    "Verify that the tests look OK"
   ]
  },
  {
   "cell_type": "code",
   "execution_count": 139,
   "id": "6419f1f3",
   "metadata": {},
   "outputs": [
    {
     "data": {
      "text/plain": [
       "[{'input': {'str': '', 'st': 0, 'end': 0}, 'output': 0},\n",
       " {'input': {'str': 'x', 'st': 0, 'end': 1}, 'output': 1},\n",
       " {'input': {'str': 'madam', 'st': 0, 'end': 5}, 'output': 5},\n",
       " {'input': {'str': 'abcdefg', 'st': 0, 'end': 7}, 'output': 1},\n",
       " {'input': {'str': 'iiiiiiiiii', 'st': 0, 'end': 10}, 'output': 10},\n",
       " {'input': {'str': 'amdkoasfmj', 'st': 0, 'end': 10}, 'output': 3},\n",
       " {'input': {'str': 'amadamimadamjere', 'st': 0, 'end': 18}, 'output': 11},\n",
       " {'input': {'str': 'bbbab', 'st': 0, 'end': 5}, 'output': 4},\n",
       " {'input': {'str': 'cbbd', 'st': 0, 'end': 4}, 'output': 2},\n",
       " {'input': {'str': 'JAVA', 'st': 0, 'end': 4}, 'output': 3}]"
      ]
     },
     "execution_count": 139,
     "metadata": {},
     "output_type": "execute_result"
    }
   ],
   "source": [
    "tests"
   ]
  },
  {
   "cell_type": "code",
   "execution_count": null,
   "id": "6678bfc7",
   "metadata": {},
   "outputs": [],
   "source": []
  },
  {
   "cell_type": "markdown",
   "id": "b448a682",
   "metadata": {},
   "source": [
    "### 9. Analyze the algorithm's complexity and identify inefficiencies, if any."
   ]
  },
  {
   "cell_type": "markdown",
   "id": "ddb8292b",
   "metadata": {},
   "source": [
    "## Time Complexity\n",
    "\n"
   ]
  },
  {
   "cell_type": "markdown",
   "id": "4adfb889",
   "metadata": {},
   "source": [
    "We are traversing through a 2D array of size N², hence the time complexity is O(N²), where N is the size of the string."
   ]
  },
  {
   "cell_type": "markdown",
   "id": "d12cc0ff",
   "metadata": {},
   "source": [
    "## Space Complexity."
   ]
  },
  {
   "cell_type": "markdown",
   "id": "433f4ca4",
   "metadata": {},
   "source": [
    "\n",
    "We are creating a 2D array of size N², hence the space complexity is O(N²), where N is the size of the string."
   ]
  },
  {
   "cell_type": "code",
   "execution_count": null,
   "id": "f926a125",
   "metadata": {},
   "outputs": [],
   "source": []
  },
  {
   "cell_type": "markdown",
   "id": "8849e492",
   "metadata": {},
   "source": [
    "If you found the problem on an external platform, you can make a submission to test your solution.\n",
    "\n",
    "Share your approach and start a discussion on the Jovian forum: https://jovian.ai/forum/c/data-structures-and-algorithms-in-python/78"
   ]
  },
  {
   "cell_type": "code",
   "execution_count": 143,
   "id": "83b0bf83",
   "metadata": {},
   "outputs": [
    {
     "data": {
      "application/javascript": [
       "window.require && require([\"base/js/namespace\"],function(Jupyter){Jupyter.notebook.save_checkpoint()})"
      ],
      "text/plain": [
       "<IPython.core.display.Javascript object>"
      ]
     },
     "metadata": {},
     "output_type": "display_data"
    },
    {
     "name": "stdout",
     "output_type": "stream",
     "text": [
      "[jovian] Attempting to save notebook..\u001b[0m\n",
      "[jovian] Updating notebook \"sahilfaizal/dsa-final-project\" on https://jovian.ai\u001b[0m\n",
      "[jovian] Uploading notebook..\u001b[0m\n",
      "[jovian] Uploading additional files...\u001b[0m\n",
      "[jovian] Committed successfully! https://jovian.ai/sahilfaizal/dsa-final-project\u001b[0m\n"
     ]
    },
    {
     "data": {
      "text/plain": [
       "'https://jovian.ai/sahilfaizal/dsa-final-project'"
      ]
     },
     "execution_count": 143,
     "metadata": {},
     "output_type": "execute_result"
    }
   ],
   "source": [
    "jovian.commit()"
   ]
  },
  {
   "cell_type": "code",
   "execution_count": null,
   "id": "c6e860c6",
   "metadata": {},
   "outputs": [
    {
     "data": {
      "application/javascript": [
       "window.require && require([\"base/js/namespace\"],function(Jupyter){Jupyter.notebook.save_checkpoint()})"
      ],
      "text/plain": [
       "<IPython.core.display.Javascript object>"
      ]
     },
     "metadata": {},
     "output_type": "display_data"
    },
    {
     "name": "stdout",
     "output_type": "stream",
     "text": [
      "[jovian] Attempting to save notebook..\u001b[0m\n"
     ]
    }
   ],
   "source": [
    "jovian.submit(assignment=\"pythondsa-project\")"
   ]
  },
  {
   "cell_type": "code",
   "execution_count": null,
   "id": "64f42b82",
   "metadata": {},
   "outputs": [],
   "source": []
  }
 ],
 "metadata": {
  "language_info": {
   "codemirror_mode": {
    "name": "ipython",
    "version": 3
   },
   "file_extension": ".py",
   "mimetype": "text/x-python",
   "name": "python",
   "nbconvert_exporter": "python",
   "pygments_lexer": "ipython3",
   "version": "3.8.6"
  }
 },
 "nbformat": 4,
 "nbformat_minor": 5
}