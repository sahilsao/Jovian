{
 "cells": [
  {
   "cell_type": "markdown",
   "id": "comfortable-review",
   "metadata": {},
   "source": [
    "# Subarray with Given Sum\n",
    "\n",
    "The following question was asked during a coding interview for Amazon:\n",
    "\n",
    "> You are given an array of numbers (non-negative). Find a continuous subarray of the list which adds up to a given sum. \n",
    "\n",
    "\n",
    "![](https://i.imgur.com/tLEBF7x.png)"
   ]
  },
  {
   "cell_type": "code",
   "execution_count": null,
   "id": "patient-adelaide",
   "metadata": {},
   "outputs": [],
   "source": [
    "# Solve the problem here\n",
    "\n"
   ]
  },
  {
   "cell_type": "code",
   "execution_count": null,
   "id": "sought-norman",
   "metadata": {},
   "outputs": [],
   "source": [
    "# Test the solution here\n",
    "\n"
   ]
  },
  {
   "cell_type": "code",
   "execution_count": null,
   "id": "married-january",
   "metadata": {},
   "outputs": [],
   "source": []
  },
  {
   "cell_type": "code",
   "execution_count": null,
   "id": "unavailable-dairy",
   "metadata": {},
   "outputs": [],
   "source": []
  },
  {
   "cell_type": "code",
   "execution_count": 2,
   "id": "favorite-motorcycle",
   "metadata": {},
   "outputs": [],
   "source": [
    "import jovian"
   ]
  },
  {
   "cell_type": "code",
   "execution_count": null,
   "id": "amino-relay",
   "metadata": {},
   "outputs": [
    {
     "data": {
      "application/javascript": [
       "window.require && require([\"base/js/namespace\"],function(Jupyter){Jupyter.notebook.save_checkpoint()})"
      ],
      "text/plain": [
       "<IPython.core.display.Javascript object>"
      ]
     },
     "metadata": {},
     "output_type": "display_data"
    },
    {
     "name": "stdout",
     "output_type": "stream",
     "text": [
      "[jovian] Attempting to save notebook..\u001b[0m\n"
     ]
    }
   ],
   "source": [
    "jovian.commit()"
   ]
  },
  {
   "cell_type": "code",
   "execution_count": null,
   "id": "patient-mounting",
   "metadata": {},
   "outputs": [],
   "source": []
  },
  {
   "cell_type": "code",
   "execution_count": null,
   "id": "behavioral-thumb",
   "metadata": {},
   "outputs": [],
   "source": []
  },
  {
   "cell_type": "code",
   "execution_count": null,
   "id": "norman-revolution",
   "metadata": {},
   "outputs": [],
   "source": []
  },
  {
   "cell_type": "markdown",
   "id": "indoor-marshall",
   "metadata": {},
   "source": [
    "## Solution\n",
    "\n",
    "Test case:"
   ]
  },
  {
   "cell_type": "code",
   "execution_count": 8,
   "id": "becoming-brooks",
   "metadata": {},
   "outputs": [],
   "source": [
    "arr1 = [1, 7, 4, 2, 1, 3, 11, 5]\n",
    "target1 = 10"
   ]
  },
  {
   "cell_type": "markdown",
   "id": "later-organization",
   "metadata": {},
   "source": [
    "Brute force $O(n^3)$:"
   ]
  },
  {
   "cell_type": "code",
   "execution_count": 16,
   "id": "overall-cornwall",
   "metadata": {},
   "outputs": [],
   "source": [
    "def subarray_sum1(arr, target):\n",
    "    n = len(arr)\n",
    "    for i in range(n):\n",
    "        for j in range(i, n+1):\n",
    "            if sum(arr[i:j]) == target:\n",
    "                return i, j\n",
    "    return None, None"
   ]
  },
  {
   "cell_type": "code",
   "execution_count": 17,
   "id": "conceptual-lincoln",
   "metadata": {},
   "outputs": [
    {
     "data": {
      "text/plain": [
       "(2, 6, [4, 2, 1, 3])"
      ]
     },
     "execution_count": 17,
     "metadata": {},
     "output_type": "execute_result"
    }
   ],
   "source": [
    "i, j = subarray_sum1(arr1, target1)\n",
    "i, j, arr1[i:j]"
   ]
  },
  {
   "cell_type": "markdown",
   "id": "hundred-herald",
   "metadata": {},
   "source": [
    "Better brute force $O(n^2)$:"
   ]
  },
  {
   "cell_type": "code",
   "execution_count": 18,
   "id": "pursuant-connection",
   "metadata": {},
   "outputs": [],
   "source": [
    "def subarray_sum2(arr, target):\n",
    "    n = len(arr)\n",
    "    for i in range(n):\n",
    "        s = 0\n",
    "        for j in range(i, n+1):\n",
    "            if s == target:\n",
    "                return i,j\n",
    "            s += arr[j]\n",
    "    return None, None"
   ]
  },
  {
   "cell_type": "code",
   "execution_count": 19,
   "id": "oriental-exhibition",
   "metadata": {},
   "outputs": [
    {
     "data": {
      "text/plain": [
       "(2, 6, [4, 2, 1, 3])"
      ]
     },
     "execution_count": 19,
     "metadata": {},
     "output_type": "execute_result"
    }
   ],
   "source": [
    "i, j = subarray_sum2(arr1, target1)\n",
    "i, j, arr1[i:j]"
   ]
  },
  {
   "cell_type": "markdown",
   "id": "prime-photograph",
   "metadata": {},
   "source": [
    "Greedy algorithm $O(n)$:"
   ]
  },
  {
   "cell_type": "code",
   "execution_count": 24,
   "id": "round-least",
   "metadata": {},
   "outputs": [],
   "source": [
    "def subarray_sum3(arr, target):\n",
    "    n = len(arr)\n",
    "    i, j, s = 0, 0, 0\n",
    "    while i < n and j <= n:\n",
    "        if s == target:\n",
    "            return i, j\n",
    "        elif s < target:\n",
    "            s += arr[j]\n",
    "            j += 1\n",
    "        elif s > target:\n",
    "            s -= arr[i]\n",
    "            i += 1\n",
    "    return None, None\n",
    "        "
   ]
  },
  {
   "cell_type": "code",
   "execution_count": 25,
   "id": "wrong-walnut",
   "metadata": {},
   "outputs": [
    {
     "data": {
      "text/plain": [
       "(2, 6, [4, 2, 1, 3])"
      ]
     },
     "execution_count": 25,
     "metadata": {},
     "output_type": "execute_result"
    }
   ],
   "source": [
    "i, j = subarray_sum3(arr1, target1)\n",
    "i, j, arr1[i:j]"
   ]
  },
  {
   "cell_type": "code",
   "execution_count": null,
   "id": "administrative-blind",
   "metadata": {},
   "outputs": [],
   "source": []
  }
 ],
 "metadata": {
  "language_info": {
   "codemirror_mode": {
    "name": "ipython",
    "version": 3
   },
   "file_extension": ".py",
   "mimetype": "text/x-python",
   "name": "python",
   "nbconvert_exporter": "python",
   "pygments_lexer": "ipython3",
   "version": "3.6.12"
  }
 },
 "nbformat": 4,
 "nbformat_minor": 5
}